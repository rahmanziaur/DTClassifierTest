{
  "nbformat": 4,
  "nbformat_minor": 0,
  "metadata": {
    "colab": {
      "provenance": [],
      "authorship_tag": "ABX9TyPGbkKws8xwM3W8bANusY7V",
      "include_colab_link": true
    },
    "kernelspec": {
      "name": "python3",
      "display_name": "Python 3"
    },
    "language_info": {
      "name": "python"
    }
  },
  "cells": [
    {
      "cell_type": "markdown",
      "metadata": {
        "id": "view-in-github",
        "colab_type": "text"
      },
      "source": [
        "<a href=\"https://colab.research.google.com/github/rahmanziaur/DTClassifierTest/blob/main/MissingValTestZia.ipynb\" target=\"_parent\"><img src=\"https://colab.research.google.com/assets/colab-badge.svg\" alt=\"Open In Colab\"/></a>"
      ]
    },
    {
      "cell_type": "code",
      "source": [
        "# creating csv dataset with imputation and replacing using KNN\n",
        "# Ref https://scikit-learn.org/stable/modules/impute.html\n",
        "\n",
        "from sklearn.impute import KNNImputer\n",
        "import numpy as np\n",
        "import pandas as pd\n",
        "\n",
        "import csv\n",
        "csv_columns = ['No','Name','Country']\n",
        "dict_data = [\n",
        "{'No': 1, 'Name': 'Alex', 'Country': 'NULL'},\n",
        "{'No': 2, 'Name': 'Ben', 'Country': 'USA'},\n",
        "{'No': 3, 'Name': 'NULL', 'Country': 'India'},\n",
        "{'No': 4, 'Name': 'Smith', 'Country': 'NULL'},\n",
        "{'No': 5, 'Name': 'Yuva Raj', 'Country': 'India'},\n",
        "]\n",
        "csv_file = \"Names.csv\"\n",
        "try:\n",
        "    with open(csv_file, 'w') as csvfile:\n",
        "        writer = csv.DictWriter(csvfile, fieldnames=csv_columns)\n",
        "        writer.writeheader()\n",
        "        for data in dict_data:\n",
        "            writer.writerow(data)\n",
        "except IOError:\n",
        "    print(\"I/O error\")\n",
        "\n",
        "df100 = pd.read_csv('Names.csv')\n",
        "print(\"Original data:\\n\", df100)\n",
        "df100['Name'] = df100['Name'].replace('Alex', 5)\n",
        "df100['Name'] = df100['Name'].replace('Ben', 10)\n",
        "df100['Name'] = df100['Name'].replace('Smith', 15)\n",
        "df100['Name'] = df100['Name'].replace('Yuva Raj', 20)\n",
        "#df100['Name'] = df100['Name'].replace(np.nan, 0)\n",
        "\n",
        "#df100['Country'] = df100['Country'].replace(np.nan, 0)\n",
        "df100['Country'] = df100['Country'].replace('USA', 100)\n",
        "df100['Country'] = df100['Country'].replace('India', 90)\n",
        "\n",
        "df100.to_csv('Names1.csv')\n",
        "\n",
        "\n",
        "df101 = pd.read_csv('Names1.csv')\n",
        "print(\"After Transformation:\\n\", df101)\n",
        "\n",
        "null_data = df101[df101.isnull().any(axis=1)]\n",
        "print(\"Rows with missing values:\\n\",null_data )\n",
        "\n",
        "imputer = KNNImputer(n_neighbors=2)\n",
        "df_filled = imputer.fit_transform(df101)\n",
        "\n",
        "pd.DataFrame(df_filled).to_csv(\"Names2.csv\")\n",
        "#np.savetxt(\"Names2.csv\", df_filled, delimiter=\",\")\n",
        "\n",
        "df102 = pd.read_csv('Names2.csv')\n",
        "print(\"After Imputation:\\n\",df102)"
      ],
      "metadata": {
        "colab": {
          "base_uri": "https://localhost:8080/"
        },
        "id": "CL-98FxAnDcy",
        "outputId": "086645fb-ef89-4631-fcc7-da5205d9bdc7"
      },
      "execution_count": 60,
      "outputs": [
        {
          "output_type": "stream",
          "name": "stdout",
          "text": [
            "Original data:\n",
            "    No      Name Country\n",
            "0   1      Alex     NaN\n",
            "1   2       Ben     USA\n",
            "2   3       NaN   India\n",
            "3   4     Smith     NaN\n",
            "4   5  Yuva Raj   India\n",
            "After Transformation:\n",
            "    Unnamed: 0  No  Name  Country\n",
            "0           0   1   5.0      NaN\n",
            "1           1   2  10.0    100.0\n",
            "2           2   3   NaN     90.0\n",
            "3           3   4  15.0      NaN\n",
            "4           4   5  20.0     90.0\n",
            "Rows with missing values:\n",
            "    Unnamed: 0  No  Name  Country\n",
            "0           0   1   5.0      NaN\n",
            "2           2   3   NaN     90.0\n",
            "3           3   4  15.0      NaN\n",
            "After Imputation:\n",
            "    Unnamed: 0    0    1     2      3\n",
            "0           0  0.0  1.0   5.0   95.0\n",
            "1           1  1.0  2.0  10.0  100.0\n",
            "2           2  2.0  3.0  17.5   90.0\n",
            "3           3  3.0  4.0  15.0   90.0\n",
            "4           4  4.0  5.0  20.0   90.0\n"
          ]
        }
      ]
    }
  ]
}