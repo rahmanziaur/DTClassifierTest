{
  "nbformat": 4,
  "nbformat_minor": 0,
  "metadata": {
    "colab": {
      "provenance": [],
      "authorship_tag": "ABX9TyOsirYmdKDYFfsZm0oVfnkW",
      "include_colab_link": true
    },
    "kernelspec": {
      "name": "python3",
      "display_name": "Python 3"
    },
    "language_info": {
      "name": "python"
    }
  },
  "cells": [
    {
      "cell_type": "markdown",
      "metadata": {
        "id": "view-in-github",
        "colab_type": "text"
      },
      "source": [
        "<a href=\"https://colab.research.google.com/github/rahmanziaur/DTClassifierTest/blob/main/MissingValTestZia.ipynb\" target=\"_parent\"><img src=\"https://colab.research.google.com/assets/colab-badge.svg\" alt=\"Open In Colab\"/></a>"
      ]
    },
    {
      "cell_type": "code",
      "source": [
        "# creating csv dataset with imputation and replacing using KNN\n",
        "# Ref https://scikit-learn.org/stable/modules/impute.html\n",
        "\n",
        "from sklearn.impute import KNNImputer\n",
        "import numpy as np\n",
        "import pandas as pd\n",
        "\n",
        "import csv\n",
        "csv_columns = ['No','Name','Country']\n",
        "dict_data = [\n",
        "{'No': 1, 'Name': 'Alex', 'Country': 'NULL'},\n",
        "{'No': 2, 'Name': 'Ben', 'Country': 'USA'},\n",
        "{'No': 3, 'Name': 'NULL', 'Country': 'India'},\n",
        "{'No': 4, 'Name': 'Smith', 'Country': 'NULL'},\n",
        "{'No': 5, 'Name': 'Yuva Raj', 'Country': 'India'},\n",
        "]\n",
        "csv_file = \"Names.csv\"\n",
        "try:\n",
        "    with open(csv_file, 'w') as csvfile:\n",
        "        writer = csv.DictWriter(csvfile, fieldnames=csv_columns)\n",
        "        writer.writeheader()\n",
        "        for data in dict_data:\n",
        "            writer.writerow(data)\n",
        "except IOError:\n",
        "    print(\"I/O error\")\n",
        "\n",
        "df100 = pd.read_csv('Names.csv')\n",
        "df100['Name'] = df100['Name'].replace('Alex', 5)\n",
        "df100['Name'] = df100['Name'].replace('Ben', 10)\n",
        "df100['Name'] = df100['Name'].replace('Smith', 15)\n",
        "df100['Name'] = df100['Name'].replace('Yuva Raj', 20)\n",
        "#df100['Name'] = df100['Name'].replace(np.nan, 0)\n",
        "\n",
        "#df100['Country'] = df100['Country'].replace(np.nan, 0)\n",
        "df100['Country'] = df100['Country'].replace('USA', 100)\n",
        "df100['Country'] = df100['Country'].replace('India', 90)\n",
        "\n",
        "df100.to_csv('Names1.csv')\n",
        "\n",
        "\n",
        "df101 = pd.read_csv('Names1.csv')\n",
        "imputer = KNNImputer(n_neighbors=2)\n",
        "df_filled = imputer.fit_transform(df101)\n",
        "df_filled"
      ],
      "metadata": {
        "colab": {
          "base_uri": "https://localhost:8080/"
        },
        "id": "CL-98FxAnDcy",
        "outputId": "cfcb3a90-e634-4890-bb88-a2c4cf0a6915"
      },
      "execution_count": 46,
      "outputs": [
        {
          "output_type": "execute_result",
          "data": {
            "text/plain": [
              "array([[  0. ,   1. ,   5. ,  95. ],\n",
              "       [  1. ,   2. ,  10. , 100. ],\n",
              "       [  2. ,   3. ,  17.5,  90. ],\n",
              "       [  3. ,   4. ,  15. ,  90. ],\n",
              "       [  4. ,   5. ,  20. ,  90. ]])"
            ]
          },
          "metadata": {},
          "execution_count": 46
        }
      ]
    }
  ]
}