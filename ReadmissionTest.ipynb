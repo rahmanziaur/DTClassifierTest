{
  "nbformat": 4,
  "nbformat_minor": 0,
  "metadata": {
    "colab": {
      "provenance": [],
      "mount_file_id": "1IFimMSGbF16zmrw0U2IB6M8eBtzSpfZC",
      "authorship_tag": "ABX9TyOmTerWt1hRpUXB/nru2RGr",
      "include_colab_link": true
    },
    "kernelspec": {
      "name": "python3",
      "display_name": "Python 3"
    },
    "language_info": {
      "name": "python"
    },
    "accelerator": "TPU"
  },
  "cells": [
    {
      "cell_type": "markdown",
      "metadata": {
        "id": "view-in-github",
        "colab_type": "text"
      },
      "source": [
        "<a href=\"https://colab.research.google.com/github/rahmanziaur/DTClassifierTest/blob/main/ReadmissionTest.ipynb\" target=\"_parent\"><img src=\"https://colab.research.google.com/assets/colab-badge.svg\" alt=\"Open In Colab\"/></a>"
      ]
    },
    {
      "cell_type": "code",
      "execution_count": 1,
      "metadata": {
        "colab": {
          "base_uri": "https://localhost:8080/"
        },
        "id": "EpBPIhWAh-9r",
        "outputId": "6b864108-e43d-4053-8fbb-21537103cc64"
      },
      "outputs": [
        {
          "output_type": "stream",
          "name": "stdout",
          "text": [
            "race 2273\n",
            "gender 0\n",
            "age 0\n",
            "weight 98569\n",
            "payer_code 40256\n",
            "medical_specialty 49949\n",
            "diag_1 21\n",
            "diag_2 358\n",
            "diag_3 1423\n",
            "max_glu_serum 0\n",
            "A1Cresult 0\n",
            "metformin 0\n",
            "repaglinide 0\n",
            "nateglinide 0\n",
            "chlorpropamide 0\n",
            "glimepiride 0\n",
            "acetohexamide 0\n",
            "glipizide 0\n",
            "glyburide 0\n",
            "tolbutamide 0\n",
            "pioglitazone 0\n",
            "rosiglitazone 0\n",
            "acarbose 0\n",
            "miglitol 0\n",
            "troglitazone 0\n",
            "tolazamide 0\n",
            "examide 0\n",
            "citoglipton 0\n",
            "insulin 0\n",
            "glyburide-metformin 0\n",
            "glipizide-metformin 0\n",
            "glimepiride-pioglitazone 0\n",
            "metformin-rosiglitazone 0\n",
            "metformin-pioglitazone 0\n",
            "change 0\n",
            "diabetesMed 0\n",
            "readmitted 0\n",
            "gender 3\n",
            "race 0\n",
            "gender 0\n",
            "age 0\n",
            "diag_1 0\n",
            "diag_2 0\n",
            "diag_3 0\n",
            "max_glu_serum 0\n",
            "A1Cresult 0\n",
            "metformin 0\n",
            "repaglinide 0\n",
            "nateglinide 0\n",
            "chlorpropamide 0\n",
            "glimepiride 0\n",
            "acetohexamide 0\n",
            "glipizide 0\n",
            "glyburide 0\n",
            "tolbutamide 0\n",
            "pioglitazone 0\n",
            "rosiglitazone 0\n",
            "acarbose 0\n",
            "miglitol 0\n",
            "troglitazone 0\n",
            "tolazamide 0\n",
            "insulin 0\n",
            "glyburide-metformin 0\n",
            "glipizide-metformin 0\n",
            "glimepiride-pioglitazone 0\n",
            "metformin-rosiglitazone 0\n",
            "metformin-pioglitazone 0\n",
            "change 0\n",
            "diabetesMed 0\n",
            "readmitted 0\n",
            "gender 0\n"
          ]
        }
      ],
      "source": [
        "import pandas as pd\n",
        "import numpy as np\n",
        "import matplotlib.pyplot as plt\n",
        "import seaborn as sns\n",
        "\n",
        "df = pd.read_csv(\"/content/drive/MyDrive/ColabDatasets/diabetic_data.csv\")\n",
        "df.head(10).T\n",
        "df.shape\n",
        "df.dtypes\n",
        "\n",
        "# checking the missing value\n",
        "for col in df.columns:\n",
        "    if df[col].dtype == object:\n",
        "         print(col,df[col][df[col] == '?'].count())\n",
        "\n",
        "print('gender', df['gender'][df['gender'] == 'Unknown/Invalid'].count())   \n",
        "\n",
        "df = df.drop(['weight','payer_code','medical_specialty'], axis = 1)\n",
        "\n",
        "drop_Idx = set(df[(df['diag_1'] == '?') & (df['diag_2'] == '?') & (df['diag_3'] == '?')].index)\n",
        "\n",
        "drop_Idx = drop_Idx.union(set(df['diag_1'][df['diag_1'] == '?'].index))\n",
        "drop_Idx = drop_Idx.union(set(df['diag_2'][df['diag_2'] == '?'].index))\n",
        "drop_Idx = drop_Idx.union(set(df['diag_3'][df['diag_3'] == '?'].index))\n",
        "drop_Idx = drop_Idx.union(set(df['race'][df['race'] == '?'].index))\n",
        "drop_Idx = drop_Idx.union(set(df[df['discharge_disposition_id'] == 11].index))\n",
        "drop_Idx = drop_Idx.union(set(df['gender'][df['gender'] == 'Unknown/Invalid'].index))\n",
        "new_Idx = list(set(df.index) - set(drop_Idx))\n",
        "df = df.iloc[new_Idx]\n",
        "\n",
        "df = df.drop(['citoglipton', 'examide'], axis = 1)\n",
        "\n",
        "#Checking for missing values in the data\n",
        "for col in df.columns:\n",
        "    if df[col].dtype == object:\n",
        "         print(col,df[col][df[col] == '?'].count())\n",
        "            \n",
        "print('gender', df['gender'][df['gender'] == 'Unknown/Invalid'].count())  \n",
        "\n",
        "df['service_utilization'] = df['number_outpatient'] + df['number_emergency'] + df['number_inpatient']\n",
        "\n",
        "keys = ['metformin', 'repaglinide', 'nateglinide', 'chlorpropamide', 'glimepiride', 'glipizide', 'glyburide', 'pioglitazone', 'rosiglitazone', 'acarbose', 'miglitol', 'insulin', 'glyburide-metformin', 'tolazamide', 'metformin-pioglitazone','metformin-rosiglitazone', 'glimepiride-pioglitazone', 'glipizide-metformin', 'troglitazone', 'tolbutamide', 'acetohexamide']\n",
        "for col in keys:\n",
        "    colname = str(col) + 'temp'\n",
        "    df[colname] = df[col].apply(lambda x: 0 if (x == 'No' or x == 'Steady') else 1)\n",
        "df['numchange'] = 0\n",
        "for col in keys:\n",
        "    colname = str(col) + 'temp'\n",
        "    df['numchange'] = df['numchange'] + df[colname]\n",
        "    del df[colname]\n",
        "    \n",
        "df['numchange'].value_counts()  \n",
        "\n",
        "# re-encoding admission type, discharge type and admission source into fewer categories\n",
        "\n",
        "df['admission_type_id'] = df['admission_type_id'].replace(2,1)\n",
        "df['admission_type_id'] = df['admission_type_id'].replace(7,1)\n",
        "df['admission_type_id'] = df['admission_type_id'].replace(6,5)\n",
        "df['admission_type_id'] = df['admission_type_id'].replace(8,5)\n",
        "\n",
        "df['discharge_disposition_id'] = df['discharge_disposition_id'].replace(6,1)\n",
        "df['discharge_disposition_id'] = df['discharge_disposition_id'].replace(8,1)\n",
        "df['discharge_disposition_id'] = df['discharge_disposition_id'].replace(9,1)\n",
        "df['discharge_disposition_id'] = df['discharge_disposition_id'].replace(13,1)\n",
        "df['discharge_disposition_id'] = df['discharge_disposition_id'].replace(3,2)\n",
        "df['discharge_disposition_id'] = df['discharge_disposition_id'].replace(4,2)\n",
        "df['discharge_disposition_id'] = df['discharge_disposition_id'].replace(5,2)\n",
        "df['discharge_disposition_id'] = df['discharge_disposition_id'].replace(14,2)\n",
        "df['discharge_disposition_id'] = df['discharge_disposition_id'].replace(22,2)\n",
        "df['discharge_disposition_id'] = df['discharge_disposition_id'].replace(23,2)\n",
        "df['discharge_disposition_id'] = df['discharge_disposition_id'].replace(24,2)\n",
        "df['discharge_disposition_id'] = df['discharge_disposition_id'].replace(12,10)\n",
        "df['discharge_disposition_id'] = df['discharge_disposition_id'].replace(15,10)\n",
        "df['discharge_disposition_id'] = df['discharge_disposition_id'].replace(16,10)\n",
        "df['discharge_disposition_id'] = df['discharge_disposition_id'].replace(17,10)\n",
        "df['discharge_disposition_id'] = df['discharge_disposition_id'].replace(25,18)\n",
        "df['discharge_disposition_id'] = df['discharge_disposition_id'].replace(26,18)\n",
        "\n",
        "df['admission_source_id'] = df['admission_source_id'].replace(2,1)\n",
        "df['admission_source_id'] = df['admission_source_id'].replace(3,1)\n",
        "df['admission_source_id'] = df['admission_source_id'].replace(5,4)\n",
        "df['admission_source_id'] = df['admission_source_id'].replace(6,4)\n",
        "df['admission_source_id'] = df['admission_source_id'].replace(10,4)\n",
        "df['admission_source_id'] = df['admission_source_id'].replace(22,4)\n",
        "df['admission_source_id'] = df['admission_source_id'].replace(25,4)\n",
        "df['admission_source_id'] = df['admission_source_id'].replace(15,9)\n",
        "df['admission_source_id'] = df['admission_source_id'].replace(17,9)\n",
        "df['admission_source_id'] = df['admission_source_id'].replace(20,9)\n",
        "df['admission_source_id'] = df['admission_source_id'].replace(21,9)\n",
        "df['admission_source_id'] = df['admission_source_id'].replace(13,11)\n",
        "df['admission_source_id'] = df['admission_source_id'].replace(14,11)\n",
        "\n",
        "df['change'] = df['change'].replace('Ch', 1)\n",
        "df['change'] = df['change'].replace('No', 0)\n",
        "df['gender'] = df['gender'].replace('Male', 1)\n",
        "df['gender'] = df['gender'].replace('Female', 0)\n",
        "df['diabetesMed'] = df['diabetesMed'].replace('Yes', 1)\n",
        "df['diabetesMed'] = df['diabetesMed'].replace('No', 0)\n",
        "# keys is the same as before\n",
        "for col in keys:\n",
        "    df[col] = df[col].replace('No', 0)\n",
        "    df[col] = df[col].replace('Steady', 1)\n",
        "    df[col] = df[col].replace('Up', 1)\n",
        "    df[col] = df[col].replace('Down', 1)\n",
        "\n",
        "df['A1Cresult'] = df['A1Cresult'].replace('>7', 1)\n",
        "df['A1Cresult'] = df['A1Cresult'].replace('>8', 1)\n",
        "df['A1Cresult'] = df['A1Cresult'].replace('Norm', 0)\n",
        "df['A1Cresult'] = df['A1Cresult'].replace('None', -99)\n",
        "df['max_glu_serum'] = df['max_glu_serum'].replace('>200', 1)\n",
        "df['max_glu_serum'] = df['max_glu_serum'].replace('>300', 1)\n",
        "df['max_glu_serum'] = df['max_glu_serum'].replace('Norm', 0)\n",
        "df['max_glu_serum'] = df['max_glu_serum'].replace('None', -99)\n",
        "\n",
        "# code age intervals [0-10) - [90-100) from 1-10\n",
        "for i in range(0,10):\n",
        "    df['age'] = df['age'].replace('['+str(10*i)+'-'+str(10*(i+1))+')', i+1)\n",
        "df['age'].value_counts()\n",
        "\n",
        "df2 = df.drop_duplicates(subset= ['patient_nbr'], keep = 'first')\n",
        "df2.shape \n",
        "(70442, 55)\n",
        "\n",
        "df.head().T\n",
        "\n",
        "df['readmitted'].value_counts()\n",
        "\n",
        "df['readmitted'] = df['readmitted'].replace('>30', 0)\n",
        "df['readmitted'] = df['readmitted'].replace('<30', 1)\n",
        "df['readmitted'] = df['readmitted'].replace('NO', 0)\n",
        "\n",
        "df['level1_diag1'] = df['diag_1']\n",
        "df['level2_diag1'] = df['diag_1']\n",
        "df['level1_diag2'] = df['diag_2']\n",
        "df['level2_diag2'] = df['diag_2']\n",
        "df['level1_diag3'] = df['diag_3']\n",
        "df['level2_diag3'] = df['diag_3']\n",
        "\n",
        "df.loc[df['diag_1'].str.contains('V'), ['level1_diag1', 'level2_diag1']] = 0\n",
        "df.loc[df['diag_1'].str.contains('E'), ['level1_diag1', 'level2_diag1']] = 0\n",
        "df.loc[df['diag_2'].str.contains('V'), ['level1_diag2', 'level2_diag2']] = 0\n",
        "df.loc[df['diag_2'].str.contains('E'), ['level1_diag2', 'level2_diag2']] = 0\n",
        "df.loc[df['diag_3'].str.contains('V'), ['level1_diag3', 'level2_diag3']] = 0\n",
        "df.loc[df['diag_3'].str.contains('E'), ['level1_diag3', 'level2_diag3']] = 0\n",
        "df['level1_diag1'] = df['level1_diag1'].replace('?', -1)\n",
        "df['level2_diag1'] = df['level2_diag1'].replace('?', -1)\n",
        "df['level1_diag2'] = df['level1_diag2'].replace('?', -1)\n",
        "df['level2_diag2'] = df['level2_diag2'].replace('?', -1)\n",
        "df['level1_diag3'] = df['level1_diag3'].replace('?', -1)\n",
        "df['level2_diag3'] = df['level2_diag3'].replace('?', -1)\n",
        "\n",
        "df['level1_diag1'] = df['level1_diag1'].astype(float)\n",
        "df['level2_diag1'] = df['level2_diag1'].astype(float)\n",
        "df['level1_diag2'] = df['level1_diag2'].astype(float)\n",
        "df['level2_diag2'] = df['level2_diag2'].astype(float)\n",
        "df['level1_diag3'] = df['level1_diag3'].astype(float)\n",
        "df['level2_diag3'] = df['level2_diag3'].astype(float)\n",
        "\n",
        "for index, row in df.iterrows():\n",
        "    if (row['level1_diag1'] >= 390 and row['level1_diag1'] < 460) or (np.floor(row['level1_diag1']) == 785):\n",
        "        df.loc[index, 'level1_diag1'] = 1\n",
        "    elif (row['level1_diag1'] >= 460 and row['level1_diag1'] < 520) or (np.floor(row['level1_diag1']) == 786):\n",
        "        df.loc[index, 'level1_diag1'] = 2\n",
        "    elif (row['level1_diag1'] >= 520 and row['level1_diag1'] < 580) or (np.floor(row['level1_diag1']) == 787):\n",
        "        df.loc[index, 'level1_diag1'] = 3\n",
        "    elif (np.floor(row['level1_diag1']) == 250):\n",
        "        df.loc[index, 'level1_diag1'] = 4\n",
        "    elif (row['level1_diag1'] >= 800 and row['level1_diag1'] < 1000):\n",
        "        df.loc[index, 'level1_diag1'] = 5\n",
        "    elif (row['level1_diag1'] >= 710 and row['level1_diag1'] < 740):\n",
        "        df.loc[index, 'level1_diag1'] = 6\n",
        "    elif (row['level1_diag1'] >= 580 and row['level1_diag1'] < 630) or (np.floor(row['level1_diag1']) == 788):\n",
        "        df.loc[index, 'level1_diag1'] = 7\n",
        "    elif (row['level1_diag1'] >= 140 and row['level1_diag1'] < 240):\n",
        "        df.loc[index, 'level1_diag1'] = 8\n",
        "    else:\n",
        "        df.loc[index, 'level1_diag1'] = 0\n",
        "        \n",
        "    if (row['level1_diag2'] >= 390 and row['level1_diag2'] < 460) or (np.floor(row['level1_diag2']) == 785):\n",
        "        df.loc[index, 'level1_diag2'] = 1\n",
        "    elif (row['level1_diag2'] >= 460 and row['level1_diag2'] < 520) or (np.floor(row['level1_diag2']) == 786):\n",
        "        df.loc[index, 'level1_diag2'] = 2\n",
        "    elif (row['level1_diag2'] >= 520 and row['level1_diag2'] < 580) or (np.floor(row['level1_diag2']) == 787):\n",
        "        df.loc[index, 'level1_diag2'] = 3\n",
        "    elif (np.floor(row['level1_diag2']) == 250):\n",
        "        df.loc[index, 'level1_diag2'] = 4\n",
        "    elif (row['level1_diag2'] >= 800 and row['level1_diag2'] < 1000):\n",
        "        df.loc[index, 'level1_diag2'] = 5\n",
        "    elif (row['level1_diag2'] >= 710 and row['level1_diag2'] < 740):\n",
        "        df.loc[index, 'level1_diag2'] = 6\n",
        "    elif (row['level1_diag2'] >= 580 and row['level1_diag2'] < 630) or (np.floor(row['level1_diag2']) == 788):\n",
        "        df.loc[index, 'level1_diag2'] = 7\n",
        "    elif (row['level1_diag2'] >= 140 and row['level1_diag2'] < 240):\n",
        "        df.loc[index, 'level1_diag2'] = 8\n",
        "    else:\n",
        "        df.loc[index, 'level1_diag2'] = 0\n",
        "    \n",
        "    if (row['level1_diag3'] >= 390 and row['level1_diag3'] < 460) or (np.floor(row['level1_diag3']) == 785):\n",
        "        df.loc[index, 'level1_diag3'] = 1\n",
        "    elif (row['level1_diag3'] >= 460 and row['level1_diag3'] < 520) or (np.floor(row['level1_diag3']) == 786):\n",
        "        df.loc[index, 'level1_diag3'] = 2\n",
        "    elif (row['level1_diag3'] >= 520 and row['level1_diag3'] < 580) or (np.floor(row['level1_diag3']) == 787):\n",
        "        df.loc[index, 'level1_diag3'] = 3\n",
        "    elif (np.floor(row['level1_diag3']) == 250):\n",
        "        df.loc[index, 'level1_diag3'] = 4\n",
        "    elif (row['level1_diag3'] >= 800 and row['level1_diag3'] < 1000):\n",
        "        df.loc[index, 'level1_diag3'] = 5\n",
        "    elif (row['level1_diag3'] >= 710 and row['level1_diag3'] < 740):\n",
        "        df.loc[index, 'level1_diag3'] = 6\n",
        "    elif (row['level1_diag3'] >= 580 and row['level1_diag3'] < 630) or (np.floor(row['level1_diag3']) == 788):\n",
        "        df.loc[index, 'level1_diag3'] = 7\n",
        "    elif (row['level1_diag3'] >= 140 and row['level1_diag3'] < 240):\n",
        "        df.loc[index, 'level1_diag3'] = 8\n",
        "    else:\n",
        "        df.loc[index, 'level1_diag3'] = 0"
      ]
    },
    {
      "cell_type": "code",
      "source": [
        "for index, row in df.iterrows():\n",
        "    if (row['level2_diag1'] >= 390 and row['level2_diag1'] < 399):\n",
        "        df.loc[index, 'level2_diag1'] = 1\n",
        "    elif (row['level2_diag1'] >= 401 and row['level2_diag1'] < 415):\n",
        "        df.loc[index, 'level2_diag1'] = 2\n",
        "    elif (row['level2_diag1'] >= 415 and row['level2_diag1'] < 460):\n",
        "        df.loc[index, 'level2_diag1'] = 3\n",
        "    elif (np.floor(row['level2_diag1']) == 785):\n",
        "        df.loc[index, 'level2_diag1'] = 4\n",
        "    elif (row['level2_diag1'] >= 460 and row['level2_diag1'] < 489):\n",
        "        df.loc[index, 'level2_diag1'] = 5\n",
        "    elif (row['level2_diag1'] >= 490 and row['level2_diag1'] < 497):\n",
        "        df.loc[index, 'level2_diag1'] = 6\n",
        "    elif (row['level2_diag1'] >= 500 and row['level2_diag1'] < 520):\n",
        "        df.loc[index, 'level2_diag1'] = 7\n",
        "    elif (np.floor(row['level2_diag1']) == 786):\n",
        "        df.loc[index, 'level2_diag1'] = 8\n",
        "    elif (row['level2_diag1'] >= 520 and row['level2_diag1'] < 530):\n",
        "        df.loc[index, 'level2_diag1'] = 9\n",
        "    elif (row['level2_diag1'] >= 530 and row['level2_diag1'] < 544):\n",
        "        df.loc[index, 'level2_diag1'] = 10\n",
        "    elif (row['level2_diag1'] >= 550 and row['level2_diag1'] < 554):\n",
        "        df.loc[index, 'level2_diag1'] = 11\n",
        "    elif (row['level2_diag1'] >= 555 and row['level2_diag1'] < 580):\n",
        "        df.loc[index, 'level2_diag1'] = 12\n",
        "    elif (np.floor(row['level2_diag1']) == 787):\n",
        "        df.loc[index, 'level2_diag1'] = 13\n",
        "    elif (np.floor(row['level2_diag1']) == 250):\n",
        "        df.loc[index, 'level2_diag1'] = 14\n",
        "    elif (row['level2_diag1'] >= 800 and row['level2_diag1'] < 1000):\n",
        "        df.loc[index, 'level2_diag1'] = 15\n",
        "    elif (row['level2_diag1'] >= 710 and row['level2_diag1'] < 740):\n",
        "        df.loc[index, 'level2_diag1'] = 16\n",
        "    elif (row['level2_diag1'] >= 580 and row['level2_diag1'] < 630):\n",
        "        df.loc[index, 'level2_diag1'] = 17\n",
        "    elif (np.floor(row['level2_diag1']) == 788):\n",
        "        df.loc[index, 'level2_diag1'] = 18\n",
        "    elif (row['level2_diag1'] >= 140 and row['level2_diag1'] < 240):\n",
        "        df.loc[index, 'level2_diag1'] = 19\n",
        "    elif row['level2_diag1'] >= 240 and row['level2_diag1'] < 280 and (np.floor(row['level2_diag1']) != 250):\n",
        "        df.loc[index, 'level2_diag1'] = 20\n",
        "    elif (row['level2_diag1'] >= 680 and row['level2_diag1'] < 710) or (np.floor(row['level2_diag1']) == 782):\n",
        "        df.loc[index, 'level2_diag1'] = 21\n",
        "    elif (row['level2_diag1'] >= 290 and row['level2_diag1'] < 320):\n",
        "        df.loc[index, 'level2_diag1'] = 22\n",
        "    else:\n",
        "        df.loc[index, 'level2_diag1'] = 0\n",
        "        \n",
        "    if (row['level2_diag2'] >= 390 and row['level2_diag2'] < 399):\n",
        "        df.loc[index, 'level2_diag2'] = 1\n",
        "    elif (row['level2_diag2'] >= 401 and row['level2_diag2'] < 415):\n",
        "        df.loc[index, 'level2_diag2'] = 2\n",
        "    elif (row['level2_diag2'] >= 415 and row['level2_diag2'] < 460):\n",
        "        df.loc[index, 'level2_diag2'] = 3\n",
        "    elif (np.floor(row['level2_diag2']) == 785):\n",
        "        df.loc[index, 'level2_diag2'] = 4\n",
        "    elif (row['level2_diag2'] >= 460 and row['level2_diag2'] < 489):\n",
        "        df.loc[index, 'level2_diag2'] = 5\n",
        "    elif (row['level2_diag2'] >= 490 and row['level2_diag2'] < 497):\n",
        "        df.loc[index, 'level2_diag2'] = 6\n",
        "    elif (row['level2_diag2'] >= 500 and row['level2_diag2'] < 520):\n",
        "        df.loc[index, 'level2_diag2'] = 7\n",
        "    elif (np.floor(row['level2_diag2']) == 786):\n",
        "        df.loc[index, 'level2_diag2'] = 8\n",
        "    elif (row['level2_diag2'] >= 520 and row['level2_diag2'] < 530):\n",
        "        df.loc[index, 'level2_diag2'] = 9\n",
        "    elif (row['level2_diag2'] >= 530 and row['level2_diag2'] < 544):\n",
        "        df.loc[index, 'level2_diag2'] = 10\n",
        "    elif (row['level2_diag2'] >= 550 and row['level2_diag2'] < 554):\n",
        "        df.loc[index, 'level2_diag2'] = 11\n",
        "    elif (row['level2_diag2'] >= 555 and row['level2_diag2'] < 580):\n",
        "        df.loc[index, 'level2_diag2'] = 12\n",
        "    elif (np.floor(row['level2_diag2']) == 787):\n",
        "        df.loc[index, 'level2_diag2'] = 13\n",
        "    elif (np.floor(row['level2_diag2']) == 250):\n",
        "        df.loc[index, 'level2_diag2'] = 14\n",
        "    elif (row['level2_diag2'] >= 800 and row['level2_diag2'] < 1000):\n",
        "        df.loc[index, 'level2_diag2'] = 15\n",
        "    elif (row['level2_diag2'] >= 710 and row['level2_diag2'] < 740):\n",
        "        df.loc[index, 'level2_diag2'] = 16\n",
        "    elif (row['level2_diag2'] >= 580 and row['level2_diag2'] < 630):\n",
        "        df.loc[index, 'level2_diag2'] = 17\n",
        "    elif (np.floor(row['level2_diag2']) == 788):\n",
        "        df.loc[index, 'level2_diag2'] = 18\n",
        "    elif (row['level2_diag2'] >= 140 and row['level2_diag2'] < 240):\n",
        "        df.loc[index, 'level2_diag2'] = 19\n",
        "    elif row['level2_diag2'] >= 240 and row['level2_diag2'] < 280 and (np.floor(row['level2_diag2']) != 250):\n",
        "        df.loc[index, 'level2_diag2'] = 20\n",
        "    elif (row['level2_diag2'] >= 680 and row['level2_diag2'] < 710) or (np.floor(row['level2_diag2']) == 782):\n",
        "        df.loc[index, 'level2_diag2'] = 21\n",
        "    elif (row['level2_diag2'] >= 290 and row['level2_diag2'] < 320):\n",
        "        df.loc[index, 'level2_diag2'] = 22\n",
        "    else:\n",
        "        df.loc[index, 'level2_diag2'] = 0\n",
        "        \n",
        "        \n",
        "    if (row['level2_diag3'] >= 390 and row['level2_diag3'] < 399):\n",
        "        df.loc[index, 'level2_diag3'] = 1\n",
        "    elif (row['level2_diag3'] >= 401 and row['level2_diag3'] < 415):\n",
        "        df.loc[index, 'level2_diag3'] = 2\n",
        "    elif (row['level2_diag3'] >= 415 and row['level2_diag3'] < 460):\n",
        "        df.loc[index, 'level2_diag3'] = 3\n",
        "    elif (np.floor(row['level2_diag3']) == 785):\n",
        "        df.loc[index, 'level2_diag3'] = 4\n",
        "    elif (row['level2_diag3'] >= 460 and row['level2_diag3'] < 489):\n",
        "        df.loc[index, 'level2_diag3'] = 5\n",
        "    elif (row['level2_diag3'] >= 490 and row['level2_diag3'] < 497):\n",
        "        df.loc[index, 'level2_diag3'] = 6\n",
        "    elif (row['level2_diag3'] >= 500 and row['level2_diag3'] < 520):\n",
        "        df.loc[index, 'level2_diag3'] = 7\n",
        "    elif (np.floor(row['level2_diag3']) == 786):\n",
        "        df.loc[index, 'level2_diag3'] = 8\n",
        "    elif (row['level2_diag3'] >= 520 and row['level2_diag3'] < 530):\n",
        "        df.loc[index, 'level2_diag3'] = 9\n",
        "    elif (row['level2_diag3'] >= 530 and row['level2_diag3'] < 544):\n",
        "        df.loc[index, 'level2_diag3'] = 10\n",
        "    elif (row['level2_diag3'] >= 550 and row['level2_diag3'] < 554):\n",
        "        df.loc[index, 'level2_diag3'] = 11\n",
        "    elif (row['level2_diag3'] >= 555 and row['level2_diag3'] < 580):\n",
        "        df.loc[index, 'level2_diag3'] = 12\n",
        "    elif (np.floor(row['level2_diag3']) == 787):\n",
        "        df.loc[index, 'level2_diag3'] = 13\n",
        "    elif (np.floor(row['level2_diag3']) == 250):\n",
        "        df.loc[index, 'level2_diag3'] = 14\n",
        "    elif (row['level2_diag3'] >= 800 and row['level2_diag3'] < 1000):\n",
        "        df.loc[index, 'level2_diag3'] = 15\n",
        "    elif (row['level2_diag3'] >= 710 and row['level2_diag3'] < 740):\n",
        "        df.loc[index, 'level2_diag3'] = 16\n",
        "    elif (row['level2_diag3'] >= 580 and row['level2_diag3'] < 630):\n",
        "        df.loc[index, 'level2_diag3'] = 17\n",
        "    elif (np.floor(row['level2_diag3']) == 788):\n",
        "        df.loc[index, 'level2_diag3'] = 18\n",
        "    elif (row['level2_diag3'] >= 140 and row['level2_diag3'] < 240):\n",
        "        df.loc[index, 'level2_diag3'] = 19\n",
        "    elif row['level2_diag3'] >= 240 and row['level2_diag3'] < 280 and (np.floor(row['level2_diag3']) != 250):\n",
        "        df.loc[index, 'level2_diag3'] = 20\n",
        "    elif (row['level2_diag3'] >= 680 and row['level2_diag3'] < 710) or (np.floor(row['level2_diag3']) == 782):\n",
        "        df.loc[index, 'level2_diag3'] = 21\n",
        "    elif (row['level2_diag3'] >= 290 and row['level2_diag3'] < 320):\n",
        "        df.loc[index, 'level2_diag3'] = 22\n",
        "    else:\n",
        "        df.loc[index, 'level2_diag3'] = 0"
      ],
      "metadata": {
        "id": "FmEsAuQ9o5vT"
      },
      "execution_count": 2,
      "outputs": []
    },
    {
      "cell_type": "code",
      "source": [
        "# Distribution of Readmission \n",
        "sns.countplot(df['readmitted']).set_title('Distrinution of Readmission')"
      ],
      "metadata": {
        "colab": {
          "base_uri": "https://localhost:8080/",
          "height": 367
        },
        "id": "DHXmuWkdqFel",
        "outputId": "334155d9-eead-4eb1-f3b5-9580a3398d96"
      },
      "execution_count": 3,
      "outputs": [
        {
          "output_type": "stream",
          "name": "stderr",
          "text": [
            "/usr/local/lib/python3.7/dist-packages/seaborn/_decorators.py:43: FutureWarning: Pass the following variable as a keyword arg: x. From version 0.12, the only valid positional argument will be `data`, and passing other arguments without an explicit keyword will result in an error or misinterpretation.\n",
            "  FutureWarning\n"
          ]
        },
        {
          "output_type": "execute_result",
          "data": {
            "text/plain": [
              "Text(0.5, 1.0, 'Distrinution of Readmission')"
            ]
          },
          "metadata": {},
          "execution_count": 3
        },
        {
          "output_type": "display_data",
          "data": {
            "text/plain": [
              "<Figure size 432x288 with 1 Axes>"
            ],
            "image/png": "[encoded data removed]"
          },
          "metadata": {
            "needs_background": "light"
          }
        }
      ]
    },
    {
      "cell_type": "code",
      "source": [
        "fig = plt.figure(figsize=(13,7),)\n",
        "ax=sns.kdeplot(df.loc[(df['readmitted'] == 0),'time_in_hospital'] , color='b',shade=True,label='Not Readmitted')\n",
        "ax=sns.kdeplot(df.loc[(df['readmitted'] == 1),'time_in_hospital'] , color='r',shade=True, label='Readmitted')\n",
        "ax.set(xlabel='Time in Hospital', ylabel='Frequency')\n",
        "plt.title('Time in Hospital VS. Readmission')"
      ],
      "metadata": {
        "colab": {
          "base_uri": "https://localhost:8080/",
          "height": 475
        },
        "id": "9_-Ib5IrqSE8",
        "outputId": "152d3ed2-4f0c-40e2-8c04-2928417064e9"
      },
      "execution_count": 4,
      "outputs": [
        {
          "output_type": "execute_result",
          "data": {
            "text/plain": [
              "Text(0.5, 1.0, 'Time in Hospital VS. Readmission')"
            ]
          },
          "metadata": {},
          "execution_count": 4
        },
        {
          "output_type": "display_data",
          "data": {
            "text/plain": [
              "<Figure size 936x504 with 1 Axes>"
            ],
            "image/png": "[encoded data removed]"
          },
          "metadata": {
            "needs_background": "light"
          }
        }
      ]
    },
    {
      "cell_type": "code",
      "source": [
        "fig = plt.figure(figsize=(15,10))\n",
        "sns.countplot(y= df['age'], hue = df['readmitted']).set_title('Age of Patient VS. Readmission')"
      ],
      "metadata": {
        "colab": {
          "base_uri": "https://localhost:8080/",
          "height": 619
        },
        "id": "MaaB5_kMqa4u",
        "outputId": "3574ce15-a6bb-4caf-afd3-ed3c8b4616fe"
      },
      "execution_count": 5,
      "outputs": [
        {
          "output_type": "execute_result",
          "data": {
            "text/plain": [
              "Text(0.5, 1.0, 'Age of Patient VS. Readmission')"
            ]
          },
          "metadata": {},
          "execution_count": 5
        },
        {
          "output_type": "display_data",
          "data": {
            "text/plain": [
              "<Figure size 1080x720 with 1 Axes>"
            ],
            "image/png": "[encoded data removed]"
          },
          "metadata": {
            "needs_background": "light"
          }
        }
      ]
    },
    {
      "cell_type": "code",
      "source": [
        "fig = plt.figure(figsize=(8,8))\n",
        "sns.countplot(y = df['race'], hue = df['readmitted'])"
      ],
      "metadata": {
        "colab": {
          "base_uri": "https://localhost:8080/",
          "height": 514
        },
        "id": "qp5NNk4KqgJ9",
        "outputId": "66617536-e114-4d19-e37b-e76e38638c6c"
      },
      "execution_count": 6,
      "outputs": [
        {
          "output_type": "execute_result",
          "data": {
            "text/plain": [
              "<matplotlib.axes._subplots.AxesSubplot at 0x7f4d8f507610>"
            ]
          },
          "metadata": {},
          "execution_count": 6
        },
        {
          "output_type": "display_data",
          "data": {
            "text/plain": [
              "<Figure size 576x576 with 1 Axes>"
            ],
            "image/png": "[encoded data removed]"
          },
          "metadata": {
            "needs_background": "light"
          }
        }
      ]
    },
    {
      "cell_type": "code",
      "source": [
        "fig = plt.figure(figsize=(8,8))\n",
        "sns.barplot(x = df['readmitted'], y = df['num_medications']).set_title(\"Number of medication used VS. Readmission\")"
      ],
      "metadata": {
        "colab": {
          "base_uri": "https://localhost:8080/",
          "height": 530
        },
        "id": "rU5SqZEnqn3Q",
        "outputId": "dca49e49-7dfb-4497-bdef-72264a19d730"
      },
      "execution_count": 7,
      "outputs": [
        {
          "output_type": "execute_result",
          "data": {
            "text/plain": [
              "Text(0.5, 1.0, 'Number of medication used VS. Readmission')"
            ]
          },
          "metadata": {},
          "execution_count": 7
        },
        {
          "output_type": "display_data",
          "data": {
            "text/plain": [
              "<Figure size 576x576 with 1 Axes>"
            ],
            "image/png": "[encoded data removed]"
          },
          "metadata": {
            "needs_background": "light"
          }
        }
      ]
    },
    {
      "cell_type": "code",
      "source": [
        "fig = plt.figure(figsize=(8,8))\n",
        "sns.countplot(df['gender'], hue = df['readmitted']).set_title(\"Gender of Patient VS. Readmission\")"
      ],
      "metadata": {
        "colab": {
          "base_uri": "https://localhost:8080/",
          "height": 585
        },
        "id": "n--IXGOhqve8",
        "outputId": "5f28a928-71f2-4c89-92c7-40dcbb082ceb"
      },
      "execution_count": 8,
      "outputs": [
        {
          "output_type": "stream",
          "name": "stderr",
          "text": [
            "/usr/local/lib/python3.7/dist-packages/seaborn/_decorators.py:43: FutureWarning: Pass the following variable as a keyword arg: x. From version 0.12, the only valid positional argument will be `data`, and passing other arguments without an explicit keyword will result in an error or misinterpretation.\n",
            "  FutureWarning\n"
          ]
        },
        {
          "output_type": "execute_result",
          "data": {
            "text/plain": [
              "Text(0.5, 1.0, 'Gender of Patient VS. Readmission')"
            ]
          },
          "metadata": {},
          "execution_count": 8
        },
        {
          "output_type": "display_data",
          "data": {
            "text/plain": [
              "<Figure size 576x576 with 1 Axes>"
            ],
            "image/png": "[encoded data removed]"
          },
          "metadata": {
            "needs_background": "light"
          }
        }
      ]
    },
    {
      "cell_type": "code",
      "source": [
        "fig = plt.figure(figsize=(8,8))\n",
        "sns.countplot(df['change'], hue = df['readmitted']).set_title('Change of Medication VS. Readmission')"
      ],
      "metadata": {
        "colab": {
          "base_uri": "https://localhost:8080/",
          "height": 585
        },
        "id": "glsTfJ8XrEs7",
        "outputId": "6508cb53-2ffe-4bb7-e386-e3d2e50547da"
      },
      "execution_count": 9,
      "outputs": [
        {
          "output_type": "stream",
          "name": "stderr",
          "text": [
            "/usr/local/lib/python3.7/dist-packages/seaborn/_decorators.py:43: FutureWarning: Pass the following variable as a keyword arg: x. From version 0.12, the only valid positional argument will be `data`, and passing other arguments without an explicit keyword will result in an error or misinterpretation.\n",
            "  FutureWarning\n"
          ]
        },
        {
          "output_type": "execute_result",
          "data": {
            "text/plain": [
              "Text(0.5, 1.0, 'Change of Medication VS. Readmission')"
            ]
          },
          "metadata": {},
          "execution_count": 9
        },
        {
          "output_type": "display_data",
          "data": {
            "text/plain": [
              "<Figure size 576x576 with 1 Axes>"
            ],
            "image/png": "[encoded data removed]"
          },
          "metadata": {
            "needs_background": "light"
          }
        }
      ]
    },
    {
      "cell_type": "code",
      "source": [
        "fig = plt.figure(figsize=(8,8))\n",
        "sns.countplot(df['diabetesMed'], hue = df['readmitted']).set_title('Diabetes Medication prescribed VS Readmission')"
      ],
      "metadata": {
        "colab": {
          "base_uri": "https://localhost:8080/",
          "height": 585
        },
        "id": "3hqZ4bEsrG7v",
        "outputId": "8e71bdb9-313b-4186-ad62-dfad8acef558"
      },
      "execution_count": 10,
      "outputs": [
        {
          "output_type": "stream",
          "name": "stderr",
          "text": [
            "/usr/local/lib/python3.7/dist-packages/seaborn/_decorators.py:43: FutureWarning: Pass the following variable as a keyword arg: x. From version 0.12, the only valid positional argument will be `data`, and passing other arguments without an explicit keyword will result in an error or misinterpretation.\n",
            "  FutureWarning\n"
          ]
        },
        {
          "output_type": "execute_result",
          "data": {
            "text/plain": [
              "Text(0.5, 1.0, 'Diabetes Medication prescribed VS Readmission')"
            ]
          },
          "metadata": {},
          "execution_count": 10
        },
        {
          "output_type": "display_data",
          "data": {
            "text/plain": [
              "<Figure size 576x576 with 1 Axes>"
            ],
            "image/png": "[encoded data removed]"
          },
          "metadata": {
            "needs_background": "light"
          }
        }
      ]
    },
    {
      "cell_type": "code",
      "source": [
        "fig = plt.figure(figsize=(8,8))\n",
        "sns.barplot( y = df['service_utilization'], x = df['readmitted']).set_title('Service Utilization VS. Readmission')"
      ],
      "metadata": {
        "colab": {
          "base_uri": "https://localhost:8080/",
          "height": 530
        },
        "id": "2xBPDyuqrPW9",
        "outputId": "cb4080fb-7d29-4a6b-b822-1cf5f8b21823"
      },
      "execution_count": 11,
      "outputs": [
        {
          "output_type": "execute_result",
          "data": {
            "text/plain": [
              "Text(0.5, 1.0, 'Service Utilization VS. Readmission')"
            ]
          },
          "metadata": {},
          "execution_count": 11
        },
        {
          "output_type": "display_data",
          "data": {
            "text/plain": [
              "<Figure size 576x576 with 1 Axes>"
            ],
            "image/png": "[encoded data removed]"
          },
          "metadata": {
            "needs_background": "light"
          }
        }
      ]
    },
    {
      "cell_type": "code",
      "source": [
        "fig = plt.figure(figsize=(8,8))\n",
        "sns.countplot(y = df['max_glu_serum'], hue = df['readmitted']).set_title('Glucose test serum test result VS. Readmission')"
      ],
      "metadata": {
        "colab": {
          "base_uri": "https://localhost:8080/",
          "height": 530
        },
        "id": "Nl9bvSYDrWEw",
        "outputId": "df6a4a7c-c767-4f71-cac9-70e264ba252f"
      },
      "execution_count": 12,
      "outputs": [
        {
          "output_type": "execute_result",
          "data": {
            "text/plain": [
              "Text(0.5, 1.0, 'Glucose test serum test result VS. Readmission')"
            ]
          },
          "metadata": {},
          "execution_count": 12
        },
        {
          "output_type": "display_data",
          "data": {
            "text/plain": [
              "<Figure size 576x576 with 1 Axes>"
            ],
            "image/png": "[encoded data removed]"
          },
          "metadata": {
            "needs_background": "light"
          }
        }
      ]
    },
    {
      "cell_type": "code",
      "source": [
        "fig = plt.figure(figsize=(8,8))\n",
        "sns.countplot(y= df['A1Cresult'], hue = df['readmitted']).set_title('A1C test result VS. Readmission')"
      ],
      "metadata": {
        "colab": {
          "base_uri": "https://localhost:8080/",
          "height": 530
        },
        "id": "DekpxDZqrctP",
        "outputId": "db0bdbcc-dd95-4704-95ac-c9d37d01ad70"
      },
      "execution_count": 13,
      "outputs": [
        {
          "output_type": "execute_result",
          "data": {
            "text/plain": [
              "Text(0.5, 1.0, 'A1C test result VS. Readmission')"
            ]
          },
          "metadata": {},
          "execution_count": 13
        },
        {
          "output_type": "display_data",
          "data": {
            "text/plain": [
              "<Figure size 576x576 with 1 Axes>"
            ],
            "image/png": "[encoded data removed]"
          },
          "metadata": {
            "needs_background": "light"
          }
        }
      ]
    },
    {
      "cell_type": "code",
      "source": [
        "fig = plt.figure(figsize=(15,6),)\n",
        "ax=sns.kdeplot(df.loc[(df['readmitted'] == 0),'num_lab_procedures'] , color='b',shade=True,label='Not readmitted')\n",
        "ax=sns.kdeplot(df.loc[(df['readmitted'] == 1),'num_lab_procedures'] , color='r',shade=True, label='readmitted')\n",
        "ax.set(xlabel='Number of lab procedure', ylabel='Frequency')\n",
        "plt.title('Number of lab procedure VS. Readmission')"
      ],
      "metadata": {
        "colab": {
          "base_uri": "https://localhost:8080/",
          "height": 403
        },
        "id": "sM8ayEw-riKD",
        "outputId": "71fb37b1-1283-4969-de8a-38cecdf556fd"
      },
      "execution_count": 14,
      "outputs": [
        {
          "output_type": "execute_result",
          "data": {
            "text/plain": [
              "Text(0.5, 1.0, 'Number of lab procedure VS. Readmission')"
            ]
          },
          "metadata": {},
          "execution_count": 14
        },
        {
          "output_type": "display_data",
          "data": {
            "text/plain": [
              "<Figure size 1080x432 with 1 Axes>"
            ],
            "image/png": "[encoded data removed]"
          },
          "metadata": {
            "needs_background": "light"
          }
        }
      ]
    },
    {
      "cell_type": "code",
      "source": [
        "df['age'] = df['age'].astype('int64')\n",
        "#df['age'] = df['age'].astype('int')\n",
        "print(df.age.value_counts())\n",
        "# convert age categories to mid-point values\n",
        "age_dict = {1:5, 2:15, 3:25, 4:35, 5:45, 6:55, 7:65, 8:75, 9:85, 10:95}\n",
        "df['age'] = df.age.map(age_dict)\n",
        "print(df.age.value_counts())\n"
      ],
      "metadata": {
        "colab": {
          "base_uri": "https://localhost:8080/"
        },
        "id": "TYDjHTjsrwHv",
        "outputId": "25a963b8-b67d-4cf5-d043-2555cf13152a"
      },
      "execution_count": 15,
      "outputs": [
        {
          "output_type": "stream",
          "name": "stdout",
          "text": [
            "8     24815\n",
            "7     21521\n",
            "6     16546\n",
            "9     16223\n",
            "5      9208\n",
            "4      3538\n",
            "10     2594\n",
            "3      1471\n",
            "2       466\n",
            "1        64\n",
            "Name: age, dtype: int64\n",
            "75    24815\n",
            "65    21521\n",
            "55    16546\n",
            "85    16223\n",
            "45     9208\n",
            "35     3538\n",
            "95     2594\n",
            "25     1471\n",
            "15      466\n",
            "5        64\n",
            "Name: age, dtype: int64\n"
          ]
        }
      ]
    },
    {
      "cell_type": "code",
      "source": [
        "# convert data type of nominal features in dataframe to 'object' type\n",
        "i = ['encounter_id', 'patient_nbr', 'gender', 'admission_type_id', 'discharge_disposition_id', 'admission_source_id',\\\n",
        "          'A1Cresult', 'metformin', 'repaglinide', 'nateglinide', 'chlorpropamide', 'glimepiride', 'acetohexamide', \\\n",
        "          'glipizide', 'glyburide', 'tolbutamide', 'pioglitazone', 'rosiglitazone', 'acarbose','miglitol', \\\n",
        "          'troglitazone', 'tolazamide', 'insulin', 'glyburide-metformin', 'glipizide-metformin', \\\n",
        "          'glimepiride-pioglitazone', 'metformin-rosiglitazone', 'metformin-pioglitazone', 'change', 'diabetesMed', \\\n",
        "          'age', 'A1Cresult', 'max_glu_serum', 'level1_diag1', 'level1_diag2', 'level1_diag3', 'level2_diag1', 'level2_diag2', 'level2_diag3']\n",
        "\n",
        "df[i] = df[i].astype('object')"
      ],
      "metadata": {
        "colab": {
          "base_uri": "https://localhost:8080/",
          "height": 363
        },
        "id": "tfFm0lF0D1nI",
        "outputId": "249879b5-6619-4493-e0d7-59e0b9cc3daa"
      },
      "execution_count": 18,
      "outputs": [
        {
          "output_type": "error",
          "ename": "ValueError",
          "evalue": "ignored",
          "traceback": [
            "\u001b[0;31m---------------------------------------------------------------------------\u001b[0m",
            "\u001b[0;31mValueError\u001b[0m                                Traceback (most recent call last)",
            "\u001b[0;32m<ipython-input-18-dd4e7c46810c>\u001b[0m in \u001b[0;36m<module>\u001b[0;34m\u001b[0m\n\u001b[1;32m      7\u001b[0m           'age', 'A1Cresult', 'max_glu_serum', 'level1_diag1', 'level1_diag2', 'level1_diag3', 'level2_diag1', 'level2_diag2', 'level2_diag3']\n\u001b[1;32m      8\u001b[0m \u001b[0;34m\u001b[0m\u001b[0m\n\u001b[0;32m----> 9\u001b[0;31m \u001b[0mdf\u001b[0m\u001b[0;34m[\u001b[0m\u001b[0mi\u001b[0m\u001b[0;34m]\u001b[0m \u001b[0;34m=\u001b[0m \u001b[0mdf\u001b[0m\u001b[0;34m[\u001b[0m\u001b[0mi\u001b[0m\u001b[0;34m]\u001b[0m\u001b[0;34m.\u001b[0m\u001b[0mastype\u001b[0m\u001b[0;34m(\u001b[0m\u001b[0;34m'object'\u001b[0m\u001b[0;34m)\u001b[0m\u001b[0;34m\u001b[0m\u001b[0;34m\u001b[0m\u001b[0m\n\u001b[0m",
            "\u001b[0;32m/usr/local/lib/python3.7/dist-packages/pandas/core/frame.py\u001b[0m in \u001b[0;36m__setitem__\u001b[0;34m(self, key, value)\u001b[0m\n\u001b[1;32m   3598\u001b[0m             \u001b[0mself\u001b[0m\u001b[0;34m.\u001b[0m\u001b[0m_setitem_frame\u001b[0m\u001b[0;34m(\u001b[0m\u001b[0mkey\u001b[0m\u001b[0;34m,\u001b[0m \u001b[0mvalue\u001b[0m\u001b[0;34m)\u001b[0m\u001b[0;34m\u001b[0m\u001b[0;34m\u001b[0m\u001b[0m\n\u001b[1;32m   3599\u001b[0m         \u001b[0;32melif\u001b[0m \u001b[0misinstance\u001b[0m\u001b[0;34m(\u001b[0m\u001b[0mkey\u001b[0m\u001b[0;34m,\u001b[0m \u001b[0;34m(\u001b[0m\u001b[0mSeries\u001b[0m\u001b[0;34m,\u001b[0m \u001b[0mnp\u001b[0m\u001b[0;34m.\u001b[0m\u001b[0mndarray\u001b[0m\u001b[0;34m,\u001b[0m \u001b[0mlist\u001b[0m\u001b[0;34m,\u001b[0m \u001b[0mIndex\u001b[0m\u001b[0;34m)\u001b[0m\u001b[0;34m)\u001b[0m\u001b[0;34m:\u001b[0m\u001b[0;34m\u001b[0m\u001b[0;34m\u001b[0m\u001b[0m\n\u001b[0;32m-> 3600\u001b[0;31m             \u001b[0mself\u001b[0m\u001b[0;34m.\u001b[0m\u001b[0m_setitem_array\u001b[0m\u001b[0;34m(\u001b[0m\u001b[0mkey\u001b[0m\u001b[0;34m,\u001b[0m \u001b[0mvalue\u001b[0m\u001b[0;34m)\u001b[0m\u001b[0;34m\u001b[0m\u001b[0;34m\u001b[0m\u001b[0m\n\u001b[0m\u001b[1;32m   3601\u001b[0m         \u001b[0;32melif\u001b[0m \u001b[0misinstance\u001b[0m\u001b[0;34m(\u001b[0m\u001b[0mvalue\u001b[0m\u001b[0;34m,\u001b[0m \u001b[0mDataFrame\u001b[0m\u001b[0;34m)\u001b[0m\u001b[0;34m:\u001b[0m\u001b[0;34m\u001b[0m\u001b[0;34m\u001b[0m\u001b[0m\n\u001b[1;32m   3602\u001b[0m             \u001b[0mself\u001b[0m\u001b[0;34m.\u001b[0m\u001b[0m_set_item_frame_value\u001b[0m\u001b[0;34m(\u001b[0m\u001b[0mkey\u001b[0m\u001b[0;34m,\u001b[0m \u001b[0mvalue\u001b[0m\u001b[0;34m)\u001b[0m\u001b[0;34m\u001b[0m\u001b[0;34m\u001b[0m\u001b[0m\n",
            "\u001b[0;32m/usr/local/lib/python3.7/dist-packages/pandas/core/frame.py\u001b[0m in \u001b[0;36m_setitem_array\u001b[0;34m(self, key, value)\u001b[0m\n\u001b[1;32m   3639\u001b[0m                 \u001b[0mcheck_key_length\u001b[0m\u001b[0;34m(\u001b[0m\u001b[0mself\u001b[0m\u001b[0;34m.\u001b[0m\u001b[0mcolumns\u001b[0m\u001b[0;34m,\u001b[0m \u001b[0mkey\u001b[0m\u001b[0;34m,\u001b[0m \u001b[0mvalue\u001b[0m\u001b[0;34m)\u001b[0m\u001b[0;34m\u001b[0m\u001b[0;34m\u001b[0m\u001b[0m\n\u001b[1;32m   3640\u001b[0m                 \u001b[0;32mfor\u001b[0m \u001b[0mk1\u001b[0m\u001b[0;34m,\u001b[0m \u001b[0mk2\u001b[0m \u001b[0;32min\u001b[0m \u001b[0mzip\u001b[0m\u001b[0;34m(\u001b[0m\u001b[0mkey\u001b[0m\u001b[0;34m,\u001b[0m \u001b[0mvalue\u001b[0m\u001b[0;34m.\u001b[0m\u001b[0mcolumns\u001b[0m\u001b[0;34m)\u001b[0m\u001b[0;34m:\u001b[0m\u001b[0;34m\u001b[0m\u001b[0;34m\u001b[0m\u001b[0m\n\u001b[0;32m-> 3641\u001b[0;31m                     \u001b[0mself\u001b[0m\u001b[0;34m[\u001b[0m\u001b[0mk1\u001b[0m\u001b[0;34m]\u001b[0m \u001b[0;34m=\u001b[0m \u001b[0mvalue\u001b[0m\u001b[0;34m[\u001b[0m\u001b[0mk2\u001b[0m\u001b[0;34m]\u001b[0m\u001b[0;34m\u001b[0m\u001b[0;34m\u001b[0m\u001b[0m\n\u001b[0m\u001b[1;32m   3642\u001b[0m \u001b[0;34m\u001b[0m\u001b[0m\n\u001b[1;32m   3643\u001b[0m             \u001b[0;32melif\u001b[0m \u001b[0;32mnot\u001b[0m \u001b[0mis_list_like\u001b[0m\u001b[0;34m(\u001b[0m\u001b[0mvalue\u001b[0m\u001b[0;34m)\u001b[0m\u001b[0;34m:\u001b[0m\u001b[0;34m\u001b[0m\u001b[0;34m\u001b[0m\u001b[0m\n",
            "\u001b[0;32m/usr/local/lib/python3.7/dist-packages/pandas/core/frame.py\u001b[0m in \u001b[0;36m__setitem__\u001b[0;34m(self, key, value)\u001b[0m\n\u001b[1;32m   3600\u001b[0m             \u001b[0mself\u001b[0m\u001b[0;34m.\u001b[0m\u001b[0m_setitem_array\u001b[0m\u001b[0;34m(\u001b[0m\u001b[0mkey\u001b[0m\u001b[0;34m,\u001b[0m \u001b[0mvalue\u001b[0m\u001b[0;34m)\u001b[0m\u001b[0;34m\u001b[0m\u001b[0;34m\u001b[0m\u001b[0m\n\u001b[1;32m   3601\u001b[0m         \u001b[0;32melif\u001b[0m \u001b[0misinstance\u001b[0m\u001b[0;34m(\u001b[0m\u001b[0mvalue\u001b[0m\u001b[0;34m,\u001b[0m \u001b[0mDataFrame\u001b[0m\u001b[0;34m)\u001b[0m\u001b[0;34m:\u001b[0m\u001b[0;34m\u001b[0m\u001b[0;34m\u001b[0m\u001b[0m\n\u001b[0;32m-> 3602\u001b[0;31m             \u001b[0mself\u001b[0m\u001b[0;34m.\u001b[0m\u001b[0m_set_item_frame_value\u001b[0m\u001b[0;34m(\u001b[0m\u001b[0mkey\u001b[0m\u001b[0;34m,\u001b[0m \u001b[0mvalue\u001b[0m\u001b[0;34m)\u001b[0m\u001b[0;34m\u001b[0m\u001b[0;34m\u001b[0m\u001b[0m\n\u001b[0m\u001b[1;32m   3603\u001b[0m         elif (\n\u001b[1;32m   3604\u001b[0m             \u001b[0mis_list_like\u001b[0m\u001b[0;34m(\u001b[0m\u001b[0mvalue\u001b[0m\u001b[0;34m)\u001b[0m\u001b[0;34m\u001b[0m\u001b[0;34m\u001b[0m\u001b[0m\n",
            "\u001b[0;32m/usr/local/lib/python3.7/dist-packages/pandas/core/frame.py\u001b[0m in \u001b[0;36m_set_item_frame_value\u001b[0;34m(self, key, value)\u001b[0m\n\u001b[1;32m   3727\u001b[0m             \u001b[0mlen_cols\u001b[0m \u001b[0;34m=\u001b[0m \u001b[0;36m1\u001b[0m \u001b[0;32mif\u001b[0m \u001b[0mis_scalar\u001b[0m\u001b[0;34m(\u001b[0m\u001b[0mcols\u001b[0m\u001b[0;34m)\u001b[0m \u001b[0;32melse\u001b[0m \u001b[0mlen\u001b[0m\u001b[0;34m(\u001b[0m\u001b[0mcols\u001b[0m\u001b[0;34m)\u001b[0m\u001b[0;34m\u001b[0m\u001b[0;34m\u001b[0m\u001b[0m\n\u001b[1;32m   3728\u001b[0m             \u001b[0;32mif\u001b[0m \u001b[0mlen_cols\u001b[0m \u001b[0;34m!=\u001b[0m \u001b[0mlen\u001b[0m\u001b[0;34m(\u001b[0m\u001b[0mvalue\u001b[0m\u001b[0;34m.\u001b[0m\u001b[0mcolumns\u001b[0m\u001b[0;34m)\u001b[0m\u001b[0;34m:\u001b[0m\u001b[0;34m\u001b[0m\u001b[0;34m\u001b[0m\u001b[0m\n\u001b[0;32m-> 3729\u001b[0;31m                 \u001b[0;32mraise\u001b[0m \u001b[0mValueError\u001b[0m\u001b[0;34m(\u001b[0m\u001b[0;34m\"Columns must be same length as key\"\u001b[0m\u001b[0;34m)\u001b[0m\u001b[0;34m\u001b[0m\u001b[0;34m\u001b[0m\u001b[0m\n\u001b[0m\u001b[1;32m   3730\u001b[0m \u001b[0;34m\u001b[0m\u001b[0m\n\u001b[1;32m   3731\u001b[0m             \u001b[0;31m# align right-hand-side columns if self.columns\u001b[0m\u001b[0;34m\u001b[0m\u001b[0;34m\u001b[0m\u001b[0;34m\u001b[0m\u001b[0m\n",
            "\u001b[0;31mValueError\u001b[0m: Columns must be same length as key"
          ]
        }
      ]
    },
    {
      "cell_type": "code",
      "source": [
        "df.dtypes"
      ],
      "metadata": {
        "colab": {
          "base_uri": "https://localhost:8080/"
        },
        "id": "4TEStNIBG9kA",
        "outputId": "0ed85826-415c-403d-b286-d3a58c1f1d4d"
      },
      "execution_count": 19,
      "outputs": [
        {
          "output_type": "execute_result",
          "data": {
            "text/plain": [
              "encounter_id                 object\n",
              "patient_nbr                  object\n",
              "race                         object\n",
              "gender                       object\n",
              "age                           int64\n",
              "admission_type_id            object\n",
              "discharge_disposition_id     object\n",
              "admission_source_id          object\n",
              "time_in_hospital              int64\n",
              "num_lab_procedures            int64\n",
              "num_procedures                int64\n",
              "num_medications               int64\n",
              "number_outpatient             int64\n",
              "number_emergency              int64\n",
              "number_inpatient              int64\n",
              "diag_1                       object\n",
              "diag_2                       object\n",
              "diag_3                       object\n",
              "number_diagnoses              int64\n",
              "max_glu_serum                 int64\n",
              "A1Cresult                     int64\n",
              "metformin                     int64\n",
              "repaglinide                   int64\n",
              "nateglinide                   int64\n",
              "chlorpropamide                int64\n",
              "glimepiride                   int64\n",
              "acetohexamide                 int64\n",
              "glipizide                     int64\n",
              "glyburide                     int64\n",
              "tolbutamide                   int64\n",
              "pioglitazone                  int64\n",
              "rosiglitazone                 int64\n",
              "acarbose                      int64\n",
              "miglitol                      int64\n",
              "troglitazone                  int64\n",
              "tolazamide                    int64\n",
              "insulin                       int64\n",
              "glyburide-metformin           int64\n",
              "glipizide-metformin           int64\n",
              "glimepiride-pioglitazone      int64\n",
              "metformin-rosiglitazone       int64\n",
              "metformin-pioglitazone        int64\n",
              "change                        int64\n",
              "diabetesMed                   int64\n",
              "readmitted                    int64\n",
              "service_utilization           int64\n",
              "numchange                     int64\n",
              "level1_diag1                float64\n",
              "level2_diag1                float64\n",
              "level1_diag2                float64\n",
              "level2_diag2                float64\n",
              "level1_diag3                float64\n",
              "level2_diag3                float64\n",
              "dtype: object"
            ]
          },
          "metadata": {},
          "execution_count": 19
        }
      ]
    },
    {
      "cell_type": "code",
      "source": [
        "df['nummed'] = 0\n",
        "\n",
        "for col in keys:\n",
        "    df['nummed'] = df['nummed'] + df[col]\n",
        "df['nummed'].value_counts()"
      ],
      "metadata": {
        "colab": {
          "base_uri": "https://localhost:8080/"
        },
        "id": "SlhE5FFAHQrv",
        "outputId": "44886450-2984-408f-ceb6-4c767f1242ee"
      },
      "execution_count": 20,
      "outputs": [
        {
          "output_type": "execute_result",
          "data": {
            "text/plain": [
              "1    44589\n",
              "0    22156\n",
              "2    20901\n",
              "3     7448\n",
              "4     1290\n",
              "5       57\n",
              "6        5\n",
              "Name: nummed, dtype: int64"
            ]
          },
          "metadata": {},
          "execution_count": 20
        }
      ]
    },
    {
      "cell_type": "code",
      "source": [
        "# get list of only numeric features\n",
        "num_col = list(set(list(df._get_numeric_data().columns))- {'readmitted'})\n",
        "num_col"
      ],
      "metadata": {
        "colab": {
          "base_uri": "https://localhost:8080/"
        },
        "id": "N4-mdJX6HVdI",
        "outputId": "e57856d3-6f1d-4f4b-e9a7-ad136bc12077"
      },
      "execution_count": 21,
      "outputs": [
        {
          "output_type": "execute_result",
          "data": {
            "text/plain": [
              "['metformin-pioglitazone',\n",
              " 'glimepiride',\n",
              " 'number_emergency',\n",
              " 'miglitol',\n",
              " 'age',\n",
              " 'glimepiride-pioglitazone',\n",
              " 'glipizide-metformin',\n",
              " 'num_medications',\n",
              " 'insulin',\n",
              " 'acetohexamide',\n",
              " 'A1Cresult',\n",
              " 'level1_diag3',\n",
              " 'level2_diag2',\n",
              " 'metformin',\n",
              " 'time_in_hospital',\n",
              " 'number_outpatient',\n",
              " 'tolbutamide',\n",
              " 'tolazamide',\n",
              " 'glyburide-metformin',\n",
              " 'rosiglitazone',\n",
              " 'num_procedures',\n",
              " 'max_glu_serum',\n",
              " 'number_diagnoses',\n",
              " 'numchange',\n",
              " 'glyburide',\n",
              " 'repaglinide',\n",
              " 'acarbose',\n",
              " 'service_utilization',\n",
              " 'number_inpatient',\n",
              " 'nummed',\n",
              " 'level1_diag2',\n",
              " 'level1_diag1',\n",
              " 'glipizide',\n",
              " 'nateglinide',\n",
              " 'metformin-rosiglitazone',\n",
              " 'troglitazone',\n",
              " 'level2_diag3',\n",
              " 'change',\n",
              " 'level2_diag1',\n",
              " 'pioglitazone',\n",
              " 'diabetesMed',\n",
              " 'chlorpropamide',\n",
              " 'num_lab_procedures']"
            ]
          },
          "metadata": {},
          "execution_count": 21
        }
      ]
    },
    {
      "cell_type": "code",
      "source": [
        "# Removing skewnewss and kurtosis using log transformation if it is above a threshold value -  2\n",
        "\n",
        "statdataframe = pd.DataFrame()\n",
        "statdataframe['numeric_column'] = num_col\n",
        "skew_before = []\n",
        "skew_after = []\n",
        "\n",
        "kurt_before = []\n",
        "kurt_after = []\n",
        "\n",
        "standard_deviation_before = []\n",
        "standard_deviation_after = []\n",
        "\n",
        "log_transform_needed = []\n",
        "\n",
        "log_type = []\n",
        "\n",
        "for i in num_col:\n",
        "    skewval = df[i].skew()\n",
        "    skew_before.append(skewval)\n",
        "    \n",
        "    kurtval = df[i].kurtosis()\n",
        "    kurt_before.append(kurtval)\n",
        "    \n",
        "    sdval = df[i].std()\n",
        "    standard_deviation_before.append(sdval)\n",
        "    \n",
        "    if (abs(skewval) >2) & (abs(kurtval) >2):\n",
        "        log_transform_needed.append('Yes')\n",
        "        \n",
        "        if len(df[df[i] == 0])/len(df) <=0.02:\n",
        "            log_type.append('log')\n",
        "            skewvalnew = np.log(pd.DataFrame(df[train_data[i] > 0])[i]).skew()\n",
        "            skew_after.append(skewvalnew)\n",
        "            \n",
        "            kurtvalnew = np.log(pd.DataFrame(df[train_data[i] > 0])[i]).kurtosis()\n",
        "            kurt_after.append(kurtvalnew)\n",
        "            \n",
        "            sdvalnew = np.log(pd.DataFrame(df[train_data[i] > 0])[i]).std()\n",
        "            standard_deviation_after.append(sdvalnew)\n",
        "            \n",
        "        else:\n",
        "            log_type.append('log1p')\n",
        "            skewvalnew = np.log1p(pd.DataFrame(df[df[i] >= 0])[i]).skew()\n",
        "            skew_after.append(skewvalnew)\n",
        "        \n",
        "            kurtvalnew = np.log1p(pd.DataFrame(df[df[i] >= 0])[i]).kurtosis()\n",
        "            kurt_after.append(kurtvalnew)\n",
        "            \n",
        "            sdvalnew = np.log1p(pd.DataFrame(df[df[i] >= 0])[i]).std()\n",
        "            standard_deviation_after.append(sdvalnew)\n",
        "            \n",
        "    else:\n",
        "        log_type.append('NA')\n",
        "        log_transform_needed.append('No')\n",
        "        \n",
        "        skew_after.append(skewval)\n",
        "        kurt_after.append(kurtval)\n",
        "        standard_deviation_after.append(sdval)\n",
        "\n",
        "statdataframe['skew_before'] = skew_before\n",
        "statdataframe['kurtosis_before'] = kurt_before\n",
        "statdataframe['standard_deviation_before'] = standard_deviation_before\n",
        "statdataframe['log_transform_needed'] = log_transform_needed\n",
        "statdataframe['log_type'] = log_type\n",
        "statdataframe['skew_after'] = skew_after\n",
        "statdataframe['kurtosis_after'] = kurt_after\n",
        "statdataframe['standard_deviation_after'] = standard_deviation_after"
      ],
      "metadata": {
        "id": "r7tIBbRfHcT4"
      },
      "execution_count": 22,
      "outputs": []
    },
    {
      "cell_type": "code",
      "source": [
        "statdataframe"
      ],
      "metadata": {
        "colab": {
          "base_uri": "https://localhost:8080/",
          "height": 1000
        },
        "id": "OAvtvcdbHivw",
        "outputId": "2e3ec40a-b7fe-41c5-b90a-739544e383c7"
      },
      "execution_count": 23,
      "outputs": [
        {
          "output_type": "execute_result",
          "data": {
            "text/plain": [
              "              numeric_column  skew_before  kurtosis_before  \\\n",
              "0     metformin-pioglitazone   310.557563     96446.000000   \n",
              "1                glimepiride     4.068706        14.554669   \n",
              "2           number_emergency    22.695921      1165.140400   \n",
              "3                   miglitol    51.026758      2601.783976   \n",
              "4                        age    -0.565291         0.105222   \n",
              "5   glimepiride-pioglitazone   310.557563     96446.000000   \n",
              "6        glipizide-metformin    86.117094      7414.307644   \n",
              "7            num_medications     1.339187         3.549325   \n",
              "8                    insulin    -0.123122        -1.984882   \n",
              "9              acetohexamide   310.557563     96446.000000   \n",
              "10                 A1Cresult     1.791122         1.208325   \n",
              "11              level1_diag3     1.049442         0.054007   \n",
              "12              level2_diag2     0.285854        -1.510718   \n",
              "13                 metformin     1.510610         0.281950   \n",
              "14          time_in_hospital     1.127510         0.839050   \n",
              "15         number_outpatient     8.767489       146.244961   \n",
              "16               tolbutamide    69.422260      4817.550020   \n",
              "17                tolazamide    51.026758      2601.783976   \n",
              "18       glyburide-metformin    11.954939       140.923497   \n",
              "19             rosiglitazone     3.577591        10.799383   \n",
              "20            num_procedures     1.313236         0.856100   \n",
              "21             max_glu_serum     4.001186        14.010314   \n",
              "22          number_diagnoses    -0.807741        -0.372558   \n",
              "23                 numchange     1.426548         1.451898   \n",
              "24                 glyburide     2.567007         4.589622   \n",
              "25               repaglinide     7.800453        58.848281   \n",
              "26                  acarbose    17.906908       318.663977   \n",
              "27       service_utilization     5.312374        67.194018   \n",
              "28          number_inpatient     3.566269        20.044813   \n",
              "29                    nummed     0.676983         0.277124   \n",
              "30              level1_diag2     1.107870         0.076299   \n",
              "31              level1_diag1     0.910145        -0.231382   \n",
              "32                 glipizide     2.246318         3.046006   \n",
              "33               nateglinide    11.756734       136.223627   \n",
              "34   metformin-rosiglitazone     0.000000         0.000000   \n",
              "35              troglitazone   179.294915     32145.333230   \n",
              "36              level2_diag3     0.225509        -1.534922   \n",
              "37                    change     0.145378        -1.978906   \n",
              "38              level2_diag1     0.311029        -1.334546   \n",
              "39              pioglitazone     3.280165         8.759663   \n",
              "40               diabetesMed    -1.285041        -0.348677   \n",
              "41            chlorpropamide    34.252125      1171.232364   \n",
              "42        num_lab_procedures    -0.240626        -0.253275   \n",
              "\n",
              "    standard_deviation_before log_transform_needed log_type  skew_after  \\\n",
              "0                    0.003220                  Yes    log1p  310.557563   \n",
              "1                    0.220575                  Yes    log1p    4.068706   \n",
              "2                    0.948089                  Yes    log1p    3.614471   \n",
              "3                    0.019583                  Yes    log1p   51.026758   \n",
              "4                   15.594335                   No       NA   -0.565291   \n",
              "5                    0.003220                  Yes    log1p  310.557563   \n",
              "6                    0.011609                  Yes    log1p   86.117094   \n",
              "7                    8.072516                   No       NA    1.339187   \n",
              "8                    0.499058                   No       NA   -0.123122   \n",
              "9                    0.003220                  Yes    log1p  310.557563   \n",
              "10                  37.137152                   No       NA    1.791122   \n",
              "11                   2.229791                   No       NA    1.049442   \n",
              "12                   7.503843                   No       NA    0.285854   \n",
              "13                   0.398986                   No       NA    1.510610   \n",
              "14                   2.982330                   No       NA    1.127510   \n",
              "15                   1.280061                  Yes    log1p    2.708627   \n",
              "16                   0.014399                  Yes    log1p   69.422260   \n",
              "17                   0.019583                  Yes    log1p   51.026758   \n",
              "18                   0.082503                  Yes    log1p   11.954939   \n",
              "19                   0.243985                  Yes    log1p    3.577591   \n",
              "20                   1.703183                   No       NA    1.313236   \n",
              "21                  22.246599                  Yes    log1p   -0.027128   \n",
              "22                   1.836659                   No       NA   -0.807741   \n",
              "23                   0.488614                   No       NA    1.426548   \n",
              "24                   0.307304                  Yes    log1p    2.567007   \n",
              "25                   0.124183                  Yes    log1p    7.800453   \n",
              "26                   0.055500                  Yes    log1p   17.906908   \n",
              "27                   2.315789                  Yes    log1p    1.097244   \n",
              "28                   1.269975                  Yes    log1p    1.425127   \n",
              "29                   0.923336                   No       NA    0.676983   \n",
              "30                   2.314874                   No       NA    1.107870   \n",
              "31                   2.258007                   No       NA    0.910145   \n",
              "32                   0.332490                  Yes    log1p    2.246318   \n",
              "33                   0.083855                  Yes    log1p   11.756734   \n",
              "34                   0.000000                   No       NA    0.000000   \n",
              "35                   0.005577                  Yes    log1p  179.294915   \n",
              "36                   7.591235                   No       NA    0.225509   \n",
              "37                   0.498687                   No       NA    0.145378   \n",
              "38                   6.847464                   No       NA    0.311029   \n",
              "39                   0.260298                  Yes    log1p    3.280165   \n",
              "40                   0.420658                   No       NA   -1.285041   \n",
              "41                   0.029146                  Yes    log1p   34.252125   \n",
              "42                  19.656782                   No       NA   -0.240626   \n",
              "\n",
              "    kurtosis_after  standard_deviation_after  \n",
              "0     96446.000000                  0.002232  \n",
              "1        14.554669                  0.152891  \n",
              "2        15.854105                  0.318742  \n",
              "3      2601.783976                  0.013574  \n",
              "4         0.105222                 15.594335  \n",
              "5     96446.000000                  0.002232  \n",
              "6      7414.307644                  0.008047  \n",
              "7         3.549325                  8.072516  \n",
              "8        -1.984882                  0.499058  \n",
              "9     96446.000000                  0.002232  \n",
              "10        1.208325                 37.137152  \n",
              "11        0.054007                  2.229791  \n",
              "12       -1.510718                  7.503843  \n",
              "13        0.281950                  0.398986  \n",
              "14        0.839050                  2.982330  \n",
              "15        7.648535                  0.432949  \n",
              "16     4817.550020                  0.009981  \n",
              "17     2601.783976                  0.013574  \n",
              "18      140.923497                  0.057186  \n",
              "19       10.799383                  0.169118  \n",
              "20        0.856100                  1.703183  \n",
              "21       -2.000050                  0.346576  \n",
              "22       -0.372558                  1.836659  \n",
              "23        1.451898                  0.488614  \n",
              "24        4.589622                  0.213007  \n",
              "25       58.848281                  0.086077  \n",
              "26      318.663977                  0.038470  \n",
              "27        0.497241                  0.665656  \n",
              "28        1.319186                  0.513389  \n",
              "29        0.277124                  0.923336  \n",
              "30        0.076299                  2.314874  \n",
              "31       -0.231382                  2.258007  \n",
              "32        3.046006                  0.230465  \n",
              "33      136.223627                  0.058124  \n",
              "34        0.000000                  0.000000  \n",
              "35    32145.333230                  0.003866  \n",
              "36       -1.534922                  7.591235  \n",
              "37       -1.978906                  0.498687  \n",
              "38       -1.334546                  6.847464  \n",
              "39        8.759663                  0.180425  \n",
              "40       -0.348677                  0.420658  \n",
              "41     1171.232364                  0.020203  \n",
              "42       -0.253275                 19.656782  "
            ],
            "text/html": [
              "\n",
              "  <div id=\"df-1e0c3395-d4df-49f1-9d25-4162f8f31739\">\n",
              "    <div class=\"colab-df-container\">\n",
              "      <div>\n",
              "<style scoped>\n",
              "    .dataframe tbody tr th:only-of-type {\n",
              "        vertical-align: middle;\n",
              "    }\n",
              "\n",
              "    .dataframe tbody tr th {\n",
              "        vertical-align: top;\n",
              "    }\n",
              "\n",
              "    .dataframe thead th {\n",
              "        text-align: right;\n",
              "    }\n",
              "</style>\n",
              "<table border=\"1\" class=\"dataframe\">\n",
              "  <thead>\n",
              "    <tr style=\"text-align: right;\">\n",
              "      <th></th>\n",
              "      <th>numeric_column</th>\n",
              "      <th>skew_before</th>\n",
              "      <th>kurtosis_before</th>\n",
              "      <th>standard_deviation_before</th>\n",
              "      <th>log_transform_needed</th>\n",
              "      <th>log_type</th>\n",
              "      <th>skew_after</th>\n",
              "      <th>kurtosis_after</th>\n",
              "      <th>standard_deviation_after</th>\n",
              "    </tr>\n",
              "  </thead>\n",
              "  <tbody>\n",
              "    <tr>\n",
              "      <th>0</th>\n",
              "      <td>metformin-pioglitazone</td>\n",
              "      <td>310.557563</td>\n",
              "      <td>96446.000000</td>\n",
              "      <td>0.003220</td>\n",
              "      <td>Yes</td>\n",
              "      <td>log1p</td>\n",
              "      <td>310.557563</td>\n",
              "      <td>96446.000000</td>\n",
              "      <td>0.002232</td>\n",
              "    </tr>\n",
              "    <tr>\n",
              "      <th>1</th>\n",
              "      <td>glimepiride</td>\n",
              "      <td>4.068706</td>\n",
              "      <td>14.554669</td>\n",
              "      <td>0.220575</td>\n",
              "      <td>Yes</td>\n",
              "      <td>log1p</td>\n",
              "      <td>4.068706</td>\n",
              "      <td>14.554669</td>\n",
              "      <td>0.152891</td>\n",
              "    </tr>\n",
              "    <tr>\n",
              "      <th>2</th>\n",
              "      <td>number_emergency</td>\n",
              "      <td>22.695921</td>\n",
              "      <td>1165.140400</td>\n",
              "      <td>0.948089</td>\n",
              "      <td>Yes</td>\n",
              "      <td>log1p</td>\n",
              "      <td>3.614471</td>\n",
              "      <td>15.854105</td>\n",
              "      <td>0.318742</td>\n",
              "    </tr>\n",
              "    <tr>\n",
              "      <th>3</th>\n",
              "      <td>miglitol</td>\n",
              "      <td>51.026758</td>\n",
              "      <td>2601.783976</td>\n",
              "      <td>0.019583</td>\n",
              "      <td>Yes</td>\n",
              "      <td>log1p</td>\n",
              "      <td>51.026758</td>\n",
              "      <td>2601.783976</td>\n",
              "      <td>0.013574</td>\n",
              "    </tr>\n",
              "    <tr>\n",
              "      <th>4</th>\n",
              "      <td>age</td>\n",
              "      <td>-0.565291</td>\n",
              "      <td>0.105222</td>\n",
              "      <td>15.594335</td>\n",
              "      <td>No</td>\n",
              "      <td>NA</td>\n",
              "      <td>-0.565291</td>\n",
              "      <td>0.105222</td>\n",
              "      <td>15.594335</td>\n",
              "    </tr>\n",
              "    <tr>\n",
              "      <th>5</th>\n",
              "      <td>glimepiride-pioglitazone</td>\n",
              "      <td>310.557563</td>\n",
              "      <td>96446.000000</td>\n",
              "      <td>0.003220</td>\n",
              "      <td>Yes</td>\n",
              "      <td>log1p</td>\n",
              "      <td>310.557563</td>\n",
              "      <td>96446.000000</td>\n",
              "      <td>0.002232</td>\n",
              "    </tr>\n",
              "    <tr>\n",
              "      <th>6</th>\n",
              "      <td>glipizide-metformin</td>\n",
              "      <td>86.117094</td>\n",
              "      <td>7414.307644</td>\n",
              "      <td>0.011609</td>\n",
              "      <td>Yes</td>\n",
              "      <td>log1p</td>\n",
              "      <td>86.117094</td>\n",
              "      <td>7414.307644</td>\n",
              "      <td>0.008047</td>\n",
              "    </tr>\n",
              "    <tr>\n",
              "      <th>7</th>\n",
              "      <td>num_medications</td>\n",
              "      <td>1.339187</td>\n",
              "      <td>3.549325</td>\n",
              "      <td>8.072516</td>\n",
              "      <td>No</td>\n",
              "      <td>NA</td>\n",
              "      <td>1.339187</td>\n",
              "      <td>3.549325</td>\n",
              "      <td>8.072516</td>\n",
              "    </tr>\n",
              "    <tr>\n",
              "      <th>8</th>\n",
              "      <td>insulin</td>\n",
              "      <td>-0.123122</td>\n",
              "      <td>-1.984882</td>\n",
              "      <td>0.499058</td>\n",
              "      <td>No</td>\n",
              "      <td>NA</td>\n",
              "      <td>-0.123122</td>\n",
              "      <td>-1.984882</td>\n",
              "      <td>0.499058</td>\n",
              "    </tr>\n",
              "    <tr>\n",
              "      <th>9</th>\n",
              "      <td>acetohexamide</td>\n",
              "      <td>310.557563</td>\n",
              "      <td>96446.000000</td>\n",
              "      <td>0.003220</td>\n",
              "      <td>Yes</td>\n",
              "      <td>log1p</td>\n",
              "      <td>310.557563</td>\n",
              "      <td>96446.000000</td>\n",
              "      <td>0.002232</td>\n",
              "    </tr>\n",
              "    <tr>\n",
              "      <th>10</th>\n",
              "      <td>A1Cresult</td>\n",
              "      <td>1.791122</td>\n",
              "      <td>1.208325</td>\n",
              "      <td>37.137152</td>\n",
              "      <td>No</td>\n",
              "      <td>NA</td>\n",
              "      <td>1.791122</td>\n",
              "      <td>1.208325</td>\n",
              "      <td>37.137152</td>\n",
              "    </tr>\n",
              "    <tr>\n",
              "      <th>11</th>\n",
              "      <td>level1_diag3</td>\n",
              "      <td>1.049442</td>\n",
              "      <td>0.054007</td>\n",
              "      <td>2.229791</td>\n",
              "      <td>No</td>\n",
              "      <td>NA</td>\n",
              "      <td>1.049442</td>\n",
              "      <td>0.054007</td>\n",
              "      <td>2.229791</td>\n",
              "    </tr>\n",
              "    <tr>\n",
              "      <th>12</th>\n",
              "      <td>level2_diag2</td>\n",
              "      <td>0.285854</td>\n",
              "      <td>-1.510718</td>\n",
              "      <td>7.503843</td>\n",
              "      <td>No</td>\n",
              "      <td>NA</td>\n",
              "      <td>0.285854</td>\n",
              "      <td>-1.510718</td>\n",
              "      <td>7.503843</td>\n",
              "    </tr>\n",
              "    <tr>\n",
              "      <th>13</th>\n",
              "      <td>metformin</td>\n",
              "      <td>1.510610</td>\n",
              "      <td>0.281950</td>\n",
              "      <td>0.398986</td>\n",
              "      <td>No</td>\n",
              "      <td>NA</td>\n",
              "      <td>1.510610</td>\n",
              "      <td>0.281950</td>\n",
              "      <td>0.398986</td>\n",
              "    </tr>\n",
              "    <tr>\n",
              "      <th>14</th>\n",
              "      <td>time_in_hospital</td>\n",
              "      <td>1.127510</td>\n",
              "      <td>0.839050</td>\n",
              "      <td>2.982330</td>\n",
              "      <td>No</td>\n",
              "      <td>NA</td>\n",
              "      <td>1.127510</td>\n",
              "      <td>0.839050</td>\n",
              "      <td>2.982330</td>\n",
              "    </tr>\n",
              "    <tr>\n",
              "      <th>15</th>\n",
              "      <td>number_outpatient</td>\n",
              "      <td>8.767489</td>\n",
              "      <td>146.244961</td>\n",
              "      <td>1.280061</td>\n",
              "      <td>Yes</td>\n",
              "      <td>log1p</td>\n",
              "      <td>2.708627</td>\n",
              "      <td>7.648535</td>\n",
              "      <td>0.432949</td>\n",
              "    </tr>\n",
              "    <tr>\n",
              "      <th>16</th>\n",
              "      <td>tolbutamide</td>\n",
              "      <td>69.422260</td>\n",
              "      <td>4817.550020</td>\n",
              "      <td>0.014399</td>\n",
              "      <td>Yes</td>\n",
              "      <td>log1p</td>\n",
              "      <td>69.422260</td>\n",
              "      <td>4817.550020</td>\n",
              "      <td>0.009981</td>\n",
              "    </tr>\n",
              "    <tr>\n",
              "      <th>17</th>\n",
              "      <td>tolazamide</td>\n",
              "      <td>51.026758</td>\n",
              "      <td>2601.783976</td>\n",
              "      <td>0.019583</td>\n",
              "      <td>Yes</td>\n",
              "      <td>log1p</td>\n",
              "      <td>51.026758</td>\n",
              "      <td>2601.783976</td>\n",
              "      <td>0.013574</td>\n",
              "    </tr>\n",
              "    <tr>\n",
              "      <th>18</th>\n",
              "      <td>glyburide-metformin</td>\n",
              "      <td>11.954939</td>\n",
              "      <td>140.923497</td>\n",
              "      <td>0.082503</td>\n",
              "      <td>Yes</td>\n",
              "      <td>log1p</td>\n",
              "      <td>11.954939</td>\n",
              "      <td>140.923497</td>\n",
              "      <td>0.057186</td>\n",
              "    </tr>\n",
              "    <tr>\n",
              "      <th>19</th>\n",
              "      <td>rosiglitazone</td>\n",
              "      <td>3.577591</td>\n",
              "      <td>10.799383</td>\n",
              "      <td>0.243985</td>\n",
              "      <td>Yes</td>\n",
              "      <td>log1p</td>\n",
              "      <td>3.577591</td>\n",
              "      <td>10.799383</td>\n",
              "      <td>0.169118</td>\n",
              "    </tr>\n",
              "    <tr>\n",
              "      <th>20</th>\n",
              "      <td>num_procedures</td>\n",
              "      <td>1.313236</td>\n",
              "      <td>0.856100</td>\n",
              "      <td>1.703183</td>\n",
              "      <td>No</td>\n",
              "      <td>NA</td>\n",
              "      <td>1.313236</td>\n",
              "      <td>0.856100</td>\n",
              "      <td>1.703183</td>\n",
              "    </tr>\n",
              "    <tr>\n",
              "      <th>21</th>\n",
              "      <td>max_glu_serum</td>\n",
              "      <td>4.001186</td>\n",
              "      <td>14.010314</td>\n",
              "      <td>22.246599</td>\n",
              "      <td>Yes</td>\n",
              "      <td>log1p</td>\n",
              "      <td>-0.027128</td>\n",
              "      <td>-2.000050</td>\n",
              "      <td>0.346576</td>\n",
              "    </tr>\n",
              "    <tr>\n",
              "      <th>22</th>\n",
              "      <td>number_diagnoses</td>\n",
              "      <td>-0.807741</td>\n",
              "      <td>-0.372558</td>\n",
              "      <td>1.836659</td>\n",
              "      <td>No</td>\n",
              "      <td>NA</td>\n",
              "      <td>-0.807741</td>\n",
              "      <td>-0.372558</td>\n",
              "      <td>1.836659</td>\n",
              "    </tr>\n",
              "    <tr>\n",
              "      <th>23</th>\n",
              "      <td>numchange</td>\n",
              "      <td>1.426548</td>\n",
              "      <td>1.451898</td>\n",
              "      <td>0.488614</td>\n",
              "      <td>No</td>\n",
              "      <td>NA</td>\n",
              "      <td>1.426548</td>\n",
              "      <td>1.451898</td>\n",
              "      <td>0.488614</td>\n",
              "    </tr>\n",
              "    <tr>\n",
              "      <th>24</th>\n",
              "      <td>glyburide</td>\n",
              "      <td>2.567007</td>\n",
              "      <td>4.589622</td>\n",
              "      <td>0.307304</td>\n",
              "      <td>Yes</td>\n",
              "      <td>log1p</td>\n",
              "      <td>2.567007</td>\n",
              "      <td>4.589622</td>\n",
              "      <td>0.213007</td>\n",
              "    </tr>\n",
              "    <tr>\n",
              "      <th>25</th>\n",
              "      <td>repaglinide</td>\n",
              "      <td>7.800453</td>\n",
              "      <td>58.848281</td>\n",
              "      <td>0.124183</td>\n",
              "      <td>Yes</td>\n",
              "      <td>log1p</td>\n",
              "      <td>7.800453</td>\n",
              "      <td>58.848281</td>\n",
              "      <td>0.086077</td>\n",
              "    </tr>\n",
              "    <tr>\n",
              "      <th>26</th>\n",
              "      <td>acarbose</td>\n",
              "      <td>17.906908</td>\n",
              "      <td>318.663977</td>\n",
              "      <td>0.055500</td>\n",
              "      <td>Yes</td>\n",
              "      <td>log1p</td>\n",
              "      <td>17.906908</td>\n",
              "      <td>318.663977</td>\n",
              "      <td>0.038470</td>\n",
              "    </tr>\n",
              "    <tr>\n",
              "      <th>27</th>\n",
              "      <td>service_utilization</td>\n",
              "      <td>5.312374</td>\n",
              "      <td>67.194018</td>\n",
              "      <td>2.315789</td>\n",
              "      <td>Yes</td>\n",
              "      <td>log1p</td>\n",
              "      <td>1.097244</td>\n",
              "      <td>0.497241</td>\n",
              "      <td>0.665656</td>\n",
              "    </tr>\n",
              "    <tr>\n",
              "      <th>28</th>\n",
              "      <td>number_inpatient</td>\n",
              "      <td>3.566269</td>\n",
              "      <td>20.044813</td>\n",
              "      <td>1.269975</td>\n",
              "      <td>Yes</td>\n",
              "      <td>log1p</td>\n",
              "      <td>1.425127</td>\n",
              "      <td>1.319186</td>\n",
              "      <td>0.513389</td>\n",
              "    </tr>\n",
              "    <tr>\n",
              "      <th>29</th>\n",
              "      <td>nummed</td>\n",
              "      <td>0.676983</td>\n",
              "      <td>0.277124</td>\n",
              "      <td>0.923336</td>\n",
              "      <td>No</td>\n",
              "      <td>NA</td>\n",
              "      <td>0.676983</td>\n",
              "      <td>0.277124</td>\n",
              "      <td>0.923336</td>\n",
              "    </tr>\n",
              "    <tr>\n",
              "      <th>30</th>\n",
              "      <td>level1_diag2</td>\n",
              "      <td>1.107870</td>\n",
              "      <td>0.076299</td>\n",
              "      <td>2.314874</td>\n",
              "      <td>No</td>\n",
              "      <td>NA</td>\n",
              "      <td>1.107870</td>\n",
              "      <td>0.076299</td>\n",
              "      <td>2.314874</td>\n",
              "    </tr>\n",
              "    <tr>\n",
              "      <th>31</th>\n",
              "      <td>level1_diag1</td>\n",
              "      <td>0.910145</td>\n",
              "      <td>-0.231382</td>\n",
              "      <td>2.258007</td>\n",
              "      <td>No</td>\n",
              "      <td>NA</td>\n",
              "      <td>0.910145</td>\n",
              "      <td>-0.231382</td>\n",
              "      <td>2.258007</td>\n",
              "    </tr>\n",
              "    <tr>\n",
              "      <th>32</th>\n",
              "      <td>glipizide</td>\n",
              "      <td>2.246318</td>\n",
              "      <td>3.046006</td>\n",
              "      <td>0.332490</td>\n",
              "      <td>Yes</td>\n",
              "      <td>log1p</td>\n",
              "      <td>2.246318</td>\n",
              "      <td>3.046006</td>\n",
              "      <td>0.230465</td>\n",
              "    </tr>\n",
              "    <tr>\n",
              "      <th>33</th>\n",
              "      <td>nateglinide</td>\n",
              "      <td>11.756734</td>\n",
              "      <td>136.223627</td>\n",
              "      <td>0.083855</td>\n",
              "      <td>Yes</td>\n",
              "      <td>log1p</td>\n",
              "      <td>11.756734</td>\n",
              "      <td>136.223627</td>\n",
              "      <td>0.058124</td>\n",
              "    </tr>\n",
              "    <tr>\n",
              "      <th>34</th>\n",
              "      <td>metformin-rosiglitazone</td>\n",
              "      <td>0.000000</td>\n",
              "      <td>0.000000</td>\n",
              "      <td>0.000000</td>\n",
              "      <td>No</td>\n",
              "      <td>NA</td>\n",
              "      <td>0.000000</td>\n",
              "      <td>0.000000</td>\n",
              "      <td>0.000000</td>\n",
              "    </tr>\n",
              "    <tr>\n",
              "      <th>35</th>\n",
              "      <td>troglitazone</td>\n",
              "      <td>179.294915</td>\n",
              "      <td>32145.333230</td>\n",
              "      <td>0.005577</td>\n",
              "      <td>Yes</td>\n",
              "      <td>log1p</td>\n",
              "      <td>179.294915</td>\n",
              "      <td>32145.333230</td>\n",
              "      <td>0.003866</td>\n",
              "    </tr>\n",
              "    <tr>\n",
              "      <th>36</th>\n",
              "      <td>level2_diag3</td>\n",
              "      <td>0.225509</td>\n",
              "      <td>-1.534922</td>\n",
              "      <td>7.591235</td>\n",
              "      <td>No</td>\n",
              "      <td>NA</td>\n",
              "      <td>0.225509</td>\n",
              "      <td>-1.534922</td>\n",
              "      <td>7.591235</td>\n",
              "    </tr>\n",
              "    <tr>\n",
              "      <th>37</th>\n",
              "      <td>change</td>\n",
              "      <td>0.145378</td>\n",
              "      <td>-1.978906</td>\n",
              "      <td>0.498687</td>\n",
              "      <td>No</td>\n",
              "      <td>NA</td>\n",
              "      <td>0.145378</td>\n",
              "      <td>-1.978906</td>\n",
              "      <td>0.498687</td>\n",
              "    </tr>\n",
              "    <tr>\n",
              "      <th>38</th>\n",
              "      <td>level2_diag1</td>\n",
              "      <td>0.311029</td>\n",
              "      <td>-1.334546</td>\n",
              "      <td>6.847464</td>\n",
              "      <td>No</td>\n",
              "      <td>NA</td>\n",
              "      <td>0.311029</td>\n",
              "      <td>-1.334546</td>\n",
              "      <td>6.847464</td>\n",
              "    </tr>\n",
              "    <tr>\n",
              "      <th>39</th>\n",
              "      <td>pioglitazone</td>\n",
              "      <td>3.280165</td>\n",
              "      <td>8.759663</td>\n",
              "      <td>0.260298</td>\n",
              "      <td>Yes</td>\n",
              "      <td>log1p</td>\n",
              "      <td>3.280165</td>\n",
              "      <td>8.759663</td>\n",
              "      <td>0.180425</td>\n",
              "    </tr>\n",
              "    <tr>\n",
              "      <th>40</th>\n",
              "      <td>diabetesMed</td>\n",
              "      <td>-1.285041</td>\n",
              "      <td>-0.348677</td>\n",
              "      <td>0.420658</td>\n",
              "      <td>No</td>\n",
              "      <td>NA</td>\n",
              "      <td>-1.285041</td>\n",
              "      <td>-0.348677</td>\n",
              "      <td>0.420658</td>\n",
              "    </tr>\n",
              "    <tr>\n",
              "      <th>41</th>\n",
              "      <td>chlorpropamide</td>\n",
              "      <td>34.252125</td>\n",
              "      <td>1171.232364</td>\n",
              "      <td>0.029146</td>\n",
              "      <td>Yes</td>\n",
              "      <td>log1p</td>\n",
              "      <td>34.252125</td>\n",
              "      <td>1171.232364</td>\n",
              "      <td>0.020203</td>\n",
              "    </tr>\n",
              "    <tr>\n",
              "      <th>42</th>\n",
              "      <td>num_lab_procedures</td>\n",
              "      <td>-0.240626</td>\n",
              "      <td>-0.253275</td>\n",
              "      <td>19.656782</td>\n",
              "      <td>No</td>\n",
              "      <td>NA</td>\n",
              "      <td>-0.240626</td>\n",
              "      <td>-0.253275</td>\n",
              "      <td>19.656782</td>\n",
              "    </tr>\n",
              "  </tbody>\n",
              "</table>\n",
              "</div>\n",
              "      <button class=\"colab-df-convert\" onclick=\"convertToInteractive('df-1e0c3395-d4df-49f1-9d25-4162f8f31739')\"\n",
              "              title=\"Convert this dataframe to an interactive table.\"\n",
              "              style=\"display:none;\">\n",
              "        \n",
              "  <svg xmlns=\"http://www.w3.org/2000/svg\" height=\"24px\"viewBox=\"0 0 24 24\"\n",
              "       width=\"24px\">\n",
              "    <path d=\"M0 0h24v24H0V0z\" fill=\"none\"/>\n",
              "    <path d=\"M18.56 5.44l.94 2.06.94-2.06 2.06-.94-2.06-.94-.94-2.06-.94 2.06-2.06.94zm-11 1L8.5 8.5l.94-2.06 2.06-.94-2.06-.94L8.5 2.5l-.94 2.06-2.06.94zm10 10l.94 2.06.94-2.06 2.06-.94-2.06-.94-.94-2.06-.94 2.06-2.06.94z\"/><path d=\"M17.41 7.96l-1.37-1.37c-.4-.4-.92-.59-1.43-.59-.52 0-1.04.2-1.43.59L10.3 9.45l-7.72 7.72c-.78.78-.78 2.05 0 2.83L4 21.41c.39.39.9.59 1.41.59.51 0 1.02-.2 1.41-.59l7.78-7.78 2.81-2.81c.8-.78.8-2.07 0-2.86zM5.41 20L4 18.59l7.72-7.72 1.47 1.35L5.41 20z\"/>\n",
              "  </svg>\n",
              "      </button>\n",
              "      \n",
              "  <style>\n",
              "    .colab-df-container {\n",
              "      display:flex;\n",
              "      flex-wrap:wrap;\n",
              "      gap: 12px;\n",
              "    }\n",
              "\n",
              "    .colab-df-convert {\n",
              "      background-color: #E8F0FE;\n",
              "      border: none;\n",
              "      border-radius: 50%;\n",
              "      cursor: pointer;\n",
              "      display: none;\n",
              "      fill: #1967D2;\n",
              "      height: 32px;\n",
              "      padding: 0 0 0 0;\n",
              "      width: 32px;\n",
              "    }\n",
              "\n",
              "    .colab-df-convert:hover {\n",
              "      background-color: #E2EBFA;\n",
              "      box-shadow: 0px 1px 2px rgba(60, 64, 67, 0.3), 0px 1px 3px 1px rgba(60, 64, 67, 0.15);\n",
              "      fill: #174EA6;\n",
              "    }\n",
              "\n",
              "    [theme=dark] .colab-df-convert {\n",
              "      background-color: #3B4455;\n",
              "      fill: #D2E3FC;\n",
              "    }\n",
              "\n",
              "    [theme=dark] .colab-df-convert:hover {\n",
              "      background-color: #434B5C;\n",
              "      box-shadow: 0px 1px 3px 1px rgba(0, 0, 0, 0.15);\n",
              "      filter: drop-shadow(0px 1px 2px rgba(0, 0, 0, 0.3));\n",
              "      fill: #FFFFFF;\n",
              "    }\n",
              "  </style>\n",
              "\n",
              "      <script>\n",
              "        const buttonEl =\n",
              "          document.querySelector('#df-1e0c3395-d4df-49f1-9d25-4162f8f31739 button.colab-df-convert');\n",
              "        buttonEl.style.display =\n",
              "          google.colab.kernel.accessAllowed ? 'block' : 'none';\n",
              "\n",
              "        async function convertToInteractive(key) {\n",
              "          const element = document.querySelector('#df-1e0c3395-d4df-49f1-9d25-4162f8f31739');\n",
              "          const dataTable =\n",
              "            await google.colab.kernel.invokeFunction('convertToInteractive',\n",
              "                                                     [key], {});\n",
              "          if (!dataTable) return;\n",
              "\n",
              "          const docLinkHtml = 'Like what you see? Visit the ' +\n",
              "            '<a target=\"_blank\" href=https://colab.research.google.com/notebooks/data_table.ipynb>data table notebook</a>'\n",
              "            + ' to learn more about interactive tables.';\n",
              "          element.innerHTML = '';\n",
              "          dataTable['output_type'] = 'display_data';\n",
              "          await google.colab.output.renderOutput(dataTable, element);\n",
              "          const docLink = document.createElement('div');\n",
              "          docLink.innerHTML = docLinkHtml;\n",
              "          element.appendChild(docLink);\n",
              "        }\n",
              "      </script>\n",
              "    </div>\n",
              "  </div>\n",
              "  "
            ]
          },
          "metadata": {},
          "execution_count": 23
        }
      ]
    },
    {
      "cell_type": "code",
      "source": [
        "# performing the log transformation for the columns determined to be needing it above.\n",
        "\n",
        "for i in range(len(statdataframe)):\n",
        "    if statdataframe['log_transform_needed'][i] == 'Yes':\n",
        "        colname = str(statdataframe['numeric_column'][i])\n",
        "        \n",
        "        if statdataframe['log_type'][i] == 'log':\n",
        "            df = df[df[colname] > 0]\n",
        "            df[colname + \"_log\"] = np.log(df[colname])\n",
        "            \n",
        "        elif statdataframe['log_type'][i] == 'log1p':\n",
        "            df = df[df[colname] >= 0]\n",
        "            df[colname + \"_log1p\"] = np.log1p(df[colname])"
      ],
      "metadata": {
        "id": "aP_0h7RKHt_y"
      },
      "execution_count": 24,
      "outputs": []
    },
    {
      "cell_type": "code",
      "source": [
        "df = df.drop(['number_outpatient', 'number_inpatient', 'number_emergency','service_utilization'], axis = 1)"
      ],
      "metadata": {
        "id": "aLE5kU32Hy-R"
      },
      "execution_count": 25,
      "outputs": []
    },
    {
      "cell_type": "code",
      "source": [
        "df.shape"
      ],
      "metadata": {
        "colab": {
          "base_uri": "https://localhost:8080/"
        },
        "id": "pe3jf-vRH1g7",
        "outputId": "cbbec11a-c1df-42b4-8b8c-36df30d307de"
      },
      "execution_count": 26,
      "outputs": [
        {
          "output_type": "execute_result",
          "data": {
            "text/plain": [
              "(5089, 73)"
            ]
          },
          "metadata": {},
          "execution_count": 26
        }
      ]
    },
    {
      "cell_type": "code",
      "source": [
        "# get list of only numeric features\n",
        "numerics = list(set(list(df._get_numeric_data().columns))- {'readmitted'})\n",
        "numerics"
      ],
      "metadata": {
        "colab": {
          "base_uri": "https://localhost:8080/"
        },
        "id": "__iThT9MH5B_",
        "outputId": "66bcdac3-2af6-43d0-90ce-259f9dd24904"
      },
      "execution_count": 27,
      "outputs": [
        {
          "output_type": "execute_result",
          "data": {
            "text/plain": [
              "['metformin-pioglitazone',\n",
              " 'glimepiride',\n",
              " 'glyburide_log1p',\n",
              " 'miglitol',\n",
              " 'glimepiride_log1p',\n",
              " 'age',\n",
              " 'tolbutamide_log1p',\n",
              " 'glimepiride-pioglitazone',\n",
              " 'glipizide-metformin',\n",
              " 'num_medications',\n",
              " 'max_glu_serum_log1p',\n",
              " 'insulin',\n",
              " 'pioglitazone_log1p',\n",
              " 'acetohexamide',\n",
              " 'A1Cresult',\n",
              " 'level1_diag3',\n",
              " 'glipizide-metformin_log1p',\n",
              " 'level2_diag2',\n",
              " 'metformin',\n",
              " 'service_utilization_log1p',\n",
              " 'time_in_hospital',\n",
              " 'tolbutamide',\n",
              " 'tolazamide',\n",
              " 'glyburide-metformin',\n",
              " 'rosiglitazone',\n",
              " 'troglitazone_log1p',\n",
              " 'num_procedures',\n",
              " 'miglitol_log1p',\n",
              " 'number_emergency_log1p',\n",
              " 'max_glu_serum',\n",
              " 'number_diagnoses',\n",
              " 'numchange',\n",
              " 'glyburide',\n",
              " 'repaglinide',\n",
              " 'repaglinide_log1p',\n",
              " 'acarbose',\n",
              " 'number_inpatient_log1p',\n",
              " 'nummed',\n",
              " 'level1_diag2',\n",
              " 'acetohexamide_log1p',\n",
              " 'metformin-pioglitazone_log1p',\n",
              " 'level1_diag1',\n",
              " 'glipizide',\n",
              " 'nateglinide',\n",
              " 'glipizide_log1p',\n",
              " 'glimepiride-pioglitazone_log1p',\n",
              " 'acarbose_log1p',\n",
              " 'metformin-rosiglitazone',\n",
              " 'chlorpropamide_log1p',\n",
              " 'troglitazone',\n",
              " 'level2_diag3',\n",
              " 'change',\n",
              " 'rosiglitazone_log1p',\n",
              " 'number_outpatient_log1p',\n",
              " 'glyburide-metformin_log1p',\n",
              " 'level2_diag1',\n",
              " 'pioglitazone',\n",
              " 'diabetesMed',\n",
              " 'tolazamide_log1p',\n",
              " 'nateglinide_log1p',\n",
              " 'chlorpropamide',\n",
              " 'num_lab_procedures']"
            ]
          },
          "metadata": {},
          "execution_count": 27
        }
      ]
    },
    {
      "cell_type": "code",
      "source": [
        "# show list of features that are categorical\n",
        "df.encounter_id = df.encounter_id.astype('int64')\n",
        "df.patient_nbr = df.patient_nbr.astype('int64')\n",
        "df.diabetesMed = df.diabetesMed.astype('int64')\n",
        "df.change = df.change.astype('int64')\n",
        "\n",
        "# convert data type of nominal features in dataframe to 'object' type for aggregating\n",
        "i = ['metformin', 'repaglinide', 'nateglinide', 'chlorpropamide', 'glimepiride', 'acetohexamide', \\\n",
        "          'glipizide', 'glyburide', 'tolbutamide', 'pioglitazone', 'rosiglitazone', 'acarbose','miglitol', \\\n",
        "          'troglitazone', 'tolazamide', 'insulin', 'glyburide-metformin', 'glipizide-metformin', \\\n",
        "          'glimepiride-pioglitazone', 'metformin-rosiglitazone', 'metformin-pioglitazone','A1Cresult']\n",
        "df[i] = df[i].astype('int64')\n",
        "\n",
        "df.dtypes"
      ],
      "metadata": {
        "colab": {
          "base_uri": "https://localhost:8080/"
        },
        "id": "_WsV6uTSH8co",
        "outputId": "6dbe140c-9bc9-4adc-e607-c0e887f08d69"
      },
      "execution_count": 28,
      "outputs": [
        {
          "output_type": "execute_result",
          "data": {
            "text/plain": [
              "encounter_id              int64\n",
              "patient_nbr               int64\n",
              "race                     object\n",
              "gender                   object\n",
              "age                       int64\n",
              "                         ...   \n",
              "glipizide_log1p         float64\n",
              "nateglinide_log1p       float64\n",
              "troglitazone_log1p      float64\n",
              "pioglitazone_log1p      float64\n",
              "chlorpropamide_log1p    float64\n",
              "Length: 73, dtype: object"
            ]
          },
          "metadata": {},
          "execution_count": 28
        }
      ]
    },
    {
      "cell_type": "code",
      "source": [
        "dfcopy = df.copy(deep = True)"
      ],
      "metadata": {
        "id": "WrylckaVIHFR"
      },
      "execution_count": 29,
      "outputs": []
    },
    {
      "cell_type": "code",
      "source": [
        "df['readmitted'] = df['readmitted'].apply(lambda x: 0 if x == 2 else x)"
      ],
      "metadata": {
        "id": "4_YaJzadIKBb"
      },
      "execution_count": 30,
      "outputs": []
    },
    {
      "cell_type": "code",
      "source": [
        "# drop individual diagnosis columns that have too granular disease information\n",
        "# also drop level 2 categorization (which was not comparable with any reference)\n",
        "# also drop level 1 secondary and tertiary diagnoses\n",
        "df.drop(['diag_1', 'diag_2', 'diag_3', 'level2_diag1', 'level1_diag2', 'level2_diag2', 'level1_diag3',\n",
        "         'level2_diag3'], axis=1, inplace=True)"
      ],
      "metadata": {
        "id": "4a3B0o5pINbQ"
      },
      "execution_count": 31,
      "outputs": []
    },
    {
      "cell_type": "code",
      "source": [
        "interactionterms = [('num_medications','time_in_hospital'),\n",
        "('num_medications','num_procedures'),\n",
        "('time_in_hospital','num_lab_procedures'),\n",
        "('num_medications','num_lab_procedures'),\n",
        "('num_medications','number_diagnoses'),\n",
        "('age','number_diagnoses'),\n",
        "('change','num_medications'),\n",
        "('number_diagnoses','time_in_hospital'),\n",
        "('num_medications','numchange')]"
      ],
      "metadata": {
        "id": "lvseUaRCIQY0"
      },
      "execution_count": 32,
      "outputs": []
    }
  ]
}