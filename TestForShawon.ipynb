{
  "nbformat": 4,
  "nbformat_minor": 0,
  "metadata": {
    "colab": {
      "provenance": [],
      "mount_file_id": "1zwmOjN36cb-BIuGCRbMVArS0p-9OXATZ",
      "authorship_tag": "ABX9TyNRi5Frikg8smUXOgJVdA35",
      "include_colab_link": true
    },
    "kernelspec": {
      "name": "python3",
      "display_name": "Python 3"
    },
    "language_info": {
      "name": "python"
    }
  },
  "cells": [
    {
      "cell_type": "markdown",
      "metadata": {
        "id": "view-in-github",
        "colab_type": "text"
      },
      "source": [
        "<a href=\"https://colab.research.google.com/github/rahmanziaur/DTClassifierTest/blob/main/TestForShawon.ipynb\" target=\"_parent\"><img src=\"https://colab.research.google.com/assets/colab-badge.svg\" alt=\"Open In Colab\"/></a>"
      ]
    },
    {
      "cell_type": "code",
      "execution_count": 4,
      "metadata": {
        "colab": {
          "base_uri": "https://localhost:8080/"
        },
        "id": "9jLjYIIKEESM",
        "outputId": "d16ecd63-6ac2-41eb-9c57-16c0ce760627"
      },
      "outputs": [
        {
          "output_type": "stream",
          "name": "stdout",
          "text": [
            "Number of Trees 27\n",
            "[[28  1]\n",
            " [ 1  0]]\n",
            "              precision    recall  f1-score   support\n",
            "\n",
            "           0       0.97      0.97      0.97        29\n",
            "           1       0.00      0.00      0.00         1\n",
            "\n",
            "    accuracy                           0.93        30\n",
            "   macro avg       0.48      0.48      0.48        30\n",
            "weighted avg       0.93      0.93      0.93        30\n",
            "\n"
          ]
        }
      ],
      "source": [
        "from matplotlib import pyplot as plt\n",
        "from sklearn import datasets\n",
        "from sklearn.tree import DecisionTreeClassifier \n",
        "from sklearn import tree\n",
        "\n",
        "import timeit\n",
        "import pandas as pd\n",
        "import numpy as np\n",
        "import seaborn as sns\n",
        "\n",
        "from sklearn.model_selection import train_test_split\n",
        "from sklearn.ensemble import RandomForestClassifier\n",
        "from sklearn import metrics\n",
        "from sklearn.metrics import classification_report, confusion_matrix\n",
        "from sklearn.metrics import roc_curve\n",
        "from sklearn.metrics import roc_auc_score\n",
        "import warnings\n",
        "%matplotlib inline\n",
        "warnings.filterwarnings('ignore')\n",
        "\n",
        "# Prepare the data data\n",
        "#iris = datasets.load_iris()\n",
        "dataset=pd.read_csv('https://raw.githubusercontent.com/rahmanziaur/DTClassifierTest/main/tt.csv')\n",
        "\n",
        "# X = iris.data\n",
        "# y = iris.target\n",
        "# # Fit the classifier with default hyper-parameters\n",
        "# clf = DecisionTreeClassifier(random_state=1234)\n",
        "# model = clf.fit(X, y)\n",
        "\n",
        "del dataset[dataset.columns[0]]\n",
        "\n",
        "# moving the target column at the end\n",
        "column_to_move = dataset.pop('readmitted')\n",
        "dataset.insert(len(dataset.columns), 'readmitted', column_to_move)\n",
        "\n",
        "\n",
        "#dataset.gender = dataset.gender.astype('int64')\n",
        "\n",
        "# dataset = dataset.drop(['gender'], axis=1)\n",
        "#dataset.head()\n",
        "# print(dataset.shape)\n",
        "# print(list(dataset.columns))\n",
        "feature_cols= list(dataset.columns[:-1])\n",
        "\n",
        "target_cols=list(dataset.columns[-1:])\n",
        "#target_cols\n",
        "\n",
        "#split dataset in features and target variable\n",
        "X = dataset.drop('readmitted', axis=1) # Features\n",
        "y = dataset['readmitted'] # Target variable\n",
        "\n",
        "# Split dataset into training set and test set\n",
        "X_train, X_test, y_train, y_test = train_test_split(X, y, test_size=0.3, random_state=1) # 70% training and 30% test\n",
        "\n",
        "# Check the shape of all of these\n",
        "# print(\"X_train shape is : \", X_train.shape)\n",
        "# print(\"X_test shape  is : \", X_test.shape)\n",
        "# print(\"y_train shape is : \", y_train.shape)\n",
        "# print(\"y_test shape is  : \", y_test.shape)\n",
        "\n",
        "#Calculate start time\n",
        "start = timeit.default_timer()\n",
        "\n",
        "#Create a Gaussian Classifier\n",
        "# clf=RandomForestClassifier(n_estimators=100)\n",
        "\n",
        "clf = DecisionTreeClassifier(random_state=1234)\n",
        "\n",
        "#Train the model using the training sets y_pred=clf.predict(X_test)\n",
        "clf.fit(X_train,y_train)\n",
        "\n",
        "#Calculate Stop time\n",
        "stop = timeit.default_timer()\n",
        "train_time= stop - start\n",
        "\n",
        "#Calculate start time\n",
        "start = timeit.default_timer()\n",
        "\n",
        "# Predict the model\n",
        "y_pred=clf.predict(X_test)\n",
        "\n",
        "print(\"Number of Trees\", clf.tree_.node_count)\n",
        "\n",
        "#Calculate Stop time\n",
        "stop = timeit.default_timer()\n",
        "test_time= stop - start\n",
        "\n",
        "print(confusion_matrix(y_test,y_pred))\n",
        "print(classification_report(y_test,y_pred))\n",
        "#print(\"Number of Trees\", clf.tree_.node_count)\n",
        "\n",
        "\n",
        "# text_representation = tree.export_text(clf)\n",
        "# print(text_representation)\n",
        "\n",
        "# with open(\"decistion_tree.log\", \"w\") as fout:\n",
        "#     fout.write(text_representation)\n",
        "\n",
        "# fig = plt.figure(figsize=(25,20))\n",
        "# _ = tree.plot_tree(clf, \n",
        "#                    feature_names=iris.feature_names,  \n",
        "#                    class_names=iris.target_names,\n",
        "#                    filled=True)\n",
        "# fig.savefig(\"decistion_tree.png\")"
      ]
    }
  ]
}