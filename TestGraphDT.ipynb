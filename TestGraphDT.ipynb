{
  "nbformat": 4,
  "nbformat_minor": 0,
  "metadata": {
    "colab": {
      "provenance": [],
      "collapsed_sections": [],
      "authorship_tag": "ABX9TyNL530FEr1tq9D88TLjxihP",
      "include_colab_link": true
    },
    "kernelspec": {
      "name": "python3",
      "display_name": "Python 3"
    },
    "language_info": {
      "name": "python"
    }
  },
  "cells": [
    {
      "cell_type": "markdown",
      "metadata": {
        "id": "view-in-github",
        "colab_type": "text"
      },
      "source": [
        "<a href=\"https://colab.research.google.com/github/rahmanziaur/DTClassifierTest/blob/main/TestGraphDT.ipynb\" target=\"_parent\"><img src=\"https://colab.research.google.com/assets/colab-badge.svg\" alt=\"Open In Colab\"/></a>"
      ]
    },
    {
      "cell_type": "code",
      "execution_count": 31,
      "metadata": {
        "id": "xeKTT8h5Y2oD"
      },
      "outputs": [],
      "source": [
        "from matplotlib import pyplot as plt\n",
        "from sklearn import datasets\n",
        "from sklearn.tree import DecisionTreeClassifier \n",
        "from sklearn import tree\n",
        "# Prepare the data data\n",
        "iris = datasets.load_iris()\n",
        "X = iris.data\n",
        "y = iris.target\n",
        "# Fit the classifier with default hyper-parameters\n",
        "clf = DecisionTreeClassifier(random_state=1234)\n",
        "model = clf.fit(X, y)\n",
        "\n",
        "# text_representation = tree.export_text(clf)\n",
        "# print(text_representation)\n",
        "\n",
        "# with open(\"decistion_tree.log\", \"w\") as fout:\n",
        "#     fout.write(text_representation)\n",
        "\n",
        "# fig = plt.figure(figsize=(25,20))\n",
        "# _ = tree.plot_tree(clf, \n",
        "#                    feature_names=iris.feature_names,  \n",
        "#                    class_names=iris.target_names,\n",
        "#                    filled=True)\n",
        "# fig.savefig(\"decistion_tree.png\")"
      ]
    },
    {
      "cell_type": "code",
      "source": [
        "!pip install dtreeviz\n",
        "import graphviz\n",
        "from dtreeviz.trees import dtreeviz # remember to load the package\n",
        "# DOT data\n",
        "dot_data = tree.export_graphviz(clf, out_file=None, \n",
        "                                feature_names=iris.feature_names,  \n",
        "                                class_names=iris.target_names,\n",
        "                                filled=True)\n",
        "\n",
        "# Draw graph\n",
        "graph = graphviz.Source(dot_data, format=\"png\") \n",
        "# graph.render(\"tt\")\n",
        "\n",
        "\n",
        "\n",
        "viz = dtreeviz(clf, X, y,\n",
        "                target_name=\"target\",\n",
        "                feature_names=iris.feature_names,\n",
        "                class_names=list(iris.target_names))\n",
        "\n",
        "viz.save(\"decision_tree343.svg\")"
      ],
      "metadata": {
        "id": "zRc1NdocZK-8"
      },
      "execution_count": null,
      "outputs": []
    },
    {
      "cell_type": "code",
      "source": [
        "!pip install dtreeviz\n",
        "\n",
        "from sklearn import datasets\n",
        "from sklearn.tree import DecisionTreeRegressor\n",
        "from sklearn import tree\n",
        "# Prepare the data data\n",
        "\n",
        "from dtreeviz.trees import dtreeviz # remember to load the package\n",
        "\n",
        "\n",
        "\n",
        "boston = datasets.load_boston() # datasets.load_iris()\n",
        "X = boston.data\n",
        "y = boston.target\n",
        "\n",
        "# Fit the regressor, set max_depth = 3\n",
        "regr = DecisionTreeRegressor(max_depth=3, random_state=1234)\n",
        "model = regr.fit(X, y)\n",
        "\n",
        "# text_representation = tree.export_text(regr)\n",
        "# with open(\"dt.log\", \"w\") as fout:\n",
        "#     fout.write(text_representation)\n",
        "\n",
        "# fig = plt.figure(figsize=(25,20))\n",
        "# _ = tree.plot_tree(regr, feature_names=boston.feature_names, filled=True)\n",
        "\n",
        "dot_data = tree.export_graphviz(regr, out_file=None, \n",
        "                                feature_names=boston.feature_names,  \n",
        "                                filled=True)\n",
        "# graphviz.Source(dot_data, format=\"png\") \n",
        "\n",
        "# graph.render(\"tt.png\")\n",
        "\n",
        "\n",
        "viz = dtreeviz(regr, X, y,\n",
        "                target_name=\"target\",\n",
        "                feature_names=boston.feature_names)\n",
        "\n",
        "\n",
        "\n",
        "viz.save(\"viz_tree232.svg\")"
      ],
      "metadata": {
        "id": "07WoNmcYeDbp"
      },
      "execution_count": null,
      "outputs": []
    },
    {
      "cell_type": "markdown",
      "source": [],
      "metadata": {
        "id": "oXXB7cY1fK-3"
      }
    }
  ]
}