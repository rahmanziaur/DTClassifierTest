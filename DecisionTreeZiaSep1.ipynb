{
  "nbformat": 4,
  "nbformat_minor": 0,
  "metadata": {
    "colab": {
      "provenance": [],
      "mount_file_id": "https://github.com/rahmanziaur/DTClassifierTest/blob/main/DecisionTreeZiaSep1.ipynb",
      "authorship_tag": "ABX9TyN5030ykdzXGE1FcYf8ic/5",
      "include_colab_link": true
    },
    "kernelspec": {
      "name": "python3",
      "display_name": "Python 3"
    },
    "language_info": {
      "name": "python"
    }
  },
  "cells": [
    {
      "cell_type": "markdown",
      "metadata": {
        "id": "view-in-github",
        "colab_type": "text"
      },
      "source": [
        "<a href=\"https://colab.research.google.com/github/rahmanziaur/DTClassifierTest/blob/main/DecisionTreeZiaSep1.ipynb\" target=\"_parent\"><img src=\"https://colab.research.google.com/assets/colab-badge.svg\" alt=\"Open In Colab\"/></a>"
      ]
    },
    {
      "cell_type": "code",
      "execution_count": 4,
      "metadata": {
        "colab": {
          "base_uri": "https://localhost:8080/"
        },
        "id": "_Pqy6JuieZXS",
        "outputId": "21b064fd-fc93-4f07-d9ff-5ccd6fd70cc9"
      },
      "outputs": [
        {
          "output_type": "stream",
          "name": "stdout",
          "text": [
            "    Age  Experience  Rank Nationality   Go\n",
            "0    36          10     9          UK   NO\n",
            "1    42          12     4         USA   NO\n",
            "2    23           4     6           N   NO\n",
            "3    52           4     4         USA   NO\n",
            "4    43          21     8         USA  YES\n",
            "5    44          14     5          UK   NO\n",
            "6    66           3     7           N  YES\n",
            "7    35          14     9          UK  YES\n",
            "8    52          13     7           N  YES\n",
            "9    35           5     9           N  YES\n",
            "10   24           3     5         USA   NO\n",
            "11   18           3     7          UK  YES\n",
            "12   45           9     9          UK  YES\n"
          ]
        }
      ],
      "source": [
        "import pandas\n",
        "\n",
        "df = pandas.read_csv(\"testDataZia.csv\")\n",
        "\n",
        "print(df)\n"
      ]
    }
  ]
}