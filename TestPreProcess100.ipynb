{
  "nbformat": 4,
  "nbformat_minor": 0,
  "metadata": {
    "colab": {
      "provenance": [],
      "collapsed_sections": [],
      "mount_file_id": "https://github.com/rahmanziaur/DTClassifierTest/blob/main/TestPreProcess100.ipynb",
      "authorship_tag": "ABX9TyNIEdc2BGjpneKAwlVP2oP+",
      "include_colab_link": true
    },
    "kernelspec": {
      "name": "python3",
      "display_name": "Python 3"
    },
    "language_info": {
      "name": "python"
    }
  },
  "cells": [
    {
      "cell_type": "markdown",
      "metadata": {
        "id": "view-in-github",
        "colab_type": "text"
      },
      "source": [
        "<a href=\"https://colab.research.google.com/github/rahmanziaur/DTClassifierTest/blob/main/TestPreProcess100.ipynb\" target=\"_parent\"><img src=\"https://colab.research.google.com/assets/colab-badge.svg\" alt=\"Open In Colab\"/></a>"
      ]
    },
    {
      "cell_type": "code",
      "source": [
        "import pandas as pd\n",
        "\n",
        "df100 = pd.read_csv('https://raw.githubusercontent.com/rahmanziaur/DTClassifierTest/main/TestDiabData_100Row.csv')\n",
        "\n",
        "# Cat-> Num race: Caucasian =1, AfricanAmerican =2, Asian =3, Other =4 \n",
        "df100['race'] = df100['race'].replace('Caucasian', 1)\n",
        "df100['race'] = df100['race'].replace('AfricanAmerican', 2)\n",
        "df100['race'] = df100['race'].replace('Asian', 3)\n",
        "df100['race'] = df100['race'].replace('Other', 4)\n",
        "\n",
        "#Cat-> Num gender: Female = 1, male 2\n",
        "df100['gender'] = df100['gender'].replace('Female', 0)\n",
        "df100['gender'] = df100['gender'].replace('Male', 1)\n",
        "\n",
        "# Cat -> Num age [0-10) =1, ... [90-100) = 10\n",
        "for i in range(0,10):\n",
        "    df100['age'] = df100['age'].replace('['+str(10*i)+'-'+str(10*(i+1))+')', i+1)\n",
        "\n",
        "# Cat -> Num 'discharge_disposition_id' replaced with fewer choices, though was numeric\n",
        "df100['discharge_disposition_id'] = df100['discharge_disposition_id'].replace(1,1)\n",
        "df100['discharge_disposition_id'] = df100['discharge_disposition_id'].replace(2,1)\n",
        "df100['discharge_disposition_id'] = df100['discharge_disposition_id'].replace(3,1)\n",
        "df100['discharge_disposition_id'] = df100['discharge_disposition_id'].replace(5,2)\n",
        "df100['discharge_disposition_id'] = df100['discharge_disposition_id'].replace(6,2)\n",
        "df100['discharge_disposition_id'] = df100['discharge_disposition_id'].replace(7,2)\n",
        "df100['discharge_disposition_id'] = df100['discharge_disposition_id'].replace(11,3)\n",
        "df100['discharge_disposition_id'] = df100['discharge_disposition_id'].replace(25,3)\n",
        "\n",
        "# Cat -> Num 'Change'\n",
        "df100['change'] = df100['change'].replace('Ch', 1)\n",
        "df100['change'] = df100['change'].replace('No', 0)\n",
        "\n",
        "# Cat -> Num 'diabetesMed'\n",
        "df100['diabetesMed'] = df100['diabetesMed'].replace('Yes', 1)\n",
        "df100['diabetesMed'] = df100['diabetesMed'].replace('No', 0)\n",
        "\n",
        "# Cat -> Num 'admission_source_id'\n",
        "df100['admission_source_id'] = df100['admission_source_id'].replace(6,4)\n",
        "\n",
        "# Cat -> Num 'A1Cresult'\n",
        "\n",
        "df100['A1Cresult'] = df100['A1Cresult'].replace('>7', 1)\n",
        "df100['A1Cresult'] = df100['A1Cresult'].replace('>8', 1)\n",
        "df100['A1Cresult'] = df100['A1Cresult'].replace('None', 0)\n",
        "\n",
        "#Cat -> Num 'max_glu_serum'\n",
        "\n",
        "df100['max_glu_serum'] = df100['max_glu_serum'].replace('None', 0)\n",
        "\n",
        "# dropping columns with missing data or has lesser relation\n",
        "\n",
        "df100 = df100.drop(['weight','payer_code', 'medical_specialty', 'citoglipton', 'examide'], axis=1)\n",
        "\n",
        "#added a new column to sum up three related columns\n",
        "\n",
        "df100['service_utilization'] = df100['number_outpatient'] + df100['number_emergency'] + df100['number_inpatient']\n",
        "\n",
        "#All similar data columns are shown by a new columns namely 'numchane' then, changed values at once through loop\n",
        "\n",
        "keys = ['metformin', 'repaglinide', 'nateglinide', 'chlorpropamide', 'glimepiride', 'glipizide', 'glyburide', 'pioglitazone', 'rosiglitazone', 'acarbose', 'miglitol', 'insulin', 'glyburide-metformin', 'tolazamide', 'metformin-pioglitazone','metformin-rosiglitazone', 'glimepiride-pioglitazone', 'glipizide-metformin', 'troglitazone', 'tolbutamide', 'acetohexamide']\n",
        "for col in keys:\n",
        "    colname = str(col) + 'temp'\n",
        "    df100[colname] = df100[col].apply(lambda x: 0 if (x == 'No' or x == 'Steady') else 1)\n",
        "df100['numchange'] = 0\n",
        "for col in keys:\n",
        "    colname = str(col) + 'temp'\n",
        "    df100['numchange'] = df100['numchange'] + df100[colname]\n",
        "    del df100[colname]\n",
        "\n",
        "for col in keys:\n",
        "    df100[col] = df100[col].replace('No', 0)\n",
        "    df100[col] = df100[col].replace('Steady', 1)\n",
        "    df100[col] = df100[col].replace('Up', 1)\n",
        "    df100[col] = df100[col].replace('Down', 1)\n",
        "\n",
        "# Cat --> Num 'readmitted' to be target variable (class)\n",
        "\n",
        "df100['readmitted'] = df100['readmitted'].replace('>30', 0)\n",
        "df100['readmitted'] = df100['readmitted'].replace('<30', 1)\n",
        "df100['readmitted'] = df100['readmitted'].replace('NO', 0)\n",
        "\n",
        "print(\"Data Types: \")\n",
        "print(df100.dtypes)\n",
        "\n",
        "#Checking for missing values in the data\n",
        "\n",
        "missing = 'NULL'\n",
        "for col in df100.columns:\n",
        "    if df100[col].dtype == object:\n",
        "         print(col,df100[col][df100[col] == '?'].count())\n",
        "         missing = 'YES'\n",
        "\n",
        "print(\"Missing values:\", missing)\n",
        "# Saving the pre-processed data into a new file\n",
        "df100.to_csv('/content/drive/MyDrive/0_ColabDatasets/P2_TestDiabData_100Row.csv')\n"
      ],
      "metadata": {
        "id": "KghmKibgp3gP"
      },
      "execution_count": null,
      "outputs": []
    },
    {
      "cell_type": "code",
      "source": [
        "import timeit\n",
        "import pandas as pd\n",
        "import numpy as np\n",
        "import seaborn as sns\n",
        "import matplotlib.pyplot as plt\n",
        "from sklearn.model_selection import train_test_split\n",
        "from sklearn.ensemble import RandomForestClassifier\n",
        "from sklearn import metrics\n",
        "from sklearn.metrics import classification_report, confusion_matrix\n",
        "from sklearn.metrics import roc_curve\n",
        "from sklearn.metrics import roc_auc_score\n",
        "import warnings\n",
        "%matplotlib inline\n",
        "warnings.filterwarnings('ignore')\n",
        "#warnings.filterwarnings('always') \n",
        "\n",
        "\n",
        "dataset=pd.read_csv('https://raw.githubusercontent.com/rahmanziaur/DTClassifierTest/main/tt.csv')\n",
        "dataset.head()\n",
        "# print(dataset.shape)\n",
        "# print(list(dataset.columns))\n",
        "feature_cols= list(dataset.columns[:-1])\n",
        "\n",
        "target_cols=list(dataset.columns[-1:])\n",
        "target_cols\n",
        "\n",
        "#split dataset in features and target variable\n",
        "X = dataset.drop('readmitted', axis=1) # Features\n",
        "y = dataset['readmitted'] # Target variable\n",
        "\n",
        "# Split dataset into training set and test set\n",
        "X_train, X_test, y_train, y_test = train_test_split(X, y, test_size=0.3, random_state=1) # 70% training and 30% test\n",
        "\n",
        "# Check the shape of all of these\n",
        "# print(\"X_train shape is : \", X_train.shape)\n",
        "# print(\"X_test shape  is : \", X_test.shape)\n",
        "# print(\"y_train shape is : \", y_train.shape)\n",
        "# print(\"y_test shape is  : \", y_test.shape)\n",
        "\n",
        "#Calculate start time\n",
        "start = timeit.default_timer()\n",
        "\n",
        "#Create a Gaussian Classifier\n",
        "clf=RandomForestClassifier(n_estimators=100)\n",
        "\n",
        "#Train the model using the training sets y_pred=clf.predict(X_test)\n",
        "clf.fit(X_train,y_train)\n",
        "\n",
        "#Calculate Stop time\n",
        "stop = timeit.default_timer()\n",
        "train_time= stop - start\n",
        "\n",
        "#Calculate start time\n",
        "start = timeit.default_timer()\n",
        "\n",
        "# Predict the model\n",
        "y_pred=clf.predict(X_test)\n",
        "\n",
        "#Calculate Stop time\n",
        "stop = timeit.default_timer()\n",
        "test_time= stop - start\n",
        "\n",
        "print(confusion_matrix(y_test,y_pred))\n",
        "print(classification_report(y_test,y_pred))\n"
      ],
      "metadata": {
        "id": "ZfvoyELn_xyW",
        "outputId": "9c0b996c-1b2b-4e6a-b981-efdd5ee63edf",
        "colab": {
          "base_uri": "https://localhost:8080/"
        }
      },
      "execution_count": 3,
      "outputs": [
        {
          "output_type": "stream",
          "name": "stdout",
          "text": [
            "[[29  0]\n",
            " [ 1  0]]\n",
            "              precision    recall  f1-score   support\n",
            "\n",
            "           0       0.97      1.00      0.98        29\n",
            "           1       0.00      0.00      0.00         1\n",
            "\n",
            "    accuracy                           0.97        30\n",
            "   macro avg       0.48      0.50      0.49        30\n",
            "weighted avg       0.93      0.97      0.95        30\n",
            "\n"
          ]
        }
      ]
    },
    {
      "cell_type": "markdown",
      "source": [],
      "metadata": {
        "id": "kpUjXp6aOa2j"
      }
    },
    {
      "cell_type": "code",
      "source": [
        "# Model Accuracy: how often is the classifier correct?\n",
        "print(\"Accuracy:\",metrics.accuracy_score(y_test, y_pred))\n",
        "\n",
        "# Model Precision: what percentage of positive tuples are labeled as such?\n",
        "#print(\"Precision:\",metrics.precision_score(y_test, y_pred))\n",
        "\n",
        "# Model Recall: what percentage of positive tuples are labelled as such?\n",
        "#print(\"Recall:\",metrics.recall_score(y_test, y_pred))\n",
        "\n",
        "#Calculate F1 Score\n",
        "#print(\"F1 Score:\",metrics.f1_score(y_test, y_pred))\n",
        "\n",
        "#Calculate Mean Absolute Error\n",
        "print(\"Mean Absolute Error:\",metrics.mean_absolute_error(y_test, y_pred))\n",
        "\n",
        "# kappa\n",
        "print(\"Cohens kappa:\", metrics.cohen_kappa_score(y_test, y_pred))\n",
        "\n",
        "# ROC AUC\n",
        "#print(\"ROC AUC:\", metrics.roc_auc_score(y_test, y_pred))\n",
        "\n",
        "#Train time\n",
        "print('Train Time(s): ',train_time) \n",
        "\n",
        "#Test time\n",
        "print('Test Time(s): ',test_time)"
      ],
      "metadata": {
        "id": "cGK0GowwsN_w",
        "outputId": "89fc90f8-8811-44a4-c5b8-8c0a497c3516",
        "colab": {
          "base_uri": "https://localhost:8080/"
        }
      },
      "execution_count": 20,
      "outputs": [
        {
          "output_type": "stream",
          "name": "stdout",
          "text": [
            "Accuracy: 0.9666666666666667\n",
            "Mean Absolute Error: 0.03333333333333333\n",
            "Cohens kappa: 0.0\n",
            "Train Time(s):  0.13739049599999476\n",
            "Test Time(s):  0.012412881999978254\n"
          ]
        }
      ]
    },
    {
      "cell_type": "code",
      "source": [
        "import matplotlib.pyplot as plt\n",
        "import seaborn as sns\n",
        "\n",
        "fpr, tpr, thresholds = roc_curve(y_test, y_pred)\n",
        "\n",
        "def plot_roc_curve(fpr, tpr):\n",
        "    plt.plot(fpr, tpr, color='orange', label='ROC')\n",
        "    plt.plot([0, 1], [0, 1], color='darkblue', linestyle='--')\n",
        "    plt.xlabel('False Positive Rate')\n",
        "    plt.ylabel('True Positive Rate')\n",
        "    plt.title('Receiver Operating Characteristic (ROC) Curve')\n",
        "    plt.legend()\n",
        "    plt.savefig('f8.pdf')\n",
        "    #plt.show()\n",
        "\n",
        "plot_roc_curve(fpr, tpr)\n",
        "\n",
        "report = classification_report(y_test, y_pred, output_dict=True)\n",
        "df = pd.DataFrame(report).transpose()\n",
        "df.to_csv('TML-RF_Result.csv')\n",
        "\n",
        "feature_imp = pd.Series(clf.feature_importances_,index=feature_cols).sort_values(ascending=False)\n",
        "\n",
        "\n",
        "%matplotlib inline\n",
        "# Creating a bar plot\n",
        "sns.barplot(x=feature_imp, y=feature_imp.index)\n",
        "# Add labels to your graph\n",
        "\n",
        "plt.xlabel('Feature Importance Score')\n",
        "plt.ylabel('Features')\n",
        "plt.title(\"Visualizing Important Features\")\n",
        "\n",
        "f = plt.figure()\n",
        "f.set_figwidth(10)\n",
        "f.set_figheight(15)\n",
        "\n",
        "\n",
        "\n",
        "\n",
        "\n",
        "#plt.tight_layout()\n",
        "f.savefig('f9.pdf')\n",
        "f.show()\n"
      ],
      "metadata": {
        "id": "6n7MMoQ_sU69",
        "outputId": "30be9af4-f8e7-4d2b-d0c3-1244afaa804a",
        "colab": {
          "base_uri": "https://localhost:8080/",
          "height": 313
        }
      },
      "execution_count": 36,
      "outputs": [
        {
          "output_type": "display_data",
          "data": {
            "text/plain": [
              "<Figure size 432x288 with 1 Axes>"
            ],
            "image/png": "[encoded data removed]"
          },
          "metadata": {
            "needs_background": "light"
          }
        },
        {
          "output_type": "display_data",
          "data": {
            "text/plain": [
              "<Figure size 720x1080 with 0 Axes>"
            ]
          },
          "metadata": {}
        }
      ]
    }
  ]
}