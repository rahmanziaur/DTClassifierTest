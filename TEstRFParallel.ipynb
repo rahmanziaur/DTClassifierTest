{
  "nbformat": 4,
  "nbformat_minor": 0,
  "metadata": {
    "colab": {
      "provenance": [],
      "authorship_tag": "ABX9TyNYaCcu/pK3xtbg6XTBrsOQ",
      "include_colab_link": true
    },
    "kernelspec": {
      "name": "python3",
      "display_name": "Python 3"
    },
    "language_info": {
      "name": "python"
    }
  },
  "cells": [
    {
      "cell_type": "markdown",
      "metadata": {
        "id": "view-in-github",
        "colab_type": "text"
      },
      "source": [
        "<a href=\"https://colab.research.google.com/github/rahmanziaur/DTClassifierTest/blob/main/TEstRFParallel.ipynb\" target=\"_parent\"><img src=\"https://colab.research.google.com/assets/colab-badge.svg\" alt=\"Open In Colab\"/></a>"
      ]
    },
    {
      "cell_type": "code",
      "source": [
        "# https://medium.com/rapids-ai/accelerating-random-forests-up-to-45x-using-cuml-dfb782a31bea\n",
        "\n",
        "# DS 1: https://gist.githubusercontent.com/vishalmehta1991/24141dadfe2e3ae5608c4e771ca7c933/raw/301fb5940b28196400883a78cf15dde06e0a006f/fruit_subsampled_dataset_1.csv\n",
        "\n",
        "# DS 2: https://gist.github.com/vishalmehta1991/93012fd401cd7c8f50445708eec087db/raw/d57cda2233ab9e90496df7c8f198fb5825eec077/fruit_subsampled_dataset_2.csv\n",
        "\n",
        "# DS 3: https://gist.github.com/vishalmehta1991/bdd858a23720d9b29f195f4957526163/raw/aa4aa71b6ca3fb18a50b9a602617c629c7e5a07e/fruit_subsampled_dataset_3.csv\n",
        "\n",
        "# https://colab.research.google.com/drive/1xnTpVS194BJ0pOPuxN4GOmypdu2RvwdH#scrollTo=y1OX4pJZ8KeU\n",
        "\n",
        "# https://colab.research.google.com/drive/1bEuSOlAc4bJvLm7Qj3xayr37ILkC4a1X#scrollTo=U3mAVL76CB4l\n",
        "\n",
        "# https://colab.research.google.com/drive/1rY7Ln6rEE1pOlfSHCYOVaqt8OvDO35J0#forceEdit=true&offline=true&sandboxMode=true\n",
        "\n",
        "# https://github.com/rapidsai-community/notebooks-contrib/blob/community_relaunch/the_archive/archived_rapids_demos/cuml/tsne_demo.ipynb\n",
        "\n",
        "# https://www.analyticsvidhya.com/blog/2022/01/cuml-blazing-fast-machine-learning-model-training-with-nvidias-rapids/\n",
        "\n",
        "# https://www.tensorflow.org/decision_forests/tutorials/beginner_colab"
      ],
      "metadata": {
        "id": "Ua47mOO92zfe"
      },
      "execution_count": null,
      "outputs": []
    },
    {
      "cell_type": "code",
      "source": [],
      "metadata": {
        "id": "1T8XjOWt3Dui"
      },
      "execution_count": null,
      "outputs": []
    }
  ]
}