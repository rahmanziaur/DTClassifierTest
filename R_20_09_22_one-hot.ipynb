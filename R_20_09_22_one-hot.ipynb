{
  "nbformat": 4,
  "nbformat_minor": 0,
  "metadata": {
    "colab": {
      "provenance": [],
      "include_colab_link": true
    },
    "kernelspec": {
      "name": "python3",
      "display_name": "Python 3"
    },
    "language_info": {
      "name": "python"
    }
  },
  "cells": [
    {
      "cell_type": "markdown",
      "metadata": {
        "id": "view-in-github",
        "colab_type": "text"
      },
      "source": [
        "<a href=\"https://colab.research.google.com/github/rahmanziaur/DTClassifierTest/blob/main/R_20_09_22_one-hot.ipynb\" target=\"_parent\"><img src=\"https://colab.research.google.com/assets/colab-badge.svg\" alt=\"Open In Colab\"/></a>"
      ]
    },
    {
      "cell_type": "code",
      "execution_count": 1,
      "metadata": {
        "colab": {
          "base_uri": "https://localhost:8080/"
        },
        "id": "dGQ6ycAF_EQ8",
        "outputId": "a5c727be-9f8d-407c-c99c-166be9c868f5"
      },
      "outputs": [
        {
          "output_type": "stream",
          "name": "stdout",
          "text": [
            "Mounted at /content/drive\n"
          ]
        }
      ],
      "source": [
        "from google.colab import drive\n",
        "drive.mount('/content/drive')"
      ]
    },
    {
      "cell_type": "code",
      "source": [
        "# evaluate logistic regression on the breast cancer dataset with an one-hot encoding\n",
        "import timeit\n",
        "import pandas as pd\n",
        "import numpy as np\n",
        "import seaborn as sns\n",
        "import matplotlib.pyplot as plt\n",
        "from sklearn.model_selection import train_test_split\n",
        "from sklearn.ensemble import RandomForestClassifier\n",
        "from sklearn import metrics\n",
        "from sklearn.metrics import classification_report, confusion_matrix\n",
        "from sklearn.metrics import roc_curve\n",
        "from sklearn.metrics import roc_auc_score\n",
        "import warnings\n",
        "%matplotlib inline\n",
        "warnings.filterwarnings('ignore')\n",
        "from numpy import mean\n",
        "from numpy import std\n",
        "from pandas import read_csv\n",
        "from sklearn.model_selection import train_test_split\n",
        "from sklearn.linear_model import LogisticRegression\n",
        "from sklearn.preprocessing import LabelEncoder\n",
        "from sklearn.preprocessing import OneHotEncoder\n",
        "from sklearn.metrics import accuracy_score\n",
        "# define the location of the dataset\n",
        "#from numpy import argmax as ag\n",
        "# url = \"https://raw.githubusercontent.com/rahmanziaur/DTClassifierTest/main/diabetic_data - Copy.csv\"\n",
        "\n",
        "# Rubel \n",
        "# url = \"/content/drive/MyDrive/0_ColabDatasets/final Medical.csv\"\n",
        "\n",
        "\n",
        "# load the dataset\n",
        "#dataset = pd.read_csv(url, header=None)\n",
        "# retrieve the array of data\n",
        "\n",
        "# Preprocessed Numeric Data\n",
        "# dataset=pd.read_csv('/content/drive/MyDrive/0_ColabDatasets/Processed3_TestDiabData_excepDiag.csv')\n",
        "\n",
        "# Original raw Data\n",
        "dataset=pd.read_csv('https://raw.githubusercontent.com/rahmanziaur/DTClassifierTest/main/diabetic_data_exceptDiag.csv')\n",
        "\n",
        "# dropping 'gender' because object to int type change issue\n",
        "# not required if not using exported .csv dataset \n",
        "\n",
        "# del dataset[dataset.columns[0]]\n",
        "\n",
        "# moving the target column at the end. No need for Rubel\n",
        "column_to_move = dataset.pop('readmitted')\n",
        "dataset.insert(len(dataset.columns), 'readmitted', column_to_move)\n",
        "\n",
        "\n",
        "\n",
        "data = dataset.values\n",
        "# separate into input and output columns\n",
        "X = data[:, :-1].astype(str)\n",
        "y = data[:, -1].astype(str)\n",
        "# split the dataset into train and test sets\n",
        "X_train, X_test, y_train, y_test = train_test_split(X, y, test_size=0.33, random_state=1)\n",
        "# one-hot encode input variables\n",
        "onehot_encoder = OneHotEncoder(handle_unknown='ignore')\n",
        "onehot_encoder.fit(X_train)\n",
        "X_train = onehot_encoder.transform(X_train)\n",
        "X_test = onehot_encoder.transform(X_test)\n",
        "# ordinal encode target variable\n",
        "label_encoder = LabelEncoder()\n",
        "label_encoder.fit(y_train)\n",
        "y_train = label_encoder.transform(y_train)\n",
        "label_encoder.fit(y_test)\n",
        "y_test = label_encoder.transform(y_test)\n",
        "# define the model\n",
        "clf = RandomForestClassifier()\n",
        "# fit on the training set\n",
        "clf.fit(X_train, y_train)\n",
        "# predict on test set\n",
        "yhat = clf.predict(X_test)\n",
        "# evaluate predictions\n",
        "accuracy = accuracy_score(y_test, yhat)\n",
        "print('Accuracy: %.2f' % (accuracy*100),'%')"
      ],
      "metadata": {
        "id": "wCxOmmxukL_X",
        "colab": {
          "base_uri": "https://localhost:8080/"
        },
        "outputId": "e3c4c1af-9529-4be8-ed71-2fce62a1899b"
      },
      "execution_count": 5,
      "outputs": [
        {
          "output_type": "stream",
          "name": "stdout",
          "text": [
            "Accuracy: 58.13 %\n"
          ]
        }
      ]
    },
    {
      "cell_type": "code",
      "source": [
        "#dataset['age'] = dataset['age'].astype('int64')\n",
        "#dataset['age'] = dataset['age'].astype('int')\n",
        "print(dataset.age.value_counts())\n",
        "# convert age categories to mid-point values\n",
        "age_dict = {1:5, 2:15, 3:25, 4:35, 5:45, 6:55, 7:65, 8:75, 9:85, 10:95}\n",
        "dataset['age'] = dataset.age.map(age_dict)\n",
        "print(dataset.age.value_counts())\n",
        "\n"
      ],
      "metadata": {
        "id": "sMBWa74-EzR7",
        "outputId": "295bf95f-fb7a-4601-f04d-45b3c3474ef5",
        "colab": {
          "base_uri": "https://localhost:8080/"
        }
      },
      "execution_count": 11,
      "outputs": [
        {
          "output_type": "stream",
          "name": "stdout",
          "text": [
            "[70-80)     26068\n",
            "[60-70)     22483\n",
            "[50-60)     17256\n",
            "[80-90)     17197\n",
            "[40-50)      9685\n",
            "[30-40)      3775\n",
            "[90-100)     2793\n",
            "[20-30)      1657\n",
            "[10-20)       691\n",
            "[0-10)        161\n",
            "Name: age, dtype: int64\n",
            "Series([], Name: age, dtype: int64)\n"
          ]
        }
      ]
    },
    {
      "cell_type": "code",
      "source": [
        "# convert data type of nominal features in dataframe to 'object' type\n",
        "i = ['encounter_id', 'patient_nbr', 'gender', 'admission_type_id', 'discharge_disposition_id', 'admission_source_id',\\\n",
        "          'A1Cresult', 'metformin', 'repaglinide', 'nateglinide', 'chlorpropamide', 'glimepiride', 'acetohexamide', \\\n",
        "          'glipizide', 'glyburide', 'tolbutamide', 'pioglitazone', 'rosiglitazone', 'acarbose','miglitol', \\\n",
        "          'troglitazone', 'tolazamide', 'insulin', 'glyburide-metformin', 'glipizide-metformin', \\\n",
        "          'glimepiride-pioglitazone', 'metformin-rosiglitazone', 'metformin-pioglitazone', 'change', 'diabetesMed', \\\n",
        "          'age', 'A1Cresult', 'max_glu_serum',]\n",
        "\n",
        "dataset[i]"
      ],
      "metadata": {
        "id": "mt8OIlGwE-Ec"
      },
      "execution_count": null,
      "outputs": []
    },
    {
      "cell_type": "code",
      "source": [
        "num_col = list(set(list(dataset._get_numeric_data().columns))- {'readmitted'})\n",
        "num_col\n"
      ],
      "metadata": {
        "id": "8G0tTFf_FWjd",
        "outputId": "833c4e54-6bbf-4ecf-a932-74e9e3ec6584",
        "colab": {
          "base_uri": "https://localhost:8080/"
        }
      },
      "execution_count": 23,
      "outputs": [
        {
          "output_type": "execute_result",
          "data": {
            "text/plain": [
              "['patient_nbr',\n",
              " 'num_procedures',\n",
              " 'number_outpatient',\n",
              " 'nummed',\n",
              " 'num_lab_procedures',\n",
              " 'admission_type_id',\n",
              " 'discharge_disposition_id',\n",
              " 'number_inpatient',\n",
              " 'admission_source_id',\n",
              " 'num_medications',\n",
              " 'number_emergency',\n",
              " 'age',\n",
              " 'encounter_id',\n",
              " 'number_diagnoses',\n",
              " 'time_in_hospital']"
            ]
          },
          "metadata": {},
          "execution_count": 23
        }
      ]
    },
    {
      "cell_type": "code",
      "source": [
        "import pandas as pd\n",
        "import numpy as np\n",
        "import matplotlib.pyplot as plt\n",
        "import seaborn as sns\n",
        "\n",
        "# Removing skewnewss and kurtosis using log transformation if it is above a threshold value -  2\n",
        "\n",
        "statdataframe = pd.DataFrame()\n",
        "statdataframe['numeric_column'] = num_col\n",
        "skew_before = []\n",
        "skew_after = []\n",
        "\n",
        "kurt_before = []\n",
        "kurt_after = []\n",
        "\n",
        "standard_deviation_before = []\n",
        "standard_deviation_after = []\n",
        "\n",
        "log_transform_needed = []\n",
        "\n",
        "log_type = []\n",
        "\n",
        "for i in num_col:\n",
        "    skewval = dataset[i].skew()\n",
        "    skew_before.append(skewval)\n",
        "    \n",
        "    kurtval = dataset[i].kurtosis()\n",
        "    kurt_before.append(kurtval)\n",
        "    \n",
        "    sdval = dataset[i].std()\n",
        "    standard_deviation_before.append(sdval)\n",
        "    \n",
        "    if (abs(skewval) >2) & (abs(kurtval) >2):\n",
        "        log_transform_needed.append('Yes')\n",
        "        \n",
        "        if len(dataset[dataset[i] == 0])/len(dataset) <=0.02:\n",
        "            log_type.append('log')\n",
        "            # skewvalnew = np.log(pd.DataFrame(dataset[train_data[i] > 0])[i]).skew()\n",
        "            # skew_after.append(skewvalnew)\n",
        "            \n",
        "            # kurtvalnew = np.log(pd.DataFrame(dataset[train_data[i] > 0])[i]).kurtosis()\n",
        "            # kurt_after.append(kurtvalnew)\n",
        "            \n",
        "            # sdvalnew = np.log(pd.DataFrame(dataset[train_data[i] > 0])[i]).std()\n",
        "            # standard_deviation_after.append(sdvalnew)\n",
        "            \n",
        "        else:\n",
        "            log_type.append('log1p')\n",
        "            skewvalnew = np.log1p(pd.DataFrame(dataset[dataset[i] >= 0])[i]).skew()\n",
        "            skew_after.append(skewvalnew)\n",
        "        \n",
        "            kurtvalnew = np.log1p(pd.DataFrame(dataset[dataset[i] >= 0])[i]).kurtosis()\n",
        "            kurt_after.append(kurtvalnew)\n",
        "            \n",
        "            sdvalnew = np.log1p(pd.DataFrame(dataset[dataset[i] >= 0])[i]).std()\n",
        "            standard_deviation_after.append(sdvalnew)\n",
        "            \n",
        "    else:\n",
        "        log_type.append('NA')\n",
        "        log_transform_needed.append('No')\n",
        "        \n",
        "        skew_after.append(skewval)\n",
        "        kurt_after.append(kurtval)\n",
        "        standard_deviation_after.append(sdval)\n",
        "\n",
        "statdataframe['skew_before'] = skew_before\n",
        "statdataframe['kurtosis_before'] = kurt_before\n",
        "statdataframe['standard_deviation_before'] = standard_deviation_before\n",
        "statdataframe['log_transform_needed'] = log_transform_needed\n",
        "statdataframe['log_type'] = log_type\n",
        "# statdataframe['skew_after'] = skew_after\n",
        "# statdataframe['kurtosis_after'] = kurt_after\n",
        "# statdataframe['standard_deviation_after'] = standard_deviation_after\n",
        "\n"
      ],
      "metadata": {
        "id": "v9pcMhwaB1kt"
      },
      "execution_count": 29,
      "outputs": []
    },
    {
      "cell_type": "code",
      "source": [
        "statdataframe"
      ],
      "metadata": {
        "id": "Mb5NE5DJHNAy",
        "outputId": "e96d53e2-a25c-4e62-bc3b-cae1297bbf8e",
        "colab": {
          "base_uri": "https://localhost:8080/",
          "height": 584
        }
      },
      "execution_count": 30,
      "outputs": [
        {
          "output_type": "execute_result",
          "data": {
            "text/plain": [
              "              numeric_column  skew_before  kurtosis_before  \\\n",
              "0                patient_nbr     0.471281        -0.347372   \n",
              "1             num_procedures     1.316415         0.857110   \n",
              "2          number_outpatient     8.832959       147.907736   \n",
              "3                     nummed     0.000000         0.000000   \n",
              "4         num_lab_procedures    -0.236544        -0.245074   \n",
              "5          admission_type_id     1.591984         1.942476   \n",
              "6   discharge_disposition_id     2.563067         6.003347   \n",
              "7           number_inpatient     3.614139        20.719397   \n",
              "8        admission_source_id     1.029935         1.744989   \n",
              "9            num_medications     1.326672         3.468155   \n",
              "10          number_emergency    22.855582      1191.686726   \n",
              "11                       age          NaN              NaN   \n",
              "12              encounter_id     0.699142        -0.102071   \n",
              "13          number_diagnoses    -0.876746        -0.079056   \n",
              "14          time_in_hospital     1.133999         0.850251   \n",
              "\n",
              "    standard_deviation_before log_transform_needed log_type  \n",
              "0                3.869636e+07                   No       NA  \n",
              "1                1.705807e+00                   No       NA  \n",
              "2                1.267265e+00                  Yes    log1p  \n",
              "3                0.000000e+00                   No       NA  \n",
              "4                1.967436e+01                   No       NA  \n",
              "5                1.445403e+00                   No       NA  \n",
              "6                5.280166e+00                  Yes      log  \n",
              "7                1.262863e+00                  Yes    log1p  \n",
              "8                4.064081e+00                   No       NA  \n",
              "9                8.127566e+00                   No       NA  \n",
              "10               9.304723e-01                  Yes    log1p  \n",
              "11                        NaN                   No       NA  \n",
              "12               1.026403e+08                   No       NA  \n",
              "13               1.933600e+00                   No       NA  \n",
              "14               2.985108e+00                   No       NA  "
            ],
            "text/html": [
              "\n",
              "  <div id=\"df-ee60b8cb-3671-4d6f-b2e0-0da82e023179\">\n",
              "    <div class=\"colab-df-container\">\n",
              "      <div>\n",
              "<style scoped>\n",
              "    .dataframe tbody tr th:only-of-type {\n",
              "        vertical-align: middle;\n",
              "    }\n",
              "\n",
              "    .dataframe tbody tr th {\n",
              "        vertical-align: top;\n",
              "    }\n",
              "\n",
              "    .dataframe thead th {\n",
              "        text-align: right;\n",
              "    }\n",
              "</style>\n",
              "<table border=\"1\" class=\"dataframe\">\n",
              "  <thead>\n",
              "    <tr style=\"text-align: right;\">\n",
              "      <th></th>\n",
              "      <th>numeric_column</th>\n",
              "      <th>skew_before</th>\n",
              "      <th>kurtosis_before</th>\n",
              "      <th>standard_deviation_before</th>\n",
              "      <th>log_transform_needed</th>\n",
              "      <th>log_type</th>\n",
              "    </tr>\n",
              "  </thead>\n",
              "  <tbody>\n",
              "    <tr>\n",
              "      <th>0</th>\n",
              "      <td>patient_nbr</td>\n",
              "      <td>0.471281</td>\n",
              "      <td>-0.347372</td>\n",
              "      <td>3.869636e+07</td>\n",
              "      <td>No</td>\n",
              "      <td>NA</td>\n",
              "    </tr>\n",
              "    <tr>\n",
              "      <th>1</th>\n",
              "      <td>num_procedures</td>\n",
              "      <td>1.316415</td>\n",
              "      <td>0.857110</td>\n",
              "      <td>1.705807e+00</td>\n",
              "      <td>No</td>\n",
              "      <td>NA</td>\n",
              "    </tr>\n",
              "    <tr>\n",
              "      <th>2</th>\n",
              "      <td>number_outpatient</td>\n",
              "      <td>8.832959</td>\n",
              "      <td>147.907736</td>\n",
              "      <td>1.267265e+00</td>\n",
              "      <td>Yes</td>\n",
              "      <td>log1p</td>\n",
              "    </tr>\n",
              "    <tr>\n",
              "      <th>3</th>\n",
              "      <td>nummed</td>\n",
              "      <td>0.000000</td>\n",
              "      <td>0.000000</td>\n",
              "      <td>0.000000e+00</td>\n",
              "      <td>No</td>\n",
              "      <td>NA</td>\n",
              "    </tr>\n",
              "    <tr>\n",
              "      <th>4</th>\n",
              "      <td>num_lab_procedures</td>\n",
              "      <td>-0.236544</td>\n",
              "      <td>-0.245074</td>\n",
              "      <td>1.967436e+01</td>\n",
              "      <td>No</td>\n",
              "      <td>NA</td>\n",
              "    </tr>\n",
              "    <tr>\n",
              "      <th>5</th>\n",
              "      <td>admission_type_id</td>\n",
              "      <td>1.591984</td>\n",
              "      <td>1.942476</td>\n",
              "      <td>1.445403e+00</td>\n",
              "      <td>No</td>\n",
              "      <td>NA</td>\n",
              "    </tr>\n",
              "    <tr>\n",
              "      <th>6</th>\n",
              "      <td>discharge_disposition_id</td>\n",
              "      <td>2.563067</td>\n",
              "      <td>6.003347</td>\n",
              "      <td>5.280166e+00</td>\n",
              "      <td>Yes</td>\n",
              "      <td>log</td>\n",
              "    </tr>\n",
              "    <tr>\n",
              "      <th>7</th>\n",
              "      <td>number_inpatient</td>\n",
              "      <td>3.614139</td>\n",
              "      <td>20.719397</td>\n",
              "      <td>1.262863e+00</td>\n",
              "      <td>Yes</td>\n",
              "      <td>log1p</td>\n",
              "    </tr>\n",
              "    <tr>\n",
              "      <th>8</th>\n",
              "      <td>admission_source_id</td>\n",
              "      <td>1.029935</td>\n",
              "      <td>1.744989</td>\n",
              "      <td>4.064081e+00</td>\n",
              "      <td>No</td>\n",
              "      <td>NA</td>\n",
              "    </tr>\n",
              "    <tr>\n",
              "      <th>9</th>\n",
              "      <td>num_medications</td>\n",
              "      <td>1.326672</td>\n",
              "      <td>3.468155</td>\n",
              "      <td>8.127566e+00</td>\n",
              "      <td>No</td>\n",
              "      <td>NA</td>\n",
              "    </tr>\n",
              "    <tr>\n",
              "      <th>10</th>\n",
              "      <td>number_emergency</td>\n",
              "      <td>22.855582</td>\n",
              "      <td>1191.686726</td>\n",
              "      <td>9.304723e-01</td>\n",
              "      <td>Yes</td>\n",
              "      <td>log1p</td>\n",
              "    </tr>\n",
              "    <tr>\n",
              "      <th>11</th>\n",
              "      <td>age</td>\n",
              "      <td>NaN</td>\n",
              "      <td>NaN</td>\n",
              "      <td>NaN</td>\n",
              "      <td>No</td>\n",
              "      <td>NA</td>\n",
              "    </tr>\n",
              "    <tr>\n",
              "      <th>12</th>\n",
              "      <td>encounter_id</td>\n",
              "      <td>0.699142</td>\n",
              "      <td>-0.102071</td>\n",
              "      <td>1.026403e+08</td>\n",
              "      <td>No</td>\n",
              "      <td>NA</td>\n",
              "    </tr>\n",
              "    <tr>\n",
              "      <th>13</th>\n",
              "      <td>number_diagnoses</td>\n",
              "      <td>-0.876746</td>\n",
              "      <td>-0.079056</td>\n",
              "      <td>1.933600e+00</td>\n",
              "      <td>No</td>\n",
              "      <td>NA</td>\n",
              "    </tr>\n",
              "    <tr>\n",
              "      <th>14</th>\n",
              "      <td>time_in_hospital</td>\n",
              "      <td>1.133999</td>\n",
              "      <td>0.850251</td>\n",
              "      <td>2.985108e+00</td>\n",
              "      <td>No</td>\n",
              "      <td>NA</td>\n",
              "    </tr>\n",
              "  </tbody>\n",
              "</table>\n",
              "</div>\n",
              "      <button class=\"colab-df-convert\" onclick=\"convertToInteractive('df-ee60b8cb-3671-4d6f-b2e0-0da82e023179')\"\n",
              "              title=\"Convert this dataframe to an interactive table.\"\n",
              "              style=\"display:none;\">\n",
              "        \n",
              "  <svg xmlns=\"http://www.w3.org/2000/svg\" height=\"24px\"viewBox=\"0 0 24 24\"\n",
              "       width=\"24px\">\n",
              "    <path d=\"M0 0h24v24H0V0z\" fill=\"none\"/>\n",
              "    <path d=\"M18.56 5.44l.94 2.06.94-2.06 2.06-.94-2.06-.94-.94-2.06-.94 2.06-2.06.94zm-11 1L8.5 8.5l.94-2.06 2.06-.94-2.06-.94L8.5 2.5l-.94 2.06-2.06.94zm10 10l.94 2.06.94-2.06 2.06-.94-2.06-.94-.94-2.06-.94 2.06-2.06.94z\"/><path d=\"M17.41 7.96l-1.37-1.37c-.4-.4-.92-.59-1.43-.59-.52 0-1.04.2-1.43.59L10.3 9.45l-7.72 7.72c-.78.78-.78 2.05 0 2.83L4 21.41c.39.39.9.59 1.41.59.51 0 1.02-.2 1.41-.59l7.78-7.78 2.81-2.81c.8-.78.8-2.07 0-2.86zM5.41 20L4 18.59l7.72-7.72 1.47 1.35L5.41 20z\"/>\n",
              "  </svg>\n",
              "      </button>\n",
              "      \n",
              "  <style>\n",
              "    .colab-df-container {\n",
              "      display:flex;\n",
              "      flex-wrap:wrap;\n",
              "      gap: 12px;\n",
              "    }\n",
              "\n",
              "    .colab-df-convert {\n",
              "      background-color: #E8F0FE;\n",
              "      border: none;\n",
              "      border-radius: 50%;\n",
              "      cursor: pointer;\n",
              "      display: none;\n",
              "      fill: #1967D2;\n",
              "      height: 32px;\n",
              "      padding: 0 0 0 0;\n",
              "      width: 32px;\n",
              "    }\n",
              "\n",
              "    .colab-df-convert:hover {\n",
              "      background-color: #E2EBFA;\n",
              "      box-shadow: 0px 1px 2px rgba(60, 64, 67, 0.3), 0px 1px 3px 1px rgba(60, 64, 67, 0.15);\n",
              "      fill: #174EA6;\n",
              "    }\n",
              "\n",
              "    [theme=dark] .colab-df-convert {\n",
              "      background-color: #3B4455;\n",
              "      fill: #D2E3FC;\n",
              "    }\n",
              "\n",
              "    [theme=dark] .colab-df-convert:hover {\n",
              "      background-color: #434B5C;\n",
              "      box-shadow: 0px 1px 3px 1px rgba(0, 0, 0, 0.15);\n",
              "      filter: drop-shadow(0px 1px 2px rgba(0, 0, 0, 0.3));\n",
              "      fill: #FFFFFF;\n",
              "    }\n",
              "  </style>\n",
              "\n",
              "      <script>\n",
              "        const buttonEl =\n",
              "          document.querySelector('#df-ee60b8cb-3671-4d6f-b2e0-0da82e023179 button.colab-df-convert');\n",
              "        buttonEl.style.display =\n",
              "          google.colab.kernel.accessAllowed ? 'block' : 'none';\n",
              "\n",
              "        async function convertToInteractive(key) {\n",
              "          const element = document.querySelector('#df-ee60b8cb-3671-4d6f-b2e0-0da82e023179');\n",
              "          const dataTable =\n",
              "            await google.colab.kernel.invokeFunction('convertToInteractive',\n",
              "                                                     [key], {});\n",
              "          if (!dataTable) return;\n",
              "\n",
              "          const docLinkHtml = 'Like what you see? Visit the ' +\n",
              "            '<a target=\"_blank\" href=https://colab.research.google.com/notebooks/data_table.ipynb>data table notebook</a>'\n",
              "            + ' to learn more about interactive tables.';\n",
              "          element.innerHTML = '';\n",
              "          dataTable['output_type'] = 'display_data';\n",
              "          await google.colab.output.renderOutput(dataTable, element);\n",
              "          const docLink = document.createElement('div');\n",
              "          docLink.innerHTML = docLinkHtml;\n",
              "          element.appendChild(docLink);\n",
              "        }\n",
              "      </script>\n",
              "    </div>\n",
              "  </div>\n",
              "  "
            ]
          },
          "metadata": {},
          "execution_count": 30
        }
      ]
    },
    {
      "cell_type": "code",
      "source": [
        "for i in range(len(statdataframe)):\n",
        "    if statdataframe['log_transform_needed'][i] == 'Yes':\n",
        "        colname = str(statdataframe['numeric_column'][i])\n",
        "        \n",
        "        if statdataframe['log_type'][i] == 'log':\n",
        "            dataset = dataset[dataset[colname] > 0]\n",
        "            dataset[colname + \"_log\"] = np.log(dataset[colname])\n",
        "            \n",
        "        elif statdataframe['log_type'][i] == 'log1p':\n",
        "            dataset = dataset[dataset[colname] >= 0]\n",
        "            dataset[colname + \"_log1p\"] = np.log1p(dataset[colname])\n",
        "\n"
      ],
      "metadata": {
        "id": "SXQu4vibI5h_"
      },
      "execution_count": 31,
      "outputs": []
    },
    {
      "cell_type": "code",
      "source": [
        "dataset = dataset.drop(['number_outpatient', 'number_inpatient', 'number_emergency'], axis = 1)\n",
        "\n"
      ],
      "metadata": {
        "id": "ZrpGgdhXI-4R"
      },
      "execution_count": 33,
      "outputs": []
    },
    {
      "cell_type": "code",
      "source": [
        "dataset.shape"
      ],
      "metadata": {
        "id": "ZrorYSj3JUFS",
        "outputId": "2bcdc8b9-28d0-4c62-de2c-7163406b3d3c",
        "colab": {
          "base_uri": "https://localhost:8080/"
        }
      },
      "execution_count": 34,
      "outputs": [
        {
          "output_type": "execute_result",
          "data": {
            "text/plain": [
              "(101766, 49)"
            ]
          },
          "metadata": {},
          "execution_count": 34
        }
      ]
    },
    {
      "cell_type": "code",
      "source": [
        "# get list of only numeric features\n",
        "numerics = list(set(list(dataset._get_numeric_data().columns))- {'readmitted'})\n",
        "numerics"
      ],
      "metadata": {
        "id": "ce-CaD03JcGR",
        "outputId": "4cdb5139-c963-40c5-bac1-d8e2c2a2cf05",
        "colab": {
          "base_uri": "https://localhost:8080/"
        }
      },
      "execution_count": 36,
      "outputs": [
        {
          "output_type": "execute_result",
          "data": {
            "text/plain": [
              "['patient_nbr',\n",
              " 'num_procedures',\n",
              " 'discharge_disposition_id_log',\n",
              " 'discharge_disposition_id',\n",
              " 'number_inpatient_log1p',\n",
              " 'admission_source_id',\n",
              " 'num_medications',\n",
              " 'age',\n",
              " 'encounter_id',\n",
              " 'time_in_hospital',\n",
              " 'nummed',\n",
              " 'num_lab_procedures',\n",
              " 'number_outpatient_log1p',\n",
              " 'admission_type_id',\n",
              " 'number_emergency_log1p',\n",
              " 'number_diagnoses']"
            ]
          },
          "metadata": {},
          "execution_count": 36
        }
      ]
    },
    {
      "cell_type": "code",
      "source": [
        "# show list of features that are categorical\n",
        "dataset.encounter_id = dataset.encounter_id.astype('int64')\n",
        "dataset.patient_nbr = dataset.patient_nbr.astype('int64')\n",
        "#dataset.diabetesMed = dataset.diabetesMed.astype('int64')\n",
        "#dataset.change = dataset.change.astype('int64')\n",
        "\n",
        "# convert data type of nominal features in dataframe to 'object' type for aggregating\n",
        "i = ['metformin', 'repaglinide', 'nateglinide', 'chlorpropamide', 'glimepiride', 'acetohexamide', \\\n",
        "          'glipizide', 'glyburide', 'tolbutamide', 'pioglitazone', 'rosiglitazone', 'acarbose','miglitol', \\\n",
        "          'troglitazone', 'tolazamide', 'insulin', 'glyburide-metformin', 'glipizide-metformin', \\\n",
        "          'glimepiride-pioglitazone', 'metformin-rosiglitazone', 'metformin-pioglitazone','A1Cresult']\n",
        "#dataset[i] = dataset[i].astype('int64')\n",
        "\n",
        "dataset.dtypes\n",
        "\n"
      ],
      "metadata": {
        "id": "9m6UZSDtJfPK",
        "outputId": "fb628522-f4c6-4b53-db93-2a9393658ba3",
        "colab": {
          "base_uri": "https://localhost:8080/"
        }
      },
      "execution_count": 40,
      "outputs": [
        {
          "output_type": "execute_result",
          "data": {
            "text/plain": [
              "encounter_id                      int64\n",
              "patient_nbr                       int64\n",
              "race                             object\n",
              "gender                           object\n",
              "age                             float64\n",
              "weight                           object\n",
              "admission_type_id                 int64\n",
              "discharge_disposition_id          int64\n",
              "admission_source_id               int64\n",
              "time_in_hospital                  int64\n",
              "payer_code                       object\n",
              "medical_specialty                object\n",
              "num_lab_procedures                int64\n",
              "num_procedures                    int64\n",
              "num_medications                   int64\n",
              "number_diagnoses                  int64\n",
              "max_glu_serum                    object\n",
              "A1Cresult                        object\n",
              "metformin                        object\n",
              "repaglinide                      object\n",
              "nateglinide                      object\n",
              "chlorpropamide                   object\n",
              "glimepiride                      object\n",
              "acetohexamide                    object\n",
              "glipizide                        object\n",
              "glyburide                        object\n",
              "tolbutamide                      object\n",
              "pioglitazone                     object\n",
              "rosiglitazone                    object\n",
              "acarbose                         object\n",
              "miglitol                         object\n",
              "troglitazone                     object\n",
              "tolazamide                       object\n",
              "examide                          object\n",
              "citoglipton                      object\n",
              "insulin                          object\n",
              "glyburide-metformin              object\n",
              "glipizide-metformin              object\n",
              "glimepiride-pioglitazone         object\n",
              "metformin-rosiglitazone          object\n",
              "metformin-pioglitazone           object\n",
              "change                           object\n",
              "diabetesMed                      object\n",
              "readmitted                       object\n",
              "nummed                            int64\n",
              "number_outpatient_log1p         float64\n",
              "discharge_disposition_id_log    float64\n",
              "number_inpatient_log1p          float64\n",
              "number_emergency_log1p          float64\n",
              "dtype: object"
            ]
          },
          "metadata": {},
          "execution_count": 40
        }
      ]
    },
    {
      "cell_type": "code",
      "source": [
        "dfcopy = dataset.copy(deep = True)"
      ],
      "metadata": {
        "id": "uwm4krwRJuWd"
      },
      "execution_count": 41,
      "outputs": []
    },
    {
      "cell_type": "code",
      "source": [
        "dataset['readmitted'] = dataset['readmitted'].apply(lambda x: 0 if x == 2 else x)"
      ],
      "metadata": {
        "id": "BK0R7P7cJ1Ux"
      },
      "execution_count": 42,
      "outputs": []
    },
    {
      "cell_type": "code",
      "source": [
        "interactionterms = [('num_medications','time_in_hospital'),\n",
        "('num_medications','num_procedures'),\n",
        "('time_in_hospital','num_lab_procedures'),\n",
        "('num_medications','num_lab_procedures'),\n",
        "('num_medications','number_diagnoses'),\n",
        "('age','number_diagnoses'),\n",
        "('change','num_medications'),\n",
        "('number_diagnoses','time_in_hospital'),\n",
        "('num_medications','numchange')]"
      ],
      "metadata": {
        "id": "B3OlZsgIJ96t"
      },
      "execution_count": 43,
      "outputs": []
    },
    {
      "cell_type": "code",
      "source": [
        "dataset[['num_medications','time_in_hospital', 'num_medications|time_in_hospital']].head()"
      ],
      "metadata": {
        "id": "uZc08T-7KBb5",
        "outputId": "1a0bc880-a431-4dc2-9465-77bb377008dd",
        "colab": {
          "base_uri": "https://localhost:8080/",
          "height": 206
        }
      },
      "execution_count": 45,
      "outputs": [
        {
          "output_type": "execute_result",
          "data": {
            "text/plain": [
              "   num_medications  time_in_hospital  num_medications|time_in_hospital\n",
              "0                1                 1                                 1\n",
              "1               18                 3                                54\n",
              "2               13                 2                                26\n",
              "3               16                 2                                32\n",
              "4                8                 1                                 8"
            ],
            "text/html": [
              "\n",
              "  <div id=\"df-07f97cb1-6cdd-4495-af96-6891c9d5dc12\">\n",
              "    <div class=\"colab-df-container\">\n",
              "      <div>\n",
              "<style scoped>\n",
              "    .dataframe tbody tr th:only-of-type {\n",
              "        vertical-align: middle;\n",
              "    }\n",
              "\n",
              "    .dataframe tbody tr th {\n",
              "        vertical-align: top;\n",
              "    }\n",
              "\n",
              "    .dataframe thead th {\n",
              "        text-align: right;\n",
              "    }\n",
              "</style>\n",
              "<table border=\"1\" class=\"dataframe\">\n",
              "  <thead>\n",
              "    <tr style=\"text-align: right;\">\n",
              "      <th></th>\n",
              "      <th>num_medications</th>\n",
              "      <th>time_in_hospital</th>\n",
              "      <th>num_medications|time_in_hospital</th>\n",
              "    </tr>\n",
              "  </thead>\n",
              "  <tbody>\n",
              "    <tr>\n",
              "      <th>0</th>\n",
              "      <td>1</td>\n",
              "      <td>1</td>\n",
              "      <td>1</td>\n",
              "    </tr>\n",
              "    <tr>\n",
              "      <th>1</th>\n",
              "      <td>18</td>\n",
              "      <td>3</td>\n",
              "      <td>54</td>\n",
              "    </tr>\n",
              "    <tr>\n",
              "      <th>2</th>\n",
              "      <td>13</td>\n",
              "      <td>2</td>\n",
              "      <td>26</td>\n",
              "    </tr>\n",
              "    <tr>\n",
              "      <th>3</th>\n",
              "      <td>16</td>\n",
              "      <td>2</td>\n",
              "      <td>32</td>\n",
              "    </tr>\n",
              "    <tr>\n",
              "      <th>4</th>\n",
              "      <td>8</td>\n",
              "      <td>1</td>\n",
              "      <td>8</td>\n",
              "    </tr>\n",
              "  </tbody>\n",
              "</table>\n",
              "</div>\n",
              "      <button class=\"colab-df-convert\" onclick=\"convertToInteractive('df-07f97cb1-6cdd-4495-af96-6891c9d5dc12')\"\n",
              "              title=\"Convert this dataframe to an interactive table.\"\n",
              "              style=\"display:none;\">\n",
              "        \n",
              "  <svg xmlns=\"http://www.w3.org/2000/svg\" height=\"24px\"viewBox=\"0 0 24 24\"\n",
              "       width=\"24px\">\n",
              "    <path d=\"M0 0h24v24H0V0z\" fill=\"none\"/>\n",
              "    <path d=\"M18.56 5.44l.94 2.06.94-2.06 2.06-.94-2.06-.94-.94-2.06-.94 2.06-2.06.94zm-11 1L8.5 8.5l.94-2.06 2.06-.94-2.06-.94L8.5 2.5l-.94 2.06-2.06.94zm10 10l.94 2.06.94-2.06 2.06-.94-2.06-.94-.94-2.06-.94 2.06-2.06.94z\"/><path d=\"M17.41 7.96l-1.37-1.37c-.4-.4-.92-.59-1.43-.59-.52 0-1.04.2-1.43.59L10.3 9.45l-7.72 7.72c-.78.78-.78 2.05 0 2.83L4 21.41c.39.39.9.59 1.41.59.51 0 1.02-.2 1.41-.59l7.78-7.78 2.81-2.81c.8-.78.8-2.07 0-2.86zM5.41 20L4 18.59l7.72-7.72 1.47 1.35L5.41 20z\"/>\n",
              "  </svg>\n",
              "      </button>\n",
              "      \n",
              "  <style>\n",
              "    .colab-df-container {\n",
              "      display:flex;\n",
              "      flex-wrap:wrap;\n",
              "      gap: 12px;\n",
              "    }\n",
              "\n",
              "    .colab-df-convert {\n",
              "      background-color: #E8F0FE;\n",
              "      border: none;\n",
              "      border-radius: 50%;\n",
              "      cursor: pointer;\n",
              "      display: none;\n",
              "      fill: #1967D2;\n",
              "      height: 32px;\n",
              "      padding: 0 0 0 0;\n",
              "      width: 32px;\n",
              "    }\n",
              "\n",
              "    .colab-df-convert:hover {\n",
              "      background-color: #E2EBFA;\n",
              "      box-shadow: 0px 1px 2px rgba(60, 64, 67, 0.3), 0px 1px 3px 1px rgba(60, 64, 67, 0.15);\n",
              "      fill: #174EA6;\n",
              "    }\n",
              "\n",
              "    [theme=dark] .colab-df-convert {\n",
              "      background-color: #3B4455;\n",
              "      fill: #D2E3FC;\n",
              "    }\n",
              "\n",
              "    [theme=dark] .colab-df-convert:hover {\n",
              "      background-color: #434B5C;\n",
              "      box-shadow: 0px 1px 3px 1px rgba(0, 0, 0, 0.15);\n",
              "      filter: drop-shadow(0px 1px 2px rgba(0, 0, 0, 0.3));\n",
              "      fill: #FFFFFF;\n",
              "    }\n",
              "  </style>\n",
              "\n",
              "      <script>\n",
              "        const buttonEl =\n",
              "          document.querySelector('#df-07f97cb1-6cdd-4495-af96-6891c9d5dc12 button.colab-df-convert');\n",
              "        buttonEl.style.display =\n",
              "          google.colab.kernel.accessAllowed ? 'block' : 'none';\n",
              "\n",
              "        async function convertToInteractive(key) {\n",
              "          const element = document.querySelector('#df-07f97cb1-6cdd-4495-af96-6891c9d5dc12');\n",
              "          const dataTable =\n",
              "            await google.colab.kernel.invokeFunction('convertToInteractive',\n",
              "                                                     [key], {});\n",
              "          if (!dataTable) return;\n",
              "\n",
              "          const docLinkHtml = 'Like what you see? Visit the ' +\n",
              "            '<a target=\"_blank\" href=https://colab.research.google.com/notebooks/data_table.ipynb>data table notebook</a>'\n",
              "            + ' to learn more about interactive tables.';\n",
              "          element.innerHTML = '';\n",
              "          dataTable['output_type'] = 'display_data';\n",
              "          await google.colab.output.renderOutput(dataTable, element);\n",
              "          const docLink = document.createElement('div');\n",
              "          docLink.innerHTML = docLinkHtml;\n",
              "          element.appendChild(docLink);\n",
              "        }\n",
              "      </script>\n",
              "    </div>\n",
              "  </div>\n",
              "  "
            ]
          },
          "metadata": {},
          "execution_count": 45
        }
      ]
    },
    {
      "cell_type": "code",
      "source": [
        "# Feature Scaling\n",
        "datf = pd.DataFrame()\n",
        "datf['features'] = numerics\n",
        "datf['std_dev'] = datf['features'].apply(lambda x: dataset[x].std())\n",
        "datf['mean'] = datf['features'].apply(lambda x: dataset[x].mean())"
      ],
      "metadata": {
        "id": "QKbGuXzsKNZ-"
      },
      "execution_count": 47,
      "outputs": []
    },
    {
      "cell_type": "code",
      "source": [
        "# dropping multiple encounters while keeping either first or last encounter of these patients\n",
        "df2 = dataset.drop_duplicates(subset= ['patient_nbr'], keep = 'first')\n",
        "df2.shape"
      ],
      "metadata": {
        "id": "M-AfJ_-NKfZK",
        "outputId": "55c9dc7e-579f-4871-f9c2-f5c168fc05e7",
        "colab": {
          "base_uri": "https://localhost:8080/"
        }
      },
      "execution_count": 49,
      "outputs": [
        {
          "output_type": "execute_result",
          "data": {
            "text/plain": [
              "(71518, 57)"
            ]
          },
          "metadata": {},
          "execution_count": 49
        }
      ]
    },
    {
      "cell_type": "code",
      "source": [
        "# standardize function\n",
        "def standardize(raw_data):\n",
        "    return ((raw_data - np.mean(raw_data, axis = 0)) / np.std(raw_data, axis = 0))"
      ],
      "metadata": {
        "id": "XTjF_GodKll5"
      },
      "execution_count": 50,
      "outputs": []
    },
    {
      "cell_type": "code",
      "source": [
        "import scipy as sp\n",
        "\n",
        "df2[numerics] = standardize(df2[numerics])\n",
        "\n",
        "df2 = df2[(np.abs(sp.stats.zscore(df2[numerics])) < 3).all(axis=1)]"
      ],
      "metadata": {
        "id": "EOMORqKbKp5X"
      },
      "execution_count": 51,
      "outputs": []
    },
    {
      "cell_type": "code",
      "source": [
        "from matplotlib.colors import ListedColormap\n",
        "my_cmap = ListedColormap(sns.light_palette((250, 100, 50), input=\"husl\", n_colors=50).as_hex())\n",
        "table = df2.drop(['patient_nbr', 'encounter_id'], axis=1).corr(method='pearson')\n",
        "table.style.background_gradient(cmap=my_cmap, axis = 0)"
      ],
      "metadata": {
        "id": "Cbjnih8dKrT9"
      },
      "execution_count": null,
      "outputs": []
    },
    {
      "cell_type": "code",
      "source": [
        "non_num_cols = ['race', 'gender', 'admission_type_id', 'discharge_disposition_id', 'admission_source_id', \n",
        "                'max_glu_serum', 'A1Cresult', ]"
      ],
      "metadata": {
        "id": "3y96t-vKK7fe"
      },
      "execution_count": 60,
      "outputs": []
    },
    {
      "cell_type": "code",
      "source": [
        "num_cols = list(set(list(dataset._get_numeric_data().columns))- {'readmitted', 'change'})\n",
        "num_cols"
      ],
      "metadata": {
        "id": "beDCFIUfLMGI",
        "outputId": "015e10f2-bb3e-494d-b83f-0c50127ce168",
        "colab": {
          "base_uri": "https://localhost:8080/"
        }
      },
      "execution_count": 55,
      "outputs": [
        {
          "output_type": "execute_result",
          "data": {
            "text/plain": [
              "['patient_nbr',\n",
              " 'num_procedures',\n",
              " 'age|number_diagnoses',\n",
              " 'time_in_hospital|num_lab_procedures',\n",
              " 'discharge_disposition_id_log',\n",
              " 'num_medications|num_lab_procedures',\n",
              " 'num_medications|number_diagnoses',\n",
              " 'discharge_disposition_id',\n",
              " 'number_inpatient_log1p',\n",
              " 'admission_source_id',\n",
              " 'num_medications',\n",
              " 'age',\n",
              " 'num_medications|time_in_hospital',\n",
              " 'encounter_id',\n",
              " 'time_in_hospital',\n",
              " 'number_diagnoses|time_in_hospital',\n",
              " 'nummed',\n",
              " 'num_lab_procedures',\n",
              " 'number_outpatient_log1p',\n",
              " 'admission_type_id',\n",
              " 'num_medications|num_procedures',\n",
              " 'number_emergency_log1p',\n",
              " 'number_diagnoses']"
            ]
          },
          "metadata": {},
          "execution_count": 55
        }
      ]
    },
    {
      "cell_type": "code",
      "source": [
        "feature_set = ['age', 'time_in_hospital', 'num_procedures', 'num_medications', 'number_outpatient_log1p', \n",
        "                 'number_emergency_log1p', 'number_inpatient_log1p', 'number_diagnoses', 'metformin', \n",
        "                 'repaglinide', 'nateglinide', 'chlorpropamide', 'glimepiride', 'glipizide', 'glyburide',\n",
        "                 'pioglitazone', 'rosiglitazone', 'acarbose', 'tolazamide', 'insulin', 'glyburide-metformin',\n",
        "                 'AfricanAmerican', 'Asian', 'Caucasian', 'Hispanic', 'Other', 'gender_1', \n",
        "                 'admission_type_id_3', 'admission_type_id_5', 'discharge_disposition_id_2', 'discharge_disposition_id_7', \n",
        "                 'discharge_disposition_id_10', 'discharge_disposition_id_18', 'admission_source_id_4',\n",
        "                 'admission_source_id_7', 'admission_source_id_9', 'max_glu_serum_0', 'max_glu_serum_1', 'A1Cresult_0',\n",
        "                 'A1Cresult_1', 'num_medications|time_in_hospital', 'num_medications|num_procedures',\n",
        "                 'time_in_hospital|num_lab_procedures', 'num_medications|num_lab_procedures', 'num_medications|number_diagnoses',\n",
        "                 'age|number_diagnoses', 'change|num_medications', 'number_diagnoses|time_in_hospital',\n",
        "                 'num_medications|numchange']"
      ],
      "metadata": {
        "id": "IshLgF14LSS9"
      },
      "execution_count": 56,
      "outputs": []
    },
    {
      "cell_type": "code",
      "source": [
        "# example of chi squared feature selection for categorical data\n",
        "from pandas import read_csv\n",
        "from sklearn.model_selection import train_test_split\n",
        "from sklearn.preprocessing import LabelEncoder\n",
        "from sklearn.preprocessing import OrdinalEncoder\n",
        "from sklearn.feature_selection import SelectKBest\n",
        "from sklearn.feature_selection import chi2\n",
        "from matplotlib import pyplot\n",
        "\n",
        "# load the dataset\n",
        "def load_dataset(filename):\n",
        "\t# load the dataset as a pandas DataFrame\n",
        "\tdata = read_csv(filename, header=None)\n",
        "\t# retrieve numpy array\n",
        "\tdataset = data.values\n",
        "\t# split into input (X) and output (y) variables\n",
        "\tX = dataset[:, :-1]\n",
        "\ty = dataset[:,-1]\n",
        "\t# format all fields as string\n",
        "\tX = X.astype(str)\n",
        "\treturn X, y\n",
        "\n",
        "# prepare input data\n",
        "def prepare_inputs(X_train, X_test):\n",
        "  oe = OrdinalEncoder()\n",
        "  oe.fit(X_train)\n",
        "  X_train_enc = oe.transform(X_train)\n",
        "  oe.fit(X_test)\n",
        "  X_test_enc = oe.transform(X_test)\n",
        "  return X_train_enc, X_test_enc\n",
        "\n",
        "# prepare target\n",
        "def prepare_targets(y_train, y_test):\n",
        "\tle = LabelEncoder()\n",
        "\tle.fit(y_train)\n",
        "\ty_train_enc = le.transform(y_train)\n",
        "\ty_test_enc = le.transform(y_test)\n",
        "\treturn y_train_enc, y_test_enc\n",
        "\n",
        "# feature selection\n",
        "def select_features(X_train, y_train, X_test):\n",
        "\tfs = SelectKBest(score_func=chi2, k='all')\n",
        "\tfs.fit(X_train, y_train)\n",
        "\tX_train_fs = fs.transform(X_train)\n",
        "\tX_test_fs = fs.transform(X_test)\n",
        "\treturn X_train_fs, X_test_fs, fs\n",
        "\n",
        "# load the dataset\n",
        "X, y = load_dataset('/content/drive/MyDrive/0_ColabDatasets/final Medical.csv')\n",
        "# split into train and test sets\n",
        "X_train, X_test, y_train, y_test = train_test_split(X, y, test_size=0.33, random_state=1)\n",
        "# prepare input data\n",
        "X_train_enc, X_test_enc = prepare_inputs(X_train, X_test)\n",
        "# prepare output data\n",
        "y_train_enc, y_test_enc = prepare_targets(y_train, y_test)\n",
        "# feature selection\n",
        "X_train_fs, X_test_fs, fs = select_features(X_train_enc, y_train_enc, X_test_enc)\n",
        "# what are scores for the features\n",
        "for i in range(len(fs.scores_)):\n",
        "\tprint('Feature %d: %f' % (i, fs.scores_[i]))\n",
        "# plot the scores\n",
        "pyplot.bar([i for i in range(len(fs.scores_))], fs.scores_)\n",
        "pyplot.show()"
      ],
      "metadata": {
        "id": "-l15EuUk77Xz",
        "colab": {
          "base_uri": "https://localhost:8080/",
          "height": 433
        },
        "outputId": "a58e08a4-8053-4fae-dbc8-e574196651cc"
      },
      "execution_count": 3,
      "outputs": [
        {
          "output_type": "error",
          "ename": "TypeError",
          "evalue": "ignored",
          "traceback": [
            "\u001b[0;31m---------------------------------------------------------------------------\u001b[0m",
            "\u001b[0;31mTypeError\u001b[0m                                 Traceback (most recent call last)",
            "\u001b[0;32m/usr/local/lib/python3.7/dist-packages/sklearn/utils/_encode.py\u001b[0m in \u001b[0;36m_unique_python\u001b[0;34m(values, return_inverse)\u001b[0m\n\u001b[1;32m    134\u001b[0m \u001b[0;34m\u001b[0m\u001b[0m\n\u001b[0;32m--> 135\u001b[0;31m         \u001b[0muniques\u001b[0m \u001b[0;34m=\u001b[0m \u001b[0msorted\u001b[0m\u001b[0;34m(\u001b[0m\u001b[0muniques_set\u001b[0m\u001b[0;34m)\u001b[0m\u001b[0;34m\u001b[0m\u001b[0;34m\u001b[0m\u001b[0m\n\u001b[0m\u001b[1;32m    136\u001b[0m         \u001b[0muniques\u001b[0m\u001b[0;34m.\u001b[0m\u001b[0mextend\u001b[0m\u001b[0;34m(\u001b[0m\u001b[0mmissing_values\u001b[0m\u001b[0;34m.\u001b[0m\u001b[0mto_list\u001b[0m\u001b[0;34m(\u001b[0m\u001b[0;34m)\u001b[0m\u001b[0;34m)\u001b[0m\u001b[0;34m\u001b[0m\u001b[0;34m\u001b[0m\u001b[0m\n",
            "\u001b[0;31mTypeError\u001b[0m: '<' not supported between instances of 'int' and 'str'",
            "\nDuring handling of the above exception, another exception occurred:\n",
            "\u001b[0;31mTypeError\u001b[0m                                 Traceback (most recent call last)",
            "\u001b[0;32m<ipython-input-3-b30c1eb19621>\u001b[0m in \u001b[0;36m<module>\u001b[0;34m\u001b[0m\n\u001b[1;32m     53\u001b[0m \u001b[0mX_train_enc\u001b[0m\u001b[0;34m,\u001b[0m \u001b[0mX_test_enc\u001b[0m \u001b[0;34m=\u001b[0m \u001b[0mprepare_inputs\u001b[0m\u001b[0;34m(\u001b[0m\u001b[0mX_train\u001b[0m\u001b[0;34m,\u001b[0m \u001b[0mX_test\u001b[0m\u001b[0;34m)\u001b[0m\u001b[0;34m\u001b[0m\u001b[0;34m\u001b[0m\u001b[0m\n\u001b[1;32m     54\u001b[0m \u001b[0;31m# prepare output data\u001b[0m\u001b[0;34m\u001b[0m\u001b[0;34m\u001b[0m\u001b[0;34m\u001b[0m\u001b[0m\n\u001b[0;32m---> 55\u001b[0;31m \u001b[0my_train_enc\u001b[0m\u001b[0;34m,\u001b[0m \u001b[0my_test_enc\u001b[0m \u001b[0;34m=\u001b[0m \u001b[0mprepare_targets\u001b[0m\u001b[0;34m(\u001b[0m\u001b[0my_train\u001b[0m\u001b[0;34m,\u001b[0m \u001b[0my_test\u001b[0m\u001b[0;34m)\u001b[0m\u001b[0;34m\u001b[0m\u001b[0;34m\u001b[0m\u001b[0m\n\u001b[0m\u001b[1;32m     56\u001b[0m \u001b[0;31m# feature selection\u001b[0m\u001b[0;34m\u001b[0m\u001b[0;34m\u001b[0m\u001b[0;34m\u001b[0m\u001b[0m\n\u001b[1;32m     57\u001b[0m \u001b[0mX_train_fs\u001b[0m\u001b[0;34m,\u001b[0m \u001b[0mX_test_fs\u001b[0m\u001b[0;34m,\u001b[0m \u001b[0mfs\u001b[0m \u001b[0;34m=\u001b[0m \u001b[0mselect_features\u001b[0m\u001b[0;34m(\u001b[0m\u001b[0mX_train_enc\u001b[0m\u001b[0;34m,\u001b[0m \u001b[0my_train_enc\u001b[0m\u001b[0;34m,\u001b[0m \u001b[0mX_test_enc\u001b[0m\u001b[0;34m)\u001b[0m\u001b[0;34m\u001b[0m\u001b[0;34m\u001b[0m\u001b[0m\n",
            "\u001b[0;32m<ipython-input-3-b30c1eb19621>\u001b[0m in \u001b[0;36mprepare_targets\u001b[0;34m(y_train, y_test)\u001b[0m\n\u001b[1;32m     33\u001b[0m \u001b[0;32mdef\u001b[0m \u001b[0mprepare_targets\u001b[0m\u001b[0;34m(\u001b[0m\u001b[0my_train\u001b[0m\u001b[0;34m,\u001b[0m \u001b[0my_test\u001b[0m\u001b[0;34m)\u001b[0m\u001b[0;34m:\u001b[0m\u001b[0;34m\u001b[0m\u001b[0;34m\u001b[0m\u001b[0m\n\u001b[1;32m     34\u001b[0m         \u001b[0mle\u001b[0m \u001b[0;34m=\u001b[0m \u001b[0mLabelEncoder\u001b[0m\u001b[0;34m(\u001b[0m\u001b[0;34m)\u001b[0m\u001b[0;34m\u001b[0m\u001b[0;34m\u001b[0m\u001b[0m\n\u001b[0;32m---> 35\u001b[0;31m         \u001b[0mle\u001b[0m\u001b[0;34m.\u001b[0m\u001b[0mfit\u001b[0m\u001b[0;34m(\u001b[0m\u001b[0my_train\u001b[0m\u001b[0;34m)\u001b[0m\u001b[0;34m\u001b[0m\u001b[0;34m\u001b[0m\u001b[0m\n\u001b[0m\u001b[1;32m     36\u001b[0m         \u001b[0my_train_enc\u001b[0m \u001b[0;34m=\u001b[0m \u001b[0mle\u001b[0m\u001b[0;34m.\u001b[0m\u001b[0mtransform\u001b[0m\u001b[0;34m(\u001b[0m\u001b[0my_train\u001b[0m\u001b[0;34m)\u001b[0m\u001b[0;34m\u001b[0m\u001b[0;34m\u001b[0m\u001b[0m\n\u001b[1;32m     37\u001b[0m         \u001b[0my_test_enc\u001b[0m \u001b[0;34m=\u001b[0m \u001b[0mle\u001b[0m\u001b[0;34m.\u001b[0m\u001b[0mtransform\u001b[0m\u001b[0;34m(\u001b[0m\u001b[0my_test\u001b[0m\u001b[0;34m)\u001b[0m\u001b[0;34m\u001b[0m\u001b[0;34m\u001b[0m\u001b[0m\n",
            "\u001b[0;32m/usr/local/lib/python3.7/dist-packages/sklearn/preprocessing/_label.py\u001b[0m in \u001b[0;36mfit\u001b[0;34m(self, y)\u001b[0m\n\u001b[1;32m     97\u001b[0m         \"\"\"\n\u001b[1;32m     98\u001b[0m         \u001b[0my\u001b[0m \u001b[0;34m=\u001b[0m \u001b[0mcolumn_or_1d\u001b[0m\u001b[0;34m(\u001b[0m\u001b[0my\u001b[0m\u001b[0;34m,\u001b[0m \u001b[0mwarn\u001b[0m\u001b[0;34m=\u001b[0m\u001b[0;32mTrue\u001b[0m\u001b[0;34m)\u001b[0m\u001b[0;34m\u001b[0m\u001b[0;34m\u001b[0m\u001b[0m\n\u001b[0;32m---> 99\u001b[0;31m         \u001b[0mself\u001b[0m\u001b[0;34m.\u001b[0m\u001b[0mclasses_\u001b[0m \u001b[0;34m=\u001b[0m \u001b[0m_unique\u001b[0m\u001b[0;34m(\u001b[0m\u001b[0my\u001b[0m\u001b[0;34m)\u001b[0m\u001b[0;34m\u001b[0m\u001b[0;34m\u001b[0m\u001b[0m\n\u001b[0m\u001b[1;32m    100\u001b[0m         \u001b[0;32mreturn\u001b[0m \u001b[0mself\u001b[0m\u001b[0;34m\u001b[0m\u001b[0;34m\u001b[0m\u001b[0m\n\u001b[1;32m    101\u001b[0m \u001b[0;34m\u001b[0m\u001b[0m\n",
            "\u001b[0;32m/usr/local/lib/python3.7/dist-packages/sklearn/utils/_encode.py\u001b[0m in \u001b[0;36m_unique\u001b[0;34m(values, return_inverse)\u001b[0m\n\u001b[1;32m     29\u001b[0m     \"\"\"\n\u001b[1;32m     30\u001b[0m     \u001b[0;32mif\u001b[0m \u001b[0mvalues\u001b[0m\u001b[0;34m.\u001b[0m\u001b[0mdtype\u001b[0m \u001b[0;34m==\u001b[0m \u001b[0mobject\u001b[0m\u001b[0;34m:\u001b[0m\u001b[0;34m\u001b[0m\u001b[0;34m\u001b[0m\u001b[0m\n\u001b[0;32m---> 31\u001b[0;31m         \u001b[0;32mreturn\u001b[0m \u001b[0m_unique_python\u001b[0m\u001b[0;34m(\u001b[0m\u001b[0mvalues\u001b[0m\u001b[0;34m,\u001b[0m \u001b[0mreturn_inverse\u001b[0m\u001b[0;34m=\u001b[0m\u001b[0mreturn_inverse\u001b[0m\u001b[0;34m)\u001b[0m\u001b[0;34m\u001b[0m\u001b[0;34m\u001b[0m\u001b[0m\n\u001b[0m\u001b[1;32m     32\u001b[0m     \u001b[0;31m# numerical\u001b[0m\u001b[0;34m\u001b[0m\u001b[0;34m\u001b[0m\u001b[0;34m\u001b[0m\u001b[0m\n\u001b[1;32m     33\u001b[0m     \u001b[0mout\u001b[0m \u001b[0;34m=\u001b[0m \u001b[0mnp\u001b[0m\u001b[0;34m.\u001b[0m\u001b[0munique\u001b[0m\u001b[0;34m(\u001b[0m\u001b[0mvalues\u001b[0m\u001b[0;34m,\u001b[0m \u001b[0mreturn_inverse\u001b[0m\u001b[0;34m=\u001b[0m\u001b[0mreturn_inverse\u001b[0m\u001b[0;34m)\u001b[0m\u001b[0;34m\u001b[0m\u001b[0;34m\u001b[0m\u001b[0m\n",
            "\u001b[0;32m/usr/local/lib/python3.7/dist-packages/sklearn/utils/_encode.py\u001b[0m in \u001b[0;36m_unique_python\u001b[0;34m(values, return_inverse)\u001b[0m\n\u001b[1;32m    139\u001b[0m         \u001b[0mtypes\u001b[0m \u001b[0;34m=\u001b[0m \u001b[0msorted\u001b[0m\u001b[0;34m(\u001b[0m\u001b[0mt\u001b[0m\u001b[0;34m.\u001b[0m\u001b[0m__qualname__\u001b[0m \u001b[0;32mfor\u001b[0m \u001b[0mt\u001b[0m \u001b[0;32min\u001b[0m \u001b[0mset\u001b[0m\u001b[0;34m(\u001b[0m\u001b[0mtype\u001b[0m\u001b[0;34m(\u001b[0m\u001b[0mv\u001b[0m\u001b[0;34m)\u001b[0m \u001b[0;32mfor\u001b[0m \u001b[0mv\u001b[0m \u001b[0;32min\u001b[0m \u001b[0mvalues\u001b[0m\u001b[0;34m)\u001b[0m\u001b[0;34m)\u001b[0m\u001b[0;34m\u001b[0m\u001b[0;34m\u001b[0m\u001b[0m\n\u001b[1;32m    140\u001b[0m         raise TypeError(\n\u001b[0;32m--> 141\u001b[0;31m             \u001b[0;34m\"Encoders require their input to be uniformly \"\u001b[0m\u001b[0;34m\u001b[0m\u001b[0;34m\u001b[0m\u001b[0m\n\u001b[0m\u001b[1;32m    142\u001b[0m             \u001b[0;34mf\"strings or numbers. Got {types}\"\u001b[0m\u001b[0;34m\u001b[0m\u001b[0;34m\u001b[0m\u001b[0m\n\u001b[1;32m    143\u001b[0m         )\n",
            "\u001b[0;31mTypeError\u001b[0m: Encoders require their input to be uniformly strings or numbers. Got ['int', 'str']"
          ]
        }
      ]
    },
    {
      "cell_type": "code",
      "source": [
        "# evaluation of a model fit using chi squared input features\n",
        "from pandas import read_csv\n",
        "from sklearn.preprocessing import LabelEncoder\n",
        "from sklearn.preprocessing import OrdinalEncoder\n",
        "from sklearn.feature_selection import SelectKBest\n",
        "from sklearn.feature_selection import chi2\n",
        "from sklearn.model_selection import train_test_split\n",
        "from sklearn.linear_model import LogisticRegression\n",
        "from sklearn.metrics import accuracy_score\n",
        "\n",
        "# load the dataset\n",
        "def load_dataset(filename):\n",
        "\t# load the dataset as a pandas DataFrame\n",
        "\tdata = read_csv(filename, header=None)\n",
        "\t# retrieve numpy array\n",
        "\tdataset = data.values\n",
        "\t# split into input (X) and output (y) variables\n",
        "\tX = dataset[:, :-1]\n",
        "\ty = dataset[:,-1]\n",
        "\t# format all fields as string\n",
        "\tX = X.astype(str)\n",
        "\treturn X, y\n",
        "\n",
        "# prepare input data\n",
        "def prepare_inputs(X_train, X_test):\n",
        "  oe = OrdinalEncoder()\n",
        "  oe.fit(X_train)\n",
        "  X_train_enc = oe.transform(X_train)\n",
        "  oe.fit(X_test)\n",
        "  X_test_enc = oe.transform(X_test)\n",
        "  return X_train_enc, X_test_enc\n",
        "\n",
        "# prepare target\n",
        "def prepare_targets(y_train, y_test):\n",
        "\tle = LabelEncoder()\n",
        "\tle.fit(y_train)\n",
        "\ty_train_enc = le.transform(y_train)\n",
        "\ty_test_enc = le.transform(y_test)\n",
        "\treturn y_train_enc, y_test_enc\n",
        "\n",
        "# feature selection\n",
        "def select_features(X_train, y_train, X_test):\n",
        "\tfs = SelectKBest(score_func=chi2, k=30)\n",
        "\tfs.fit(X_train, y_train)\n",
        "\tX_train_fs = fs.transform(X_train)\n",
        "\tX_test_fs = fs.transform(X_test)\n",
        "\treturn X_train_fs, X_test_fs\n",
        "\n",
        "# load the dataset\n",
        "X, y = load_dataset('/content/drive/MyDrive/Colab Notebooks/Zia Sir/20-09-22/diabetic_data - Copy.csv')\n",
        "# split into train and test sets\n",
        "X_train, X_test, y_train, y_test = train_test_split(X, y, test_size=0.33, random_state=1)\n",
        "# prepare input data\n",
        "X_train_enc, X_test_enc = prepare_inputs(X_train, X_test)\n",
        "# prepare output data\n",
        "y_train_enc, y_test_enc = prepare_targets(y_train, y_test)\n",
        "# feature selection\n",
        "X_train_fs, X_test_fs = select_features(X_train_enc, y_train_enc, X_test_enc)\n",
        "# fit the model\n",
        "model = RandomForestClassifier()\n",
        "model.fit(X_train_fs, y_train_enc)\n",
        "# evaluate the model\n",
        "yhat = model.predict(X_test_fs)\n",
        "# evaluate predictions\n",
        "accuracy = accuracy_score(y_test_enc, yhat)\n",
        "print('Accuracy: %.2f' % (accuracy*100))"
      ],
      "metadata": {
        "id": "SiMMDrO9_cpO",
        "colab": {
          "base_uri": "https://localhost:8080/"
        },
        "outputId": "5bd2c5c4-c0c9-480b-e3fc-a02fe52d7694"
      },
      "execution_count": null,
      "outputs": [
        {
          "output_type": "stream",
          "name": "stdout",
          "text": [
            "Accuracy: 56.97\n"
          ]
        }
      ]
    }
  ]
}