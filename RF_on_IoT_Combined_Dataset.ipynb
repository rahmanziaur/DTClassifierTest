{
  "cells": [
    {
      "cell_type": "markdown",
      "metadata": {
        "id": "view-in-github",
        "colab_type": "text"
      },
      "source": [
        "<a href=\"https://colab.research.google.com/github/rahmanziaur/DTClassifierTest/blob/main/RF_on_IoT_Combined_Dataset.ipynb\" target=\"_parent\"><img src=\"https://colab.research.google.com/assets/colab-badge.svg\" alt=\"Open In Colab\"/></a>"
      ]
    },
    {
      "cell_type": "markdown",
      "metadata": {
        "id": "y61xJzKhjsAt"
      },
      "source": [
        "# **Random Forest(RF) on IoT Combined Dataset**"
      ]
    },
    {
      "cell_type": "markdown",
      "metadata": {
        "id": "SSWJ-I3UKZ6h"
      },
      "source": [
        "****Importing libraries****"
      ]
    },
    {
      "cell_type": "code",
      "execution_count": null,
      "metadata": {
        "id": "AwMrsTn_KVhy"
      },
      "outputs": [],
      "source": [
        "import timeit\n",
        "import pandas as pd\n",
        "import numpy as np\n",
        "import seaborn as sns\n",
        "import matplotlib.pyplot as plt\n",
        "from sklearn.model_selection import train_test_split\n",
        "from sklearn.ensemble import RandomForestClassifier\n",
        "from sklearn import metrics\n",
        "from sklearn.metrics import classification_report, confusion_matrix\n",
        "from sklearn.metrics import roc_curve\n",
        "from sklearn.metrics import roc_auc_score\n",
        "import warnings\n",
        "%matplotlib inline\n",
        "warnings.filterwarnings('ignore')\n",
        "#warnings.filterwarnings('always') "
      ]
    },
    {
      "cell_type": "markdown",
      "metadata": {
        "id": "VVVIs7G_KdTq"
      },
      "source": [
        "**Upload File**"
      ]
    },
    {
      "cell_type": "code",
      "execution_count": null,
      "metadata": {
        "id": "24Ek4cCej76I"
      },
      "outputs": [],
      "source": [
        "#uploaded = files.upload()"
      ]
    },
    {
      "cell_type": "code",
      "source": [
        "from google.colab import drive\n",
        "drive.mount('/content/drive')"
      ],
      "metadata": {
        "id": "Ikb8-bpffl5f",
        "colab": {
          "base_uri": "https://localhost:8080/"
        },
        "outputId": "bf94d846-cdfd-4da5-a321-ddb89a1c9a30"
      },
      "execution_count": 1,
      "outputs": [
        {
          "output_type": "stream",
          "name": "stdout",
          "text": [
            "Mounted at /content/drive\n"
          ]
        }
      ]
    },
    {
      "cell_type": "markdown",
      "metadata": {
        "id": "4jmo-htGGdCD"
      },
      "source": [
        "**Importing the Dataset**"
      ]
    },
    {
      "cell_type": "code",
      "execution_count": null,
      "metadata": {
        "id": "AsvTp_w-l-Km"
      },
      "outputs": [],
      "source": [
        "dataset=pd.read_csv('/content/drive/MyDrive/Processed_Combined_IoT_dataset (1).csv')"
      ]
    },
    {
      "cell_type": "markdown",
      "metadata": {
        "id": "2BWWYGPNGhst"
      },
      "source": [
        "**Exploratory Data Analysis**"
      ]
    },
    {
      "cell_type": "code",
      "execution_count": null,
      "metadata": {
        "colab": {
          "base_uri": "https://localhost:8080/",
          "height": 270
        },
        "id": "0hEM0bOClrjL",
        "outputId": "0a6a2b90-04a4-4477-c042-33a36d2d611f"
      },
      "outputs": [
        {
          "output_type": "execute_result",
          "data": {
            "text/plain": [
              "   FC1_Read_Input_Register  FC2_Read_Discrete_Value  \\\n",
              "0                 0.495216                 0.499092   \n",
              "1                 0.495216                 0.499092   \n",
              "2                 0.495216                 0.499092   \n",
              "3                 0.495216                 0.499092   \n",
              "4                 0.495216                 0.499092   \n",
              "\n",
              "   FC3_Read_Holding_Register  FC4_Read_Coil  current_temperature  door_state  \\\n",
              "0                   0.488897       0.499405             0.344399           0   \n",
              "1                   0.488897       0.499405             0.344399           0   \n",
              "2                   0.488897       0.499405             0.344399           0   \n",
              "3                   0.488897       0.499405             0.344399           0   \n",
              "4                   0.488897       0.499405             0.344399           0   \n",
              "\n",
              "   fridge_temperature  humidity  latitude  light_status  longitude  \\\n",
              "0            0.930769  0.462511  0.008217             0   0.008112   \n",
              "1            0.588462  0.462511  0.008217             0   0.008112   \n",
              "2            0.076923  0.462511  0.008217             0   0.008112   \n",
              "3            0.292308  0.462511  0.008217             0   0.008112   \n",
              "4            0.746154  0.462511  0.008217             0   0.008112   \n",
              "\n",
              "   motion_status  pressure  sphone_signal  temp_condition  temperature  \\\n",
              "0              0  0.533556       0.666667             0.2     0.517307   \n",
              "1              0  0.533556       0.666667             0.2     0.517307   \n",
              "2              0  0.533556       0.666667             0.8     0.517307   \n",
              "3              0  0.533556       0.666667             0.8     0.517307   \n",
              "4              0  0.533556       0.666667             0.2     0.517307   \n",
              "\n",
              "   thermostat_status  label  \n",
              "0                  1      0  \n",
              "1                  1      0  \n",
              "2                  1      0  \n",
              "3                  1      0  \n",
              "4                  1      0  "
            ],
            "text/html": [
              "\n",
              "  <div id=\"df-68fa1ee8-3d08-4648-8815-8ee86086fa4b\">\n",
              "    <div class=\"colab-df-container\">\n",
              "      <div>\n",
              "<style scoped>\n",
              "    .dataframe tbody tr th:only-of-type {\n",
              "        vertical-align: middle;\n",
              "    }\n",
              "\n",
              "    .dataframe tbody tr th {\n",
              "        vertical-align: top;\n",
              "    }\n",
              "\n",
              "    .dataframe thead th {\n",
              "        text-align: right;\n",
              "    }\n",
              "</style>\n",
              "<table border=\"1\" class=\"dataframe\">\n",
              "  <thead>\n",
              "    <tr style=\"text-align: right;\">\n",
              "      <th></th>\n",
              "      <th>FC1_Read_Input_Register</th>\n",
              "      <th>FC2_Read_Discrete_Value</th>\n",
              "      <th>FC3_Read_Holding_Register</th>\n",
              "      <th>FC4_Read_Coil</th>\n",
              "      <th>current_temperature</th>\n",
              "      <th>door_state</th>\n",
              "      <th>fridge_temperature</th>\n",
              "      <th>humidity</th>\n",
              "      <th>latitude</th>\n",
              "      <th>light_status</th>\n",
              "      <th>longitude</th>\n",
              "      <th>motion_status</th>\n",
              "      <th>pressure</th>\n",
              "      <th>sphone_signal</th>\n",
              "      <th>temp_condition</th>\n",
              "      <th>temperature</th>\n",
              "      <th>thermostat_status</th>\n",
              "      <th>label</th>\n",
              "    </tr>\n",
              "  </thead>\n",
              "  <tbody>\n",
              "    <tr>\n",
              "      <th>0</th>\n",
              "      <td>0.495216</td>\n",
              "      <td>0.499092</td>\n",
              "      <td>0.488897</td>\n",
              "      <td>0.499405</td>\n",
              "      <td>0.344399</td>\n",
              "      <td>0</td>\n",
              "      <td>0.930769</td>\n",
              "      <td>0.462511</td>\n",
              "      <td>0.008217</td>\n",
              "      <td>0</td>\n",
              "      <td>0.008112</td>\n",
              "      <td>0</td>\n",
              "      <td>0.533556</td>\n",
              "      <td>0.666667</td>\n",
              "      <td>0.2</td>\n",
              "      <td>0.517307</td>\n",
              "      <td>1</td>\n",
              "      <td>0</td>\n",
              "    </tr>\n",
              "    <tr>\n",
              "      <th>1</th>\n",
              "      <td>0.495216</td>\n",
              "      <td>0.499092</td>\n",
              "      <td>0.488897</td>\n",
              "      <td>0.499405</td>\n",
              "      <td>0.344399</td>\n",
              "      <td>0</td>\n",
              "      <td>0.588462</td>\n",
              "      <td>0.462511</td>\n",
              "      <td>0.008217</td>\n",
              "      <td>0</td>\n",
              "      <td>0.008112</td>\n",
              "      <td>0</td>\n",
              "      <td>0.533556</td>\n",
              "      <td>0.666667</td>\n",
              "      <td>0.2</td>\n",
              "      <td>0.517307</td>\n",
              "      <td>1</td>\n",
              "      <td>0</td>\n",
              "    </tr>\n",
              "    <tr>\n",
              "      <th>2</th>\n",
              "      <td>0.495216</td>\n",
              "      <td>0.499092</td>\n",
              "      <td>0.488897</td>\n",
              "      <td>0.499405</td>\n",
              "      <td>0.344399</td>\n",
              "      <td>0</td>\n",
              "      <td>0.076923</td>\n",
              "      <td>0.462511</td>\n",
              "      <td>0.008217</td>\n",
              "      <td>0</td>\n",
              "      <td>0.008112</td>\n",
              "      <td>0</td>\n",
              "      <td>0.533556</td>\n",
              "      <td>0.666667</td>\n",
              "      <td>0.8</td>\n",
              "      <td>0.517307</td>\n",
              "      <td>1</td>\n",
              "      <td>0</td>\n",
              "    </tr>\n",
              "    <tr>\n",
              "      <th>3</th>\n",
              "      <td>0.495216</td>\n",
              "      <td>0.499092</td>\n",
              "      <td>0.488897</td>\n",
              "      <td>0.499405</td>\n",
              "      <td>0.344399</td>\n",
              "      <td>0</td>\n",
              "      <td>0.292308</td>\n",
              "      <td>0.462511</td>\n",
              "      <td>0.008217</td>\n",
              "      <td>0</td>\n",
              "      <td>0.008112</td>\n",
              "      <td>0</td>\n",
              "      <td>0.533556</td>\n",
              "      <td>0.666667</td>\n",
              "      <td>0.8</td>\n",
              "      <td>0.517307</td>\n",
              "      <td>1</td>\n",
              "      <td>0</td>\n",
              "    </tr>\n",
              "    <tr>\n",
              "      <th>4</th>\n",
              "      <td>0.495216</td>\n",
              "      <td>0.499092</td>\n",
              "      <td>0.488897</td>\n",
              "      <td>0.499405</td>\n",
              "      <td>0.344399</td>\n",
              "      <td>0</td>\n",
              "      <td>0.746154</td>\n",
              "      <td>0.462511</td>\n",
              "      <td>0.008217</td>\n",
              "      <td>0</td>\n",
              "      <td>0.008112</td>\n",
              "      <td>0</td>\n",
              "      <td>0.533556</td>\n",
              "      <td>0.666667</td>\n",
              "      <td>0.2</td>\n",
              "      <td>0.517307</td>\n",
              "      <td>1</td>\n",
              "      <td>0</td>\n",
              "    </tr>\n",
              "  </tbody>\n",
              "</table>\n",
              "</div>\n",
              "      <button class=\"colab-df-convert\" onclick=\"convertToInteractive('df-68fa1ee8-3d08-4648-8815-8ee86086fa4b')\"\n",
              "              title=\"Convert this dataframe to an interactive table.\"\n",
              "              style=\"display:none;\">\n",
              "        \n",
              "  <svg xmlns=\"http://www.w3.org/2000/svg\" height=\"24px\"viewBox=\"0 0 24 24\"\n",
              "       width=\"24px\">\n",
              "    <path d=\"M0 0h24v24H0V0z\" fill=\"none\"/>\n",
              "    <path d=\"M18.56 5.44l.94 2.06.94-2.06 2.06-.94-2.06-.94-.94-2.06-.94 2.06-2.06.94zm-11 1L8.5 8.5l.94-2.06 2.06-.94-2.06-.94L8.5 2.5l-.94 2.06-2.06.94zm10 10l.94 2.06.94-2.06 2.06-.94-2.06-.94-.94-2.06-.94 2.06-2.06.94z\"/><path d=\"M17.41 7.96l-1.37-1.37c-.4-.4-.92-.59-1.43-.59-.52 0-1.04.2-1.43.59L10.3 9.45l-7.72 7.72c-.78.78-.78 2.05 0 2.83L4 21.41c.39.39.9.59 1.41.59.51 0 1.02-.2 1.41-.59l7.78-7.78 2.81-2.81c.8-.78.8-2.07 0-2.86zM5.41 20L4 18.59l7.72-7.72 1.47 1.35L5.41 20z\"/>\n",
              "  </svg>\n",
              "      </button>\n",
              "      \n",
              "  <style>\n",
              "    .colab-df-container {\n",
              "      display:flex;\n",
              "      flex-wrap:wrap;\n",
              "      gap: 12px;\n",
              "    }\n",
              "\n",
              "    .colab-df-convert {\n",
              "      background-color: #E8F0FE;\n",
              "      border: none;\n",
              "      border-radius: 50%;\n",
              "      cursor: pointer;\n",
              "      display: none;\n",
              "      fill: #1967D2;\n",
              "      height: 32px;\n",
              "      padding: 0 0 0 0;\n",
              "      width: 32px;\n",
              "    }\n",
              "\n",
              "    .colab-df-convert:hover {\n",
              "      background-color: #E2EBFA;\n",
              "      box-shadow: 0px 1px 2px rgba(60, 64, 67, 0.3), 0px 1px 3px 1px rgba(60, 64, 67, 0.15);\n",
              "      fill: #174EA6;\n",
              "    }\n",
              "\n",
              "    [theme=dark] .colab-df-convert {\n",
              "      background-color: #3B4455;\n",
              "      fill: #D2E3FC;\n",
              "    }\n",
              "\n",
              "    [theme=dark] .colab-df-convert:hover {\n",
              "      background-color: #434B5C;\n",
              "      box-shadow: 0px 1px 3px 1px rgba(0, 0, 0, 0.15);\n",
              "      filter: drop-shadow(0px 1px 2px rgba(0, 0, 0, 0.3));\n",
              "      fill: #FFFFFF;\n",
              "    }\n",
              "  </style>\n",
              "\n",
              "      <script>\n",
              "        const buttonEl =\n",
              "          document.querySelector('#df-68fa1ee8-3d08-4648-8815-8ee86086fa4b button.colab-df-convert');\n",
              "        buttonEl.style.display =\n",
              "          google.colab.kernel.accessAllowed ? 'block' : 'none';\n",
              "\n",
              "        async function convertToInteractive(key) {\n",
              "          const element = document.querySelector('#df-68fa1ee8-3d08-4648-8815-8ee86086fa4b');\n",
              "          const dataTable =\n",
              "            await google.colab.kernel.invokeFunction('convertToInteractive',\n",
              "                                                     [key], {});\n",
              "          if (!dataTable) return;\n",
              "\n",
              "          const docLinkHtml = 'Like what you see? Visit the ' +\n",
              "            '<a target=\"_blank\" href=https://colab.research.google.com/notebooks/data_table.ipynb>data table notebook</a>'\n",
              "            + ' to learn more about interactive tables.';\n",
              "          element.innerHTML = '';\n",
              "          dataTable['output_type'] = 'display_data';\n",
              "          await google.colab.output.renderOutput(dataTable, element);\n",
              "          const docLink = document.createElement('div');\n",
              "          docLink.innerHTML = docLinkHtml;\n",
              "          element.appendChild(docLink);\n",
              "        }\n",
              "      </script>\n",
              "    </div>\n",
              "  </div>\n",
              "  "
            ]
          },
          "metadata": {},
          "execution_count": 5
        }
      ],
      "source": [
        "dataset.head()"
      ]
    },
    {
      "cell_type": "code",
      "execution_count": null,
      "metadata": {
        "colab": {
          "base_uri": "https://localhost:8080/"
        },
        "id": "Bq4nVy0ILHdo",
        "outputId": "d3b7582d-5806-4c5d-e3c5-4659b2582050"
      },
      "outputs": [
        {
          "output_type": "stream",
          "name": "stdout",
          "text": [
            "(401119, 18)\n"
          ]
        }
      ],
      "source": [
        "print(dataset.shape)"
      ]
    },
    {
      "cell_type": "code",
      "execution_count": null,
      "metadata": {
        "colab": {
          "base_uri": "https://localhost:8080/"
        },
        "id": "gJVXzqugDdWd",
        "outputId": "ca504c77-090c-4bb9-a352-aa97dc710e7a"
      },
      "outputs": [
        {
          "output_type": "stream",
          "name": "stdout",
          "text": [
            "['FC1_Read_Input_Register', 'FC2_Read_Discrete_Value', 'FC3_Read_Holding_Register', 'FC4_Read_Coil', 'current_temperature', 'door_state', 'fridge_temperature', 'humidity', 'latitude', 'light_status', 'longitude', 'motion_status', 'pressure', 'sphone_signal', 'temp_condition', 'temperature', 'thermostat_status', 'label']\n"
          ]
        }
      ],
      "source": [
        "print(list(dataset.columns))"
      ]
    },
    {
      "cell_type": "code",
      "execution_count": null,
      "metadata": {
        "id": "kRuslnJmZbNZ",
        "outputId": "b975158a-2391-4dec-dae2-62e2cd6c7bfa",
        "colab": {
          "base_uri": "https://localhost:8080/"
        }
      },
      "outputs": [
        {
          "output_type": "execute_result",
          "data": {
            "text/plain": [
              "['label']"
            ]
          },
          "metadata": {},
          "execution_count": 11
        }
      ],
      "source": [
        "target_cols=list(dataset.columns[-1:])\n",
        "target_cols"
      ]
    },
    {
      "cell_type": "code",
      "execution_count": null,
      "metadata": {
        "colab": {
          "base_uri": "https://localhost:8080/"
        },
        "id": "qDuBF5llF833",
        "outputId": "e727a5d3-0398-41c4-a225-8f4791a88d48"
      },
      "outputs": [
        {
          "output_type": "execute_result",
          "data": {
            "text/plain": [
              "['FC1_Read_Input_Register',\n",
              " 'FC2_Read_Discrete_Value',\n",
              " 'FC3_Read_Holding_Register',\n",
              " 'FC4_Read_Coil',\n",
              " 'current_temperature',\n",
              " 'door_state',\n",
              " 'fridge_temperature',\n",
              " 'humidity',\n",
              " 'latitude',\n",
              " 'light_status',\n",
              " 'longitude',\n",
              " 'motion_status',\n",
              " 'pressure',\n",
              " 'sphone_signal',\n",
              " 'temp_condition',\n",
              " 'temperature',\n",
              " 'thermostat_status']"
            ]
          },
          "metadata": {},
          "execution_count": 12
        }
      ],
      "source": [
        "feature_cols= list(dataset.columns[:-1])\n",
        "feature_cols"
      ]
    },
    {
      "cell_type": "markdown",
      "metadata": {
        "id": "poF7HvW6DvVp"
      },
      "source": [
        "**Split Dataset**"
      ]
    },
    {
      "cell_type": "code",
      "execution_count": null,
      "metadata": {
        "id": "lHM3bLWKHel7"
      },
      "outputs": [],
      "source": [
        "#split dataset in features and target variable\n",
        "X = dataset.drop('label', axis=1) # Features\n",
        "y = dataset['label'] # Target variable"
      ]
    },
    {
      "cell_type": "code",
      "execution_count": null,
      "metadata": {
        "colab": {
          "base_uri": "https://localhost:8080/",
          "height": 270
        },
        "id": "55_7-v6UdUQX",
        "outputId": "ae718e2d-3380-4d10-c65f-f89dc2d9d9a1"
      },
      "outputs": [
        {
          "output_type": "execute_result",
          "data": {
            "text/plain": [
              "   FC1_Read_Input_Register  FC2_Read_Discrete_Value  \\\n",
              "0                 0.495216                 0.499092   \n",
              "1                 0.495216                 0.499092   \n",
              "2                 0.495216                 0.499092   \n",
              "3                 0.495216                 0.499092   \n",
              "4                 0.495216                 0.499092   \n",
              "\n",
              "   FC3_Read_Holding_Register  FC4_Read_Coil  current_temperature  door_state  \\\n",
              "0                   0.488897       0.499405             0.344399           0   \n",
              "1                   0.488897       0.499405             0.344399           0   \n",
              "2                   0.488897       0.499405             0.344399           0   \n",
              "3                   0.488897       0.499405             0.344399           0   \n",
              "4                   0.488897       0.499405             0.344399           0   \n",
              "\n",
              "   fridge_temperature  humidity  latitude  light_status  longitude  \\\n",
              "0            0.930769  0.462511  0.008217             0   0.008112   \n",
              "1            0.588462  0.462511  0.008217             0   0.008112   \n",
              "2            0.076923  0.462511  0.008217             0   0.008112   \n",
              "3            0.292308  0.462511  0.008217             0   0.008112   \n",
              "4            0.746154  0.462511  0.008217             0   0.008112   \n",
              "\n",
              "   motion_status  pressure  sphone_signal  temp_condition  temperature  \\\n",
              "0              0  0.533556       0.666667             0.2     0.517307   \n",
              "1              0  0.533556       0.666667             0.2     0.517307   \n",
              "2              0  0.533556       0.666667             0.8     0.517307   \n",
              "3              0  0.533556       0.666667             0.8     0.517307   \n",
              "4              0  0.533556       0.666667             0.2     0.517307   \n",
              "\n",
              "   thermostat_status  \n",
              "0                  1  \n",
              "1                  1  \n",
              "2                  1  \n",
              "3                  1  \n",
              "4                  1  "
            ],
            "text/html": [
              "\n",
              "  <div id=\"df-4a204d21-c38d-4025-bc4b-a69f1cb267cf\">\n",
              "    <div class=\"colab-df-container\">\n",
              "      <div>\n",
              "<style scoped>\n",
              "    .dataframe tbody tr th:only-of-type {\n",
              "        vertical-align: middle;\n",
              "    }\n",
              "\n",
              "    .dataframe tbody tr th {\n",
              "        vertical-align: top;\n",
              "    }\n",
              "\n",
              "    .dataframe thead th {\n",
              "        text-align: right;\n",
              "    }\n",
              "</style>\n",
              "<table border=\"1\" class=\"dataframe\">\n",
              "  <thead>\n",
              "    <tr style=\"text-align: right;\">\n",
              "      <th></th>\n",
              "      <th>FC1_Read_Input_Register</th>\n",
              "      <th>FC2_Read_Discrete_Value</th>\n",
              "      <th>FC3_Read_Holding_Register</th>\n",
              "      <th>FC4_Read_Coil</th>\n",
              "      <th>current_temperature</th>\n",
              "      <th>door_state</th>\n",
              "      <th>fridge_temperature</th>\n",
              "      <th>humidity</th>\n",
              "      <th>latitude</th>\n",
              "      <th>light_status</th>\n",
              "      <th>longitude</th>\n",
              "      <th>motion_status</th>\n",
              "      <th>pressure</th>\n",
              "      <th>sphone_signal</th>\n",
              "      <th>temp_condition</th>\n",
              "      <th>temperature</th>\n",
              "      <th>thermostat_status</th>\n",
              "    </tr>\n",
              "  </thead>\n",
              "  <tbody>\n",
              "    <tr>\n",
              "      <th>0</th>\n",
              "      <td>0.495216</td>\n",
              "      <td>0.499092</td>\n",
              "      <td>0.488897</td>\n",
              "      <td>0.499405</td>\n",
              "      <td>0.344399</td>\n",
              "      <td>0</td>\n",
              "      <td>0.930769</td>\n",
              "      <td>0.462511</td>\n",
              "      <td>0.008217</td>\n",
              "      <td>0</td>\n",
              "      <td>0.008112</td>\n",
              "      <td>0</td>\n",
              "      <td>0.533556</td>\n",
              "      <td>0.666667</td>\n",
              "      <td>0.2</td>\n",
              "      <td>0.517307</td>\n",
              "      <td>1</td>\n",
              "    </tr>\n",
              "    <tr>\n",
              "      <th>1</th>\n",
              "      <td>0.495216</td>\n",
              "      <td>0.499092</td>\n",
              "      <td>0.488897</td>\n",
              "      <td>0.499405</td>\n",
              "      <td>0.344399</td>\n",
              "      <td>0</td>\n",
              "      <td>0.588462</td>\n",
              "      <td>0.462511</td>\n",
              "      <td>0.008217</td>\n",
              "      <td>0</td>\n",
              "      <td>0.008112</td>\n",
              "      <td>0</td>\n",
              "      <td>0.533556</td>\n",
              "      <td>0.666667</td>\n",
              "      <td>0.2</td>\n",
              "      <td>0.517307</td>\n",
              "      <td>1</td>\n",
              "    </tr>\n",
              "    <tr>\n",
              "      <th>2</th>\n",
              "      <td>0.495216</td>\n",
              "      <td>0.499092</td>\n",
              "      <td>0.488897</td>\n",
              "      <td>0.499405</td>\n",
              "      <td>0.344399</td>\n",
              "      <td>0</td>\n",
              "      <td>0.076923</td>\n",
              "      <td>0.462511</td>\n",
              "      <td>0.008217</td>\n",
              "      <td>0</td>\n",
              "      <td>0.008112</td>\n",
              "      <td>0</td>\n",
              "      <td>0.533556</td>\n",
              "      <td>0.666667</td>\n",
              "      <td>0.8</td>\n",
              "      <td>0.517307</td>\n",
              "      <td>1</td>\n",
              "    </tr>\n",
              "    <tr>\n",
              "      <th>3</th>\n",
              "      <td>0.495216</td>\n",
              "      <td>0.499092</td>\n",
              "      <td>0.488897</td>\n",
              "      <td>0.499405</td>\n",
              "      <td>0.344399</td>\n",
              "      <td>0</td>\n",
              "      <td>0.292308</td>\n",
              "      <td>0.462511</td>\n",
              "      <td>0.008217</td>\n",
              "      <td>0</td>\n",
              "      <td>0.008112</td>\n",
              "      <td>0</td>\n",
              "      <td>0.533556</td>\n",
              "      <td>0.666667</td>\n",
              "      <td>0.8</td>\n",
              "      <td>0.517307</td>\n",
              "      <td>1</td>\n",
              "    </tr>\n",
              "    <tr>\n",
              "      <th>4</th>\n",
              "      <td>0.495216</td>\n",
              "      <td>0.499092</td>\n",
              "      <td>0.488897</td>\n",
              "      <td>0.499405</td>\n",
              "      <td>0.344399</td>\n",
              "      <td>0</td>\n",
              "      <td>0.746154</td>\n",
              "      <td>0.462511</td>\n",
              "      <td>0.008217</td>\n",
              "      <td>0</td>\n",
              "      <td>0.008112</td>\n",
              "      <td>0</td>\n",
              "      <td>0.533556</td>\n",
              "      <td>0.666667</td>\n",
              "      <td>0.2</td>\n",
              "      <td>0.517307</td>\n",
              "      <td>1</td>\n",
              "    </tr>\n",
              "  </tbody>\n",
              "</table>\n",
              "</div>\n",
              "      <button class=\"colab-df-convert\" onclick=\"convertToInteractive('df-4a204d21-c38d-4025-bc4b-a69f1cb267cf')\"\n",
              "              title=\"Convert this dataframe to an interactive table.\"\n",
              "              style=\"display:none;\">\n",
              "        \n",
              "  <svg xmlns=\"http://www.w3.org/2000/svg\" height=\"24px\"viewBox=\"0 0 24 24\"\n",
              "       width=\"24px\">\n",
              "    <path d=\"M0 0h24v24H0V0z\" fill=\"none\"/>\n",
              "    <path d=\"M18.56 5.44l.94 2.06.94-2.06 2.06-.94-2.06-.94-.94-2.06-.94 2.06-2.06.94zm-11 1L8.5 8.5l.94-2.06 2.06-.94-2.06-.94L8.5 2.5l-.94 2.06-2.06.94zm10 10l.94 2.06.94-2.06 2.06-.94-2.06-.94-.94-2.06-.94 2.06-2.06.94z\"/><path d=\"M17.41 7.96l-1.37-1.37c-.4-.4-.92-.59-1.43-.59-.52 0-1.04.2-1.43.59L10.3 9.45l-7.72 7.72c-.78.78-.78 2.05 0 2.83L4 21.41c.39.39.9.59 1.41.59.51 0 1.02-.2 1.41-.59l7.78-7.78 2.81-2.81c.8-.78.8-2.07 0-2.86zM5.41 20L4 18.59l7.72-7.72 1.47 1.35L5.41 20z\"/>\n",
              "  </svg>\n",
              "      </button>\n",
              "      \n",
              "  <style>\n",
              "    .colab-df-container {\n",
              "      display:flex;\n",
              "      flex-wrap:wrap;\n",
              "      gap: 12px;\n",
              "    }\n",
              "\n",
              "    .colab-df-convert {\n",
              "      background-color: #E8F0FE;\n",
              "      border: none;\n",
              "      border-radius: 50%;\n",
              "      cursor: pointer;\n",
              "      display: none;\n",
              "      fill: #1967D2;\n",
              "      height: 32px;\n",
              "      padding: 0 0 0 0;\n",
              "      width: 32px;\n",
              "    }\n",
              "\n",
              "    .colab-df-convert:hover {\n",
              "      background-color: #E2EBFA;\n",
              "      box-shadow: 0px 1px 2px rgba(60, 64, 67, 0.3), 0px 1px 3px 1px rgba(60, 64, 67, 0.15);\n",
              "      fill: #174EA6;\n",
              "    }\n",
              "\n",
              "    [theme=dark] .colab-df-convert {\n",
              "      background-color: #3B4455;\n",
              "      fill: #D2E3FC;\n",
              "    }\n",
              "\n",
              "    [theme=dark] .colab-df-convert:hover {\n",
              "      background-color: #434B5C;\n",
              "      box-shadow: 0px 1px 3px 1px rgba(0, 0, 0, 0.15);\n",
              "      filter: drop-shadow(0px 1px 2px rgba(0, 0, 0, 0.3));\n",
              "      fill: #FFFFFF;\n",
              "    }\n",
              "  </style>\n",
              "\n",
              "      <script>\n",
              "        const buttonEl =\n",
              "          document.querySelector('#df-4a204d21-c38d-4025-bc4b-a69f1cb267cf button.colab-df-convert');\n",
              "        buttonEl.style.display =\n",
              "          google.colab.kernel.accessAllowed ? 'block' : 'none';\n",
              "\n",
              "        async function convertToInteractive(key) {\n",
              "          const element = document.querySelector('#df-4a204d21-c38d-4025-bc4b-a69f1cb267cf');\n",
              "          const dataTable =\n",
              "            await google.colab.kernel.invokeFunction('convertToInteractive',\n",
              "                                                     [key], {});\n",
              "          if (!dataTable) return;\n",
              "\n",
              "          const docLinkHtml = 'Like what you see? Visit the ' +\n",
              "            '<a target=\"_blank\" href=https://colab.research.google.com/notebooks/data_table.ipynb>data table notebook</a>'\n",
              "            + ' to learn more about interactive tables.';\n",
              "          element.innerHTML = '';\n",
              "          dataTable['output_type'] = 'display_data';\n",
              "          await google.colab.output.renderOutput(dataTable, element);\n",
              "          const docLink = document.createElement('div');\n",
              "          docLink.innerHTML = docLinkHtml;\n",
              "          element.appendChild(docLink);\n",
              "        }\n",
              "      </script>\n",
              "    </div>\n",
              "  </div>\n",
              "  "
            ]
          },
          "metadata": {},
          "execution_count": 14
        }
      ],
      "source": [
        "X.head()"
      ]
    },
    {
      "cell_type": "code",
      "execution_count": null,
      "metadata": {
        "colab": {
          "base_uri": "https://localhost:8080/"
        },
        "id": "Qc42gmuXdYTE",
        "outputId": "8fc3c201-49f6-4388-c1c9-e118d5900f42"
      },
      "outputs": [
        {
          "output_type": "execute_result",
          "data": {
            "text/plain": [
              "0    0\n",
              "1    0\n",
              "2    0\n",
              "3    0\n",
              "4    0\n",
              "Name: label, dtype: int64"
            ]
          },
          "metadata": {},
          "execution_count": 15
        }
      ],
      "source": [
        "y.head()"
      ]
    },
    {
      "cell_type": "markdown",
      "metadata": {
        "id": "1v471CZ0DpxX"
      },
      "source": [
        "**Splitting Data**"
      ]
    },
    {
      "cell_type": "code",
      "execution_count": null,
      "metadata": {
        "id": "Xt-6HOnsDngY"
      },
      "outputs": [],
      "source": [
        "# Split dataset into training set and test set\n",
        "X_train, X_test, y_train, y_test = train_test_split(X, y, test_size=0.3, random_state=1) # 70% training and 30% test"
      ]
    },
    {
      "cell_type": "markdown",
      "source": [],
      "metadata": {
        "id": "v8HgjUedj9Lc"
      }
    },
    {
      "cell_type": "code",
      "execution_count": null,
      "metadata": {
        "colab": {
          "base_uri": "https://localhost:8080/"
        },
        "id": "QpwOt4T3JJwY",
        "outputId": "4ab0a1ad-c82f-41aa-b5a2-40a4f45ee5bb"
      },
      "outputs": [
        {
          "output_type": "stream",
          "name": "stdout",
          "text": [
            "X_train shape is :  (280783, 17)\n",
            "X_test shape  is :  (120336, 17)\n",
            "y_train shape is :  (280783,)\n",
            "y_test shape is  :  (120336,)\n"
          ]
        }
      ],
      "source": [
        "# Check the shape of all of these\n",
        "print(\"X_train shape is : \", X_train.shape)\n",
        "print(\"X_test shape  is : \", X_test.shape)\n",
        "print(\"y_train shape is : \", y_train.shape)\n",
        "print(\"y_test shape is  : \", y_test.shape)"
      ]
    },
    {
      "cell_type": "markdown",
      "metadata": {
        "id": "uu8yDYOAEZlI"
      },
      "source": [
        "**Building Decision Tree Model**"
      ]
    },
    {
      "cell_type": "code",
      "execution_count": null,
      "metadata": {
        "id": "aI8YKd80EgRn"
      },
      "outputs": [],
      "source": [
        "#Calculate start time\n",
        "start = timeit.default_timer()\n",
        "\n",
        "#Create a Gaussian Classifier\n",
        "clf=RandomForestClassifier(n_estimators=100)\n",
        "\n",
        "#Train the model using the training sets y_pred=clf.predict(X_test)\n",
        "clf.fit(X_train,y_train)\n",
        "\n",
        "#Calculate Stop time\n",
        "stop = timeit.default_timer()\n",
        "train_time= stop - start"
      ]
    },
    {
      "cell_type": "code",
      "execution_count": null,
      "metadata": {
        "id": "zqTSnzBrE9sk"
      },
      "outputs": [],
      "source": [
        "#Calculate start time\n",
        "start = timeit.default_timer()\n",
        "\n",
        "# Predict the model\n",
        "y_pred=clf.predict(X_test)\n",
        "\n",
        "#Calculate Stop time\n",
        "stop = timeit.default_timer()\n",
        "test_time= stop - start"
      ]
    },
    {
      "cell_type": "markdown",
      "metadata": {
        "id": "cGaWzP_KEnwY"
      },
      "source": [
        "**Evaluating Model**"
      ]
    },
    {
      "cell_type": "code",
      "execution_count": null,
      "metadata": {
        "id": "cx_AR8-nEnrd",
        "outputId": "df7fcf90-73b0-4efe-b83d-d40b1b3c8649",
        "colab": {
          "base_uri": "https://localhost:8080/"
        }
      },
      "outputs": [
        {
          "output_type": "stream",
          "name": "stdout",
          "text": [
            "[[69895  3600]\n",
            " [12052 34789]]\n",
            "              precision    recall  f1-score   support\n",
            "\n",
            "           0       0.85      0.95      0.90     73495\n",
            "           1       0.91      0.74      0.82     46841\n",
            "\n",
            "    accuracy                           0.87    120336\n",
            "   macro avg       0.88      0.85      0.86    120336\n",
            "weighted avg       0.87      0.87      0.87    120336\n",
            "\n"
          ]
        }
      ],
      "source": [
        "print(confusion_matrix(y_test,y_pred))\n",
        "print(classification_report(y_test,y_pred))"
      ]
    },
    {
      "cell_type": "code",
      "execution_count": null,
      "metadata": {
        "colab": {
          "base_uri": "https://localhost:8080/"
        },
        "id": "0dfwhoczEpdZ",
        "outputId": "d491f1e4-93cf-4287-99f7-57b432f8c025"
      },
      "outputs": [
        {
          "output_type": "stream",
          "name": "stdout",
          "text": [
            "Accuracy: 0.8699308602579444\n",
            "Precision: 0.9062231368360728\n",
            "Recall: 0.7427040413313123\n",
            "F1 Score: 0.8163557432828815\n",
            "Mean Absolute Error: 0.13006913974205558\n",
            "Cohens kappa: 0.7171871925765272\n",
            "ROC AUC: 0.8468605586614382\n",
            "Train Time(s):  44.389912773000106\n",
            "Test Time(s):  2.483583191999969\n"
          ]
        }
      ],
      "source": [
        "# Model Accuracy: how often is the classifier correct?\n",
        "print(\"Accuracy:\",metrics.accuracy_score(y_test, y_pred))\n",
        "\n",
        "# Model Precision: what percentage of positive tuples are labeled as such?\n",
        "print(\"Precision:\",metrics.precision_score(y_test, y_pred))\n",
        "\n",
        "# Model Recall: what percentage of positive tuples are labelled as such?\n",
        "print(\"Recall:\",metrics.recall_score(y_test, y_pred))\n",
        "\n",
        "#Calculate F1 Score\n",
        "print(\"F1 Score:\",metrics.f1_score(y_test, y_pred))\n",
        "\n",
        "#Calculate Mean Absolute Error\n",
        "print(\"Mean Absolute Error:\",metrics.mean_absolute_error(y_test, y_pred))\n",
        "\n",
        "# kappa\n",
        "print(\"Cohens kappa:\", metrics.cohen_kappa_score(y_test, y_pred))\n",
        "\n",
        "# ROC AUC\n",
        "print(\"ROC AUC:\", metrics.roc_auc_score(y_test, y_pred))\n",
        "\n",
        "#Train time\n",
        "print('Train Time(s): ',train_time) \n",
        "\n",
        "#Test time\n",
        "print('Test Time(s): ',test_time)"
      ]
    },
    {
      "cell_type": "code",
      "execution_count": null,
      "metadata": {
        "id": "t-yPMGUxEnre"
      },
      "outputs": [],
      "source": [
        "fpr, tpr, thresholds = roc_curve(y_test, y_pred)\n",
        "\n",
        "def plot_roc_curve(fpr, tpr):\n",
        "    plt.plot(fpr, tpr, color='orange', label='ROC')\n",
        "    plt.plot([0, 1], [0, 1], color='darkblue', linestyle='--')\n",
        "    plt.xlabel('False Positive Rate')\n",
        "    plt.ylabel('True Positive Rate')\n",
        "    plt.title('Receiver Operating Characteristic (ROC) Curve')\n",
        "    plt.legend()\n",
        "    plt.show()"
      ]
    },
    {
      "cell_type": "code",
      "execution_count": null,
      "metadata": {
        "id": "GeMXXGAMEnre",
        "outputId": "b48eabc8-1f1e-4fa1-d020-c346579779c2",
        "colab": {
          "base_uri": "https://localhost:8080/",
          "height": 295
        }
      },
      "outputs": [
        {
          "output_type": "display_data",
          "data": {
            "text/plain": [
              "<Figure size 432x288 with 1 Axes>"
            ],
            "image/png": "[encoded data removed]"
          },
          "metadata": {
            "needs_background": "light"
          }
        }
      ],
      "source": [
        "plot_roc_curve(fpr, tpr)"
      ]
    },
    {
      "cell_type": "code",
      "execution_count": null,
      "metadata": {
        "id": "2fWJi8WHEnrf"
      },
      "outputs": [],
      "source": [
        "report = classification_report(y_test, y_pred, output_dict=True)\n",
        "df = pd.DataFrame(report).transpose()\n",
        "df.to_csv('TML-RF_Result.csv')"
      ]
    },
    {
      "cell_type": "markdown",
      "metadata": {
        "id": "NDXrYMtIIEch"
      },
      "source": [
        "**Finding Important Features in Scikit-learn**"
      ]
    },
    {
      "cell_type": "code",
      "execution_count": null,
      "metadata": {
        "colab": {
          "base_uri": "https://localhost:8080/"
        },
        "id": "sMibb17jIDu6",
        "outputId": "0ad26cd4-f091-4725-8393-4c4e46dd66d1"
      },
      "outputs": [
        {
          "output_type": "execute_result",
          "data": {
            "text/plain": [
              "current_temperature          0.148117\n",
              "temp_condition               0.145370\n",
              "sphone_signal                0.137393\n",
              "latitude                     0.100979\n",
              "pressure                     0.091107\n",
              "longitude                    0.080220\n",
              "humidity                     0.053349\n",
              "temperature                  0.048051\n",
              "fridge_temperature           0.045483\n",
              "FC4_Read_Coil                0.036231\n",
              "FC2_Read_Discrete_Value      0.036142\n",
              "FC3_Read_Holding_Register    0.036119\n",
              "FC1_Read_Input_Register      0.035905\n",
              "motion_status                0.001945\n",
              "light_status                 0.001840\n",
              "door_state                   0.001590\n",
              "thermostat_status            0.000159\n",
              "dtype: float64"
            ]
          },
          "metadata": {},
          "execution_count": 31
        }
      ],
      "source": [
        "feature_imp = pd.Series(clf.feature_importances_,index=feature_cols).sort_values(ascending=False)\n",
        "feature_imp"
      ]
    },
    {
      "cell_type": "code",
      "execution_count": null,
      "metadata": {
        "colab": {
          "base_uri": "https://localhost:8080/",
          "height": 295
        },
        "id": "gLGNmQzci_P0",
        "outputId": "af4fa7e6-dba4-468f-e689-4fb04cdfeccf"
      },
      "outputs": [
        {
          "output_type": "display_data",
          "data": {
            "text/plain": [
              "<Figure size 432x288 with 1 Axes>"
            ],
            "image/png": "[encoded data removed]"
          },
          "metadata": {
            "needs_background": "light"
          }
        }
      ],
      "source": [
        "import matplotlib.pyplot as plt\n",
        "import seaborn as sns\n",
        "%matplotlib inline\n",
        "# Creating a bar plot\n",
        "sns.barplot(x=feature_imp, y=feature_imp.index)\n",
        "# Add labels to your graph\n",
        "plt.xlabel('Feature Importance Score')\n",
        "plt.ylabel('Features')\n",
        "plt.title(\"Visualizing Important Features\")\n",
        "plt.show()"
      ]
    },
    {
      "cell_type": "markdown",
      "metadata": {
        "id": "6njkTfXUcbxc"
      },
      "source": [
        "**Generating the Model on Selected Features**"
      ]
    },
    {
      "cell_type": "code",
      "execution_count": null,
      "metadata": {
        "id": "AANBBX1ScdlL"
      },
      "outputs": [],
      "source": [
        "# Split dataset into features and labels\n",
        "X = dataset.drop(['label','motion_status','door_state','light_status','thermostat_status','FC1_Read_Input_Register','FC3_Read_Holding_Register'], axis=1) # New Features\n",
        "y=dataset['label']                                       \n",
        "# Split dataset into training set and test set\n",
        "X_train, X_test, y_train, y_test = train_test_split(X, y, test_size=0.70, random_state=5) # 70% training and 30% test"
      ]
    },
    {
      "cell_type": "code",
      "execution_count": null,
      "metadata": {
        "id": "xSoWEdtcEnrg",
        "outputId": "c2647512-1f98-4d3b-8843-3463e7c170a5",
        "colab": {
          "base_uri": "https://localhost:8080/"
        }
      },
      "outputs": [
        {
          "output_type": "stream",
          "name": "stdout",
          "text": [
            "(401119, 11)\n"
          ]
        }
      ],
      "source": [
        "print(X.shape)"
      ]
    },
    {
      "cell_type": "code",
      "execution_count": null,
      "metadata": {
        "id": "3_nVLG7hcmrd"
      },
      "outputs": [],
      "source": [
        "#Calculate start time\n",
        "start = timeit.default_timer()\n",
        "\n",
        "#Create a Gaussian Classifier\n",
        "clf=RandomForestClassifier(n_estimators=100)\n",
        "\n",
        "#Train the model using the training sets y_pred=clf.predict(X_test)\n",
        "clf.fit(X_train,y_train)\n",
        "\n",
        "#Calculate Stop time\n",
        "stop = timeit.default_timer()\n",
        "train_time= stop - start"
      ]
    },
    {
      "cell_type": "code",
      "execution_count": null,
      "metadata": {
        "id": "NUEKjOVvEnrh"
      },
      "outputs": [],
      "source": [
        "#Calculate start time\n",
        "start = timeit.default_timer()\n",
        "\n",
        "# Predict the model\n",
        "y_pred=clf.predict(X_test)\n",
        "\n",
        "#Calculate Stop time\n",
        "stop = timeit.default_timer()\n",
        "test_time= stop - start"
      ]
    },
    {
      "cell_type": "code",
      "execution_count": null,
      "metadata": {
        "id": "Vy_yFi67Enrh",
        "outputId": "647b403e-12ec-4bd0-b4b5-485b9a1b15c2",
        "colab": {
          "base_uri": "https://localhost:8080/"
        }
      },
      "outputs": [
        {
          "output_type": "stream",
          "name": "stdout",
          "text": [
            "Accuracy: 0.8469570915721694\n",
            "Precision: 0.8755475567930999\n",
            "Recall: 0.7075158466646544\n",
            "F1 Score: 0.7826139743823225\n",
            "Mean Absolute Error: 0.15304290842783064\n",
            "Mean Absolute Error: 0.15304290842783064\n",
            "Cohens kappa: 0.666564690402745\n",
            "Train Time(s):  14.656240606999745\n",
            "Test Time(s):  6.0471039590001965\n"
          ]
        }
      ],
      "source": [
        "# Model Accuracy: how often is the classifier correct?\n",
        "print(\"Accuracy:\",metrics.accuracy_score(y_test, y_pred))\n",
        "\n",
        "# Model Precision: what percentage of positive tuples are labeled as such?\n",
        "print(\"Precision:\",metrics.precision_score(y_test, y_pred))\n",
        "\n",
        "# Model Recall: what percentage of positive tuples are labelled as such?\n",
        "print(\"Recall:\",metrics.recall_score(y_test, y_pred))\n",
        "\n",
        "#Calculate F1 Score\n",
        "print(\"F1 Score:\",metrics.f1_score(y_test, y_pred))\n",
        "\n",
        "#Calculate Mean Absolute Error\n",
        "print(\"Mean Absolute Error:\",metrics.mean_absolute_error(y_test, y_pred))\n",
        "\n",
        "#Calculate Mean Absolute Error\n",
        "print(\"Mean Absolute Error:\",metrics.mean_absolute_error(y_test, y_pred))\n",
        "\n",
        "# kappa\n",
        "print(\"Cohens kappa:\", metrics.cohen_kappa_score(y_test, y_pred))\n",
        "\n",
        "#Train time\n",
        "print('Train Time(s): ',train_time) \n",
        "\n",
        "#Test time\n",
        "print('Test Time(s): ',test_time)"
      ]
    }
  ],
  "metadata": {
    "colab": {
      "collapsed_sections": [],
      "provenance": [],
      "include_colab_link": true
    },
    "kernelspec": {
      "display_name": "Python 3",
      "language": "python",
      "name": "python3"
    },
    "language_info": {
      "codemirror_mode": {
        "name": "ipython",
        "version": 3
      },
      "file_extension": ".py",
      "mimetype": "text/x-python",
      "name": "python",
      "nbconvert_exporter": "python",
      "pygments_lexer": "ipython3",
      "version": "3.7.3"
    }
  },
  "nbformat": 4,
  "nbformat_minor": 0
}